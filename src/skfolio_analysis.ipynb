{
 "cells": [
  {
   "cell_type": "code",
   "execution_count": 1,
   "metadata": {},
   "outputs": [],
   "source": [
    "import os\n",
    "import pandas as pd\n",
    "from src import utils\n",
    "import plotly.io as pio\n",
    "from plotly.io import show\n",
    "import numpy as np\n",
    "\n",
    "from dotenv import load_dotenv\n",
    "load_dotenv()\n",
    "\n",
    "import matplotlib.pyplot as plt\n",
    "\n",
    "from skfolio import Population, RiskMeasure, Portfolio\n",
    "from skfolio.model_selection import cross_val_predict, CombinatorialPurgedCV\n",
    "from skfolio.optimization import (\n",
    "    MeanRisk,\n",
    "    ObjectiveFunction,\n",
    "    EqualWeighted,\n",
    "    InverseVolatility,\n",
    "    RiskBudgeting\n",
    ")\n",
    "\n",
    "PORTFOLIO_PATH = os.getenv('PORTFOLIO_PATH')"
   ]
  },
  {
   "cell_type": "markdown",
   "metadata": {},
   "source": [
    "# Fetch Data\n"
   ]
  },
  {
   "cell_type": "code",
   "execution_count": 2,
   "metadata": {},
   "outputs": [
    {
     "data": {
      "text/plain": [
       "['SANOFI',\n",
       " 'JAIBALAJI',\n",
       " 'INGERRAND',\n",
       " 'PGHH',\n",
       " 'GANESHHOUC',\n",
       " 'SHARDAMOTR',\n",
       " 'AKZOINDIA',\n",
       " 'TANLA',\n",
       " 'MGL',\n",
       " 'MSTCLTD',\n",
       " 'CHENNPETRO',\n",
       " 'NIITLTD',\n",
       " 'NEULANDLAB',\n",
       " 'VSTIND',\n",
       " 'VOLTAMP',\n",
       " 'ECLERX',\n",
       " 'SHAKTIPUMP',\n",
       " 'ELECON',\n",
       " 'SAFARI',\n",
       " 'RAYMOND',\n",
       " 'JAMNAAUTO',\n",
       " 'BSOFT',\n",
       " 'GPIL',\n",
       " 'MANINFRA']"
      ]
     },
     "execution_count": 2,
     "metadata": {},
     "output_type": "execute_result"
    }
   ],
   "source": [
    "tickers = []\n",
    "with open(PORTFOLIO_PATH+'/custom.txt') as f:\n",
    "    tickers = [s.strip() for s in f.readlines()]\n",
    "\n",
    "tickers"
   ]
  },
  {
   "cell_type": "code",
   "execution_count": 3,
   "metadata": {},
   "outputs": [
    {
     "name": "stdout",
     "output_type": "stream",
     "text": [
      "Fetching data for JAIBALAJI: 5081 rows\n",
      "Fetching data for INGERRAND: 5456 rows\n",
      "Fetching data for PGHH: 5426 rows\n",
      "Fetching data for GANESHHOUC: 4267 rows\n",
      "Fetching data for SHARDAMOTR: 2168 rows\n",
      "Fetching data for AKZOINDIA: 5456 rows\n",
      "Fetching data for TANLA: 4304 rows\n",
      "Fetching data for MGL: 1967 rows\n",
      "Fetching data for MSTCLTD: 1291 rows\n",
      "Fetching data for CHENNPETRO: 5456 rows\n",
      "Fetching data for NIITLTD: 5588 rows\n",
      "Fetching data for NEULANDLAB: 3866 rows\n",
      "Fetching data for VSTIND: 5456 rows\n",
      "Fetching data for VOLTAMP: 4376 rows\n",
      "Fetching data for ECLERX: 4060 rows\n",
      "Fetching data for SHAKTIPUMP: 3118 rows\n",
      "Fetching data for ELECON: 4369 rows\n",
      "Fetching data for SAFARI: 1182 rows\n",
      "Fetching data for RAYMOND: 7151 rows\n",
      "Fetching data for JAMNAAUTO: 3335 rows\n",
      "Fetching data for BSOFT: 5460 rows\n",
      "Fetching data for GPIL: 4480 rows\n",
      "Fetching data for MANINFRA: 3525 rows\n"
     ]
    },
    {
     "data": {
      "text/html": [
       "<div>\n",
       "<style scoped>\n",
       "    .dataframe tbody tr th:only-of-type {\n",
       "        vertical-align: middle;\n",
       "    }\n",
       "\n",
       "    .dataframe tbody tr th {\n",
       "        vertical-align: top;\n",
       "    }\n",
       "\n",
       "    .dataframe thead th {\n",
       "        text-align: right;\n",
       "    }\n",
       "</style>\n",
       "<table border=\"1\" class=\"dataframe\">\n",
       "  <thead>\n",
       "    <tr style=\"text-align: right;\">\n",
       "      <th></th>\n",
       "      <th>SANOFI</th>\n",
       "      <th>JAIBALAJI</th>\n",
       "      <th>INGERRAND</th>\n",
       "      <th>PGHH</th>\n",
       "      <th>GANESHHOUC</th>\n",
       "      <th>SHARDAMOTR</th>\n",
       "      <th>AKZOINDIA</th>\n",
       "      <th>TANLA</th>\n",
       "      <th>MGL</th>\n",
       "      <th>MSTCLTD</th>\n",
       "      <th>...</th>\n",
       "      <th>VOLTAMP</th>\n",
       "      <th>ECLERX</th>\n",
       "      <th>SHAKTIPUMP</th>\n",
       "      <th>ELECON</th>\n",
       "      <th>SAFARI</th>\n",
       "      <th>RAYMOND</th>\n",
       "      <th>JAMNAAUTO</th>\n",
       "      <th>BSOFT</th>\n",
       "      <th>GPIL</th>\n",
       "      <th>MANINFRA</th>\n",
       "    </tr>\n",
       "    <tr>\n",
       "      <th>Date</th>\n",
       "      <th></th>\n",
       "      <th></th>\n",
       "      <th></th>\n",
       "      <th></th>\n",
       "      <th></th>\n",
       "      <th></th>\n",
       "      <th></th>\n",
       "      <th></th>\n",
       "      <th></th>\n",
       "      <th></th>\n",
       "      <th></th>\n",
       "      <th></th>\n",
       "      <th></th>\n",
       "      <th></th>\n",
       "      <th></th>\n",
       "      <th></th>\n",
       "      <th></th>\n",
       "      <th></th>\n",
       "      <th></th>\n",
       "      <th></th>\n",
       "      <th></th>\n",
       "    </tr>\n",
       "  </thead>\n",
       "  <tbody>\n",
       "    <tr>\n",
       "      <th>2019-09-13</th>\n",
       "      <td>0.000531</td>\n",
       "      <td>0.048128</td>\n",
       "      <td>0.000749</td>\n",
       "      <td>0.020017</td>\n",
       "      <td>0.050272</td>\n",
       "      <td>0.002570</td>\n",
       "      <td>0.000353</td>\n",
       "      <td>-0.023789</td>\n",
       "      <td>0.008507</td>\n",
       "      <td>0.035867</td>\n",
       "      <td>...</td>\n",
       "      <td>0.016461</td>\n",
       "      <td>0.001389</td>\n",
       "      <td>-0.009035</td>\n",
       "      <td>-0.026667</td>\n",
       "      <td>-0.000801</td>\n",
       "      <td>-0.014164</td>\n",
       "      <td>-0.011703</td>\n",
       "      <td>0.027720</td>\n",
       "      <td>0.014706</td>\n",
       "      <td>-0.006772</td>\n",
       "    </tr>\n",
       "    <tr>\n",
       "      <th>2019-09-16</th>\n",
       "      <td>-0.007497</td>\n",
       "      <td>0.048469</td>\n",
       "      <td>-0.005409</td>\n",
       "      <td>0.005418</td>\n",
       "      <td>0.144890</td>\n",
       "      <td>-0.015281</td>\n",
       "      <td>0.002529</td>\n",
       "      <td>-0.018277</td>\n",
       "      <td>-0.007373</td>\n",
       "      <td>-0.032558</td>\n",
       "      <td>...</td>\n",
       "      <td>0.004038</td>\n",
       "      <td>0.135908</td>\n",
       "      <td>-0.015355</td>\n",
       "      <td>-0.006088</td>\n",
       "      <td>-0.004634</td>\n",
       "      <td>-0.018986</td>\n",
       "      <td>-0.034210</td>\n",
       "      <td>-0.035738</td>\n",
       "      <td>0.024457</td>\n",
       "      <td>0.004545</td>\n",
       "    </tr>\n",
       "    <tr>\n",
       "      <th>2019-09-17</th>\n",
       "      <td>-0.015506</td>\n",
       "      <td>0.048662</td>\n",
       "      <td>0.001088</td>\n",
       "      <td>-0.003525</td>\n",
       "      <td>-0.042938</td>\n",
       "      <td>-0.013487</td>\n",
       "      <td>0.001056</td>\n",
       "      <td>-0.037234</td>\n",
       "      <td>-0.010756</td>\n",
       "      <td>-0.033120</td>\n",
       "      <td>...</td>\n",
       "      <td>0.017883</td>\n",
       "      <td>-0.059823</td>\n",
       "      <td>-0.015594</td>\n",
       "      <td>-0.021439</td>\n",
       "      <td>0.006267</td>\n",
       "      <td>-0.010897</td>\n",
       "      <td>0.010899</td>\n",
       "      <td>-0.063636</td>\n",
       "      <td>-0.078102</td>\n",
       "      <td>-0.006787</td>\n",
       "    </tr>\n",
       "    <tr>\n",
       "      <th>2019-09-18</th>\n",
       "      <td>0.001683</td>\n",
       "      <td>0.039443</td>\n",
       "      <td>0.002507</td>\n",
       "      <td>0.011628</td>\n",
       "      <td>0.007084</td>\n",
       "      <td>-0.000845</td>\n",
       "      <td>-0.004600</td>\n",
       "      <td>0.013812</td>\n",
       "      <td>0.005286</td>\n",
       "      <td>0.016022</td>\n",
       "      <td>...</td>\n",
       "      <td>-0.001177</td>\n",
       "      <td>0.039357</td>\n",
       "      <td>0.042953</td>\n",
       "      <td>0.006260</td>\n",
       "      <td>0.008007</td>\n",
       "      <td>-0.007051</td>\n",
       "      <td>-0.004043</td>\n",
       "      <td>0.000747</td>\n",
       "      <td>-0.002238</td>\n",
       "      <td>-0.031891</td>\n",
       "    </tr>\n",
       "    <tr>\n",
       "      <th>2019-09-19</th>\n",
       "      <td>-0.023237</td>\n",
       "      <td>-0.049107</td>\n",
       "      <td>-0.000500</td>\n",
       "      <td>0.000034</td>\n",
       "      <td>-0.033998</td>\n",
       "      <td>-0.009509</td>\n",
       "      <td>0.006623</td>\n",
       "      <td>-0.021798</td>\n",
       "      <td>-0.009501</td>\n",
       "      <td>-0.054377</td>\n",
       "      <td>...</td>\n",
       "      <td>-0.004797</td>\n",
       "      <td>-0.034695</td>\n",
       "      <td>-0.026062</td>\n",
       "      <td>-0.010887</td>\n",
       "      <td>-0.013416</td>\n",
       "      <td>-0.006746</td>\n",
       "      <td>-0.041949</td>\n",
       "      <td>-0.003731</td>\n",
       "      <td>-0.064082</td>\n",
       "      <td>-0.044706</td>\n",
       "    </tr>\n",
       "    <tr>\n",
       "      <th>...</th>\n",
       "      <td>...</td>\n",
       "      <td>...</td>\n",
       "      <td>...</td>\n",
       "      <td>...</td>\n",
       "      <td>...</td>\n",
       "      <td>...</td>\n",
       "      <td>...</td>\n",
       "      <td>...</td>\n",
       "      <td>...</td>\n",
       "      <td>...</td>\n",
       "      <td>...</td>\n",
       "      <td>...</td>\n",
       "      <td>...</td>\n",
       "      <td>...</td>\n",
       "      <td>...</td>\n",
       "      <td>...</td>\n",
       "      <td>...</td>\n",
       "      <td>...</td>\n",
       "      <td>...</td>\n",
       "      <td>...</td>\n",
       "      <td>...</td>\n",
       "    </tr>\n",
       "    <tr>\n",
       "      <th>2024-06-19</th>\n",
       "      <td>0.001414</td>\n",
       "      <td>-0.014770</td>\n",
       "      <td>-0.000259</td>\n",
       "      <td>-0.010449</td>\n",
       "      <td>-0.050841</td>\n",
       "      <td>-0.006108</td>\n",
       "      <td>-0.010364</td>\n",
       "      <td>-0.012393</td>\n",
       "      <td>-0.017395</td>\n",
       "      <td>-0.024670</td>\n",
       "      <td>...</td>\n",
       "      <td>-0.006343</td>\n",
       "      <td>0.005445</td>\n",
       "      <td>0.049998</td>\n",
       "      <td>0.001653</td>\n",
       "      <td>-0.003609</td>\n",
       "      <td>-0.019853</td>\n",
       "      <td>-0.012359</td>\n",
       "      <td>0.010310</td>\n",
       "      <td>0.020066</td>\n",
       "      <td>-0.015871</td>\n",
       "    </tr>\n",
       "    <tr>\n",
       "      <th>2024-06-20</th>\n",
       "      <td>-0.037430</td>\n",
       "      <td>0.003960</td>\n",
       "      <td>0.016501</td>\n",
       "      <td>-0.013813</td>\n",
       "      <td>-0.015095</td>\n",
       "      <td>0.016788</td>\n",
       "      <td>0.036988</td>\n",
       "      <td>0.001324</td>\n",
       "      <td>0.041942</td>\n",
       "      <td>0.001581</td>\n",
       "      <td>...</td>\n",
       "      <td>-0.024852</td>\n",
       "      <td>-0.002980</td>\n",
       "      <td>0.049987</td>\n",
       "      <td>-0.000461</td>\n",
       "      <td>-0.012161</td>\n",
       "      <td>-0.013572</td>\n",
       "      <td>0.005824</td>\n",
       "      <td>-0.004198</td>\n",
       "      <td>-0.018996</td>\n",
       "      <td>0.022048</td>\n",
       "    </tr>\n",
       "    <tr>\n",
       "      <th>2024-06-21</th>\n",
       "      <td>-0.010604</td>\n",
       "      <td>0.016961</td>\n",
       "      <td>0.018272</td>\n",
       "      <td>-0.000662</td>\n",
       "      <td>-0.016249</td>\n",
       "      <td>-0.009011</td>\n",
       "      <td>0.014584</td>\n",
       "      <td>-0.004283</td>\n",
       "      <td>-0.012776</td>\n",
       "      <td>-0.003439</td>\n",
       "      <td>...</td>\n",
       "      <td>-0.004883</td>\n",
       "      <td>0.013220</td>\n",
       "      <td>0.049992</td>\n",
       "      <td>0.004877</td>\n",
       "      <td>0.034650</td>\n",
       "      <td>0.050752</td>\n",
       "      <td>0.010485</td>\n",
       "      <td>-0.009594</td>\n",
       "      <td>0.042078</td>\n",
       "      <td>0.011385</td>\n",
       "    </tr>\n",
       "    <tr>\n",
       "      <th>2024-06-24</th>\n",
       "      <td>-0.007068</td>\n",
       "      <td>-0.013187</td>\n",
       "      <td>-0.015775</td>\n",
       "      <td>-0.008362</td>\n",
       "      <td>0.008545</td>\n",
       "      <td>0.062736</td>\n",
       "      <td>0.004849</td>\n",
       "      <td>0.006957</td>\n",
       "      <td>-0.000168</td>\n",
       "      <td>0.001244</td>\n",
       "      <td>...</td>\n",
       "      <td>-0.022609</td>\n",
       "      <td>-0.018305</td>\n",
       "      <td>0.049989</td>\n",
       "      <td>0.004701</td>\n",
       "      <td>-0.027599</td>\n",
       "      <td>0.032794</td>\n",
       "      <td>-0.017423</td>\n",
       "      <td>0.005724</td>\n",
       "      <td>-0.001629</td>\n",
       "      <td>0.019453</td>\n",
       "    </tr>\n",
       "    <tr>\n",
       "      <th>2024-06-25</th>\n",
       "      <td>-0.001559</td>\n",
       "      <td>-0.003930</td>\n",
       "      <td>-0.010530</td>\n",
       "      <td>0.000656</td>\n",
       "      <td>0.016067</td>\n",
       "      <td>0.031460</td>\n",
       "      <td>-0.005422</td>\n",
       "      <td>0.000844</td>\n",
       "      <td>0.003698</td>\n",
       "      <td>0.000282</td>\n",
       "      <td>...</td>\n",
       "      <td>-0.004890</td>\n",
       "      <td>0.013757</td>\n",
       "      <td>-0.006301</td>\n",
       "      <td>0.013389</td>\n",
       "      <td>-0.008809</td>\n",
       "      <td>0.057875</td>\n",
       "      <td>0.018599</td>\n",
       "      <td>0.002262</td>\n",
       "      <td>0.001191</td>\n",
       "      <td>-0.018985</td>\n",
       "    </tr>\n",
       "  </tbody>\n",
       "</table>\n",
       "<p>1181 rows × 24 columns</p>\n",
       "</div>"
      ],
      "text/plain": [
       "              SANOFI  JAIBALAJI  INGERRAND      PGHH  GANESHHOUC  SHARDAMOTR  \\\n",
       "Date                                                                           \n",
       "2019-09-13  0.000531   0.048128   0.000749  0.020017    0.050272    0.002570   \n",
       "2019-09-16 -0.007497   0.048469  -0.005409  0.005418    0.144890   -0.015281   \n",
       "2019-09-17 -0.015506   0.048662   0.001088 -0.003525   -0.042938   -0.013487   \n",
       "2019-09-18  0.001683   0.039443   0.002507  0.011628    0.007084   -0.000845   \n",
       "2019-09-19 -0.023237  -0.049107  -0.000500  0.000034   -0.033998   -0.009509   \n",
       "...              ...        ...        ...       ...         ...         ...   \n",
       "2024-06-19  0.001414  -0.014770  -0.000259 -0.010449   -0.050841   -0.006108   \n",
       "2024-06-20 -0.037430   0.003960   0.016501 -0.013813   -0.015095    0.016788   \n",
       "2024-06-21 -0.010604   0.016961   0.018272 -0.000662   -0.016249   -0.009011   \n",
       "2024-06-24 -0.007068  -0.013187  -0.015775 -0.008362    0.008545    0.062736   \n",
       "2024-06-25 -0.001559  -0.003930  -0.010530  0.000656    0.016067    0.031460   \n",
       "\n",
       "            AKZOINDIA     TANLA       MGL   MSTCLTD  ...   VOLTAMP    ECLERX  \\\n",
       "Date                                                 ...                       \n",
       "2019-09-13   0.000353 -0.023789  0.008507  0.035867  ...  0.016461  0.001389   \n",
       "2019-09-16   0.002529 -0.018277 -0.007373 -0.032558  ...  0.004038  0.135908   \n",
       "2019-09-17   0.001056 -0.037234 -0.010756 -0.033120  ...  0.017883 -0.059823   \n",
       "2019-09-18  -0.004600  0.013812  0.005286  0.016022  ... -0.001177  0.039357   \n",
       "2019-09-19   0.006623 -0.021798 -0.009501 -0.054377  ... -0.004797 -0.034695   \n",
       "...               ...       ...       ...       ...  ...       ...       ...   \n",
       "2024-06-19  -0.010364 -0.012393 -0.017395 -0.024670  ... -0.006343  0.005445   \n",
       "2024-06-20   0.036988  0.001324  0.041942  0.001581  ... -0.024852 -0.002980   \n",
       "2024-06-21   0.014584 -0.004283 -0.012776 -0.003439  ... -0.004883  0.013220   \n",
       "2024-06-24   0.004849  0.006957 -0.000168  0.001244  ... -0.022609 -0.018305   \n",
       "2024-06-25  -0.005422  0.000844  0.003698  0.000282  ... -0.004890  0.013757   \n",
       "\n",
       "            SHAKTIPUMP    ELECON    SAFARI   RAYMOND  JAMNAAUTO     BSOFT  \\\n",
       "Date                                                                        \n",
       "2019-09-13   -0.009035 -0.026667 -0.000801 -0.014164  -0.011703  0.027720   \n",
       "2019-09-16   -0.015355 -0.006088 -0.004634 -0.018986  -0.034210 -0.035738   \n",
       "2019-09-17   -0.015594 -0.021439  0.006267 -0.010897   0.010899 -0.063636   \n",
       "2019-09-18    0.042953  0.006260  0.008007 -0.007051  -0.004043  0.000747   \n",
       "2019-09-19   -0.026062 -0.010887 -0.013416 -0.006746  -0.041949 -0.003731   \n",
       "...                ...       ...       ...       ...        ...       ...   \n",
       "2024-06-19    0.049998  0.001653 -0.003609 -0.019853  -0.012359  0.010310   \n",
       "2024-06-20    0.049987 -0.000461 -0.012161 -0.013572   0.005824 -0.004198   \n",
       "2024-06-21    0.049992  0.004877  0.034650  0.050752   0.010485 -0.009594   \n",
       "2024-06-24    0.049989  0.004701 -0.027599  0.032794  -0.017423  0.005724   \n",
       "2024-06-25   -0.006301  0.013389 -0.008809  0.057875   0.018599  0.002262   \n",
       "\n",
       "                GPIL  MANINFRA  \n",
       "Date                            \n",
       "2019-09-13  0.014706 -0.006772  \n",
       "2019-09-16  0.024457  0.004545  \n",
       "2019-09-17 -0.078102 -0.006787  \n",
       "2019-09-18 -0.002238 -0.031891  \n",
       "2019-09-19 -0.064082 -0.044706  \n",
       "...              ...       ...  \n",
       "2024-06-19  0.020066 -0.015871  \n",
       "2024-06-20 -0.018996  0.022048  \n",
       "2024-06-21  0.042078  0.011385  \n",
       "2024-06-24 -0.001629  0.019453  \n",
       "2024-06-25  0.001191 -0.018985  \n",
       "\n",
       "[1181 rows x 24 columns]"
      ]
     },
     "execution_count": 3,
     "metadata": {},
     "output_type": "execute_result"
    }
   ],
   "source": [
    "ret = utils.get_multiple_returns(tickers)\n",
    "ret"
   ]
  },
  {
   "cell_type": "markdown",
   "metadata": {},
   "source": [
    "### Train test split"
   ]
  },
  {
   "cell_type": "code",
   "execution_count": 4,
   "metadata": {},
   "outputs": [
    {
     "data": {
      "text/plain": [
       "((1062, 24), (119, 24))"
      ]
     },
     "execution_count": 4,
     "metadata": {},
     "output_type": "execute_result"
    }
   ],
   "source": [
    "N = ret.shape[0]\n",
    "ix = int(N * .9)\n",
    "\n",
    "train_ret = ret.iloc[:ix]\n",
    "test_ret = ret.iloc[ix:]\n",
    "train_ret.shape, test_ret.shape"
   ]
  },
  {
   "cell_type": "code",
   "execution_count": 5,
   "metadata": {},
   "outputs": [
    {
     "data": {
      "text/html": [
       "<div>\n",
       "<style scoped>\n",
       "    .dataframe tbody tr th:only-of-type {\n",
       "        vertical-align: middle;\n",
       "    }\n",
       "\n",
       "    .dataframe tbody tr th {\n",
       "        vertical-align: top;\n",
       "    }\n",
       "\n",
       "    .dataframe thead th {\n",
       "        text-align: right;\n",
       "    }\n",
       "</style>\n",
       "<table border=\"1\" class=\"dataframe\">\n",
       "  <thead>\n",
       "    <tr style=\"text-align: right;\">\n",
       "      <th></th>\n",
       "      <th>^NSEI</th>\n",
       "    </tr>\n",
       "    <tr>\n",
       "      <th>Date</th>\n",
       "      <th></th>\n",
       "    </tr>\n",
       "  </thead>\n",
       "  <tbody>\n",
       "    <tr>\n",
       "      <th>2019-09-13</th>\n",
       "      <td>0.008477</td>\n",
       "    </tr>\n",
       "    <tr>\n",
       "      <th>2019-09-16</th>\n",
       "      <td>-0.006537</td>\n",
       "    </tr>\n",
       "    <tr>\n",
       "      <th>2019-09-17</th>\n",
       "      <td>-0.016895</td>\n",
       "    </tr>\n",
       "    <tr>\n",
       "      <th>2019-09-18</th>\n",
       "      <td>0.002131</td>\n",
       "    </tr>\n",
       "    <tr>\n",
       "      <th>2019-09-19</th>\n",
       "      <td>-0.012532</td>\n",
       "    </tr>\n",
       "    <tr>\n",
       "      <th>...</th>\n",
       "      <td>...</td>\n",
       "    </tr>\n",
       "    <tr>\n",
       "      <th>2024-06-19</th>\n",
       "      <td>-0.001779</td>\n",
       "    </tr>\n",
       "    <tr>\n",
       "      <th>2024-06-20</th>\n",
       "      <td>0.002169</td>\n",
       "    </tr>\n",
       "    <tr>\n",
       "      <th>2024-06-21</th>\n",
       "      <td>-0.002796</td>\n",
       "    </tr>\n",
       "    <tr>\n",
       "      <th>2024-06-24</th>\n",
       "      <td>0.001564</td>\n",
       "    </tr>\n",
       "    <tr>\n",
       "      <th>2024-06-25</th>\n",
       "      <td>0.007794</td>\n",
       "    </tr>\n",
       "  </tbody>\n",
       "</table>\n",
       "<p>1180 rows × 1 columns</p>\n",
       "</div>"
      ],
      "text/plain": [
       "               ^NSEI\n",
       "Date                \n",
       "2019-09-13  0.008477\n",
       "2019-09-16 -0.006537\n",
       "2019-09-17 -0.016895\n",
       "2019-09-18  0.002131\n",
       "2019-09-19 -0.012532\n",
       "...              ...\n",
       "2024-06-19 -0.001779\n",
       "2024-06-20  0.002169\n",
       "2024-06-21 -0.002796\n",
       "2024-06-24  0.001564\n",
       "2024-06-25  0.007794\n",
       "\n",
       "[1180 rows x 1 columns]"
      ]
     },
     "execution_count": 5,
     "metadata": {},
     "output_type": "execute_result"
    }
   ],
   "source": [
    "nse = utils.get_returns(\"^NSEI\", index=True)\n",
    "nse.index = nse[\"Date\"]\n",
    "nse = nse.drop(columns=[\"Date\"]).loc[train_ret.index[0] :]\n",
    "nse"
   ]
  },
  {
   "cell_type": "markdown",
   "metadata": {},
   "source": [
    "# Models\n"
   ]
  },
  {
   "cell_type": "markdown",
   "metadata": {},
   "source": [
    "### Sharpe Ratio Maximization\n"
   ]
  },
  {
   "cell_type": "code",
   "execution_count": 6,
   "metadata": {},
   "outputs": [
    {
     "data": {
      "text/plain": [
       "2.247591056285716"
      ]
     },
     "execution_count": 6,
     "metadata": {},
     "output_type": "execute_result"
    }
   ],
   "source": [
    "sharpe_model = MeanRisk(\n",
    "    risk_measure=RiskMeasure.VARIANCE,\n",
    "    objective_function=ObjectiveFunction.MAXIMIZE_RATIO,\n",
    "    portfolio_params=dict(name=\"Max Sharpe\"),\n",
    ")\n",
    "sharpe_model.fit(train_ret)\n",
    "sharpe_pred = sharpe_model.predict(test_ret)\n",
    "sharpe_pred.annualized_sharpe_ratio"
   ]
  },
  {
   "cell_type": "markdown",
   "metadata": {},
   "source": [
    "### Minimum Variance\n"
   ]
  },
  {
   "cell_type": "code",
   "execution_count": 7,
   "metadata": {},
   "outputs": [
    {
     "data": {
      "text/plain": [
       "2.503457107205447"
      ]
     },
     "execution_count": 7,
     "metadata": {},
     "output_type": "execute_result"
    }
   ],
   "source": [
    "inv_var_model = InverseVolatility(portfolio_params=dict(name=\"Minimum Variance\"))\n",
    "inv_var_model.fit(train_ret)\n",
    "inv_var_pred = inv_var_model.predict(test_ret)\n",
    "inv_var_pred.annualized_sharpe_ratio"
   ]
  },
  {
   "cell_type": "markdown",
   "metadata": {},
   "source": [
    "### Minimum CVaR"
   ]
  },
  {
   "cell_type": "code",
   "execution_count": 8,
   "metadata": {},
   "outputs": [
    {
     "data": {
      "text/plain": [
       "2.447087819057713"
      ]
     },
     "execution_count": 8,
     "metadata": {},
     "output_type": "execute_result"
    }
   ],
   "source": [
    "cvar_model = RiskBudgeting(risk_measure=RiskMeasure.CVAR, portfolio_params=dict(name=\"Minimum CVaR\"))\n",
    "cvar_model.fit(train_ret)\n",
    "cvar_pred = cvar_model.predict(test_ret)\n",
    "cvar_pred.annualized_sharpe_ratio"
   ]
  },
  {
   "cell_type": "markdown",
   "metadata": {},
   "source": [
    "### NIFTY50 Benchmark\n"
   ]
  },
  {
   "cell_type": "code",
   "execution_count": 9,
   "metadata": {},
   "outputs": [
    {
     "data": {
      "text/plain": [
       "1.2386497213779533"
      ]
     },
     "execution_count": 9,
     "metadata": {},
     "output_type": "execute_result"
    }
   ],
   "source": [
    "benchmark = EqualWeighted(portfolio_params=dict(name=\"NIFTY50\"))\n",
    "benchmark.fit(nse[:ix])\n",
    "bench_pred = benchmark.predict(nse[ix:])\n",
    "bench_pred.annualized_sharpe_ratio"
   ]
  },
  {
   "cell_type": "markdown",
   "metadata": {},
   "source": [
    "### Clustering Optimization\n"
   ]
  },
  {
   "cell_type": "code",
   "execution_count": 10,
   "metadata": {},
   "outputs": [
    {
     "data": {
      "text/plain": [
       "2.651945607156596"
      ]
     },
     "execution_count": 10,
     "metadata": {},
     "output_type": "execute_result"
    }
   ],
   "source": [
    "import skfolio.optimization as opt\n",
    "\n",
    "inner_estimator = MeanRisk(\n",
    "    objective_function=ObjectiveFunction.MAXIMIZE_RATIO,\n",
    "    risk_measure=RiskMeasure.VARIANCE,\n",
    ")\n",
    "outer_estimator = opt.RiskBudgeting(risk_measure=RiskMeasure.CVAR)\n",
    "\n",
    "cluster_model = opt.NestedClustersOptimization(\n",
    "    inner_estimator=inner_estimator,\n",
    "    outer_estimator=outer_estimator,\n",
    "    n_jobs=-1,\n",
    "    portfolio_params=dict(name=\"NCO-1\"),\n",
    ")\n",
    "cluster_model.fit(train_ret)\n",
    "cluster_pred = cluster_model.predict(test_ret)\n",
    "cluster_pred.annualized_sharpe_ratio"
   ]
  },
  {
   "cell_type": "markdown",
   "metadata": {},
   "source": [
    "### Rolling Window Optimization\n"
   ]
  },
  {
   "cell_type": "code",
   "execution_count": 11,
   "metadata": {},
   "outputs": [],
   "source": [
    "#rolling_pred = utils.rolling_window_portfolio(ret, 5)"
   ]
  },
  {
   "cell_type": "code",
   "execution_count": 12,
   "metadata": {},
   "outputs": [
    {
     "data": {
      "application/vnd.plotly.v1+json": {
       "config": {
        "plotlyServerURL": "https://plot.ly"
       },
       "data": [
        {
         "alignmentgroup": "True",
         "hovertemplate": "asset=INGERRAND<br>index=%{x}<br>value=%{y}<extra></extra>",
         "legendgroup": "INGERRAND",
         "marker": {
          "color": "#636efa",
          "pattern": {
           "shape": ""
          }
         },
         "name": "INGERRAND",
         "offsetgroup": "INGERRAND",
         "orientation": "v",
         "showlegend": true,
         "textposition": "auto",
         "type": "bar",
         "x": [
          "NCO-1",
          "Max Sharpe",
          "Minimum Variance",
          "Minimum CVaR",
          "NIFTY50"
         ],
         "xaxis": "x",
         "y": [
          0.3123994751607199,
          0.17317689608298503,
          0.04855331093414743,
          0.06413775294999816,
          0
         ],
         "yaxis": "y"
        },
        {
         "alignmentgroup": "True",
         "hovertemplate": "asset=GPIL<br>index=%{x}<br>value=%{y}<extra></extra>",
         "legendgroup": "GPIL",
         "marker": {
          "color": "#EF553B",
          "pattern": {
           "shape": ""
          }
         },
         "name": "GPIL",
         "offsetgroup": "GPIL",
         "orientation": "v",
         "showlegend": true,
         "textposition": "auto",
         "type": "bar",
         "x": [
          "NCO-1",
          "Max Sharpe",
          "Minimum Variance",
          "Minimum CVaR",
          "NIFTY50"
         ],
         "xaxis": "x",
         "y": [
          0.08532833767889053,
          0.037216588589983814,
          0.031836004557302025,
          0.027693000526145237,
          0
         ],
         "yaxis": "y"
        },
        {
         "alignmentgroup": "True",
         "hovertemplate": "asset=SAFARI<br>index=%{x}<br>value=%{y}<extra></extra>",
         "legendgroup": "SAFARI",
         "marker": {
          "color": "#00cc96",
          "pattern": {
           "shape": ""
          }
         },
         "name": "SAFARI",
         "offsetgroup": "SAFARI",
         "orientation": "v",
         "showlegend": true,
         "textposition": "auto",
         "type": "bar",
         "x": [
          "NCO-1",
          "Max Sharpe",
          "Minimum Variance",
          "Minimum CVaR",
          "NIFTY50"
         ],
         "xaxis": "x",
         "y": [
          0.08293170223169664,
          0.101121612288743,
          0.04083902133997169,
          0.04436382970166674,
          0
         ],
         "yaxis": "y"
        },
        {
         "alignmentgroup": "True",
         "hovertemplate": "asset=VOLTAMP<br>index=%{x}<br>value=%{y}<extra></extra>",
         "legendgroup": "VOLTAMP",
         "marker": {
          "color": "#ab63fa",
          "pattern": {
           "shape": ""
          }
         },
         "name": "VOLTAMP",
         "offsetgroup": "VOLTAMP",
         "orientation": "v",
         "showlegend": true,
         "textposition": "auto",
         "type": "bar",
         "x": [
          "NCO-1",
          "Max Sharpe",
          "Minimum Variance",
          "Minimum CVaR",
          "NIFTY50"
         ],
         "xaxis": "x",
         "y": [
          0.06970624893498784,
          0.05814535251245436,
          0.04110548299826313,
          0.04288440577332144,
          0
         ],
         "yaxis": "y"
        },
        {
         "alignmentgroup": "True",
         "hovertemplate": "asset=JAIBALAJI<br>index=%{x}<br>value=%{y}<extra></extra>",
         "legendgroup": "JAIBALAJI",
         "marker": {
          "color": "#FFA15A",
          "pattern": {
           "shape": ""
          }
         },
         "name": "JAIBALAJI",
         "offsetgroup": "JAIBALAJI",
         "orientation": "v",
         "showlegend": true,
         "textposition": "auto",
         "type": "bar",
         "x": [
          "NCO-1",
          "Max Sharpe",
          "Minimum Variance",
          "Minimum CVaR",
          "NIFTY50"
         ],
         "xaxis": "x",
         "y": [
          0.06825855093208424,
          0.172288170347763,
          0.03295183299934624,
          0.03262189064653919,
          0
         ],
         "yaxis": "y"
        },
        {
         "alignmentgroup": "True",
         "hovertemplate": "asset=MANINFRA<br>index=%{x}<br>value=%{y}<extra></extra>",
         "legendgroup": "MANINFRA",
         "marker": {
          "color": "#19d3f3",
          "pattern": {
           "shape": ""
          }
         },
         "name": "MANINFRA",
         "offsetgroup": "MANINFRA",
         "orientation": "v",
         "showlegend": true,
         "textposition": "auto",
         "type": "bar",
         "x": [
          "NCO-1",
          "Max Sharpe",
          "Minimum Variance",
          "Minimum CVaR",
          "NIFTY50"
         ],
         "xaxis": "x",
         "y": [
          0.05171502330436701,
          0.02594346779531563,
          0.03327608816210292,
          0.02790506683249732,
          0
         ],
         "yaxis": "y"
        },
        {
         "alignmentgroup": "True",
         "hovertemplate": "asset=TANLA<br>index=%{x}<br>value=%{y}<extra></extra>",
         "legendgroup": "TANLA",
         "marker": {
          "color": "#FF6692",
          "pattern": {
           "shape": ""
          }
         },
         "name": "TANLA",
         "offsetgroup": "TANLA",
         "orientation": "v",
         "showlegend": true,
         "textposition": "auto",
         "type": "bar",
         "x": [
          "NCO-1",
          "Max Sharpe",
          "Minimum Variance",
          "Minimum CVaR",
          "NIFTY50"
         ],
         "xaxis": "x",
         "y": [
          0.050010236405137194,
          0.10099586287461118,
          0.032391486113425655,
          0.030882954967735632,
          0
         ],
         "yaxis": "y"
        },
        {
         "alignmentgroup": "True",
         "hovertemplate": "asset=ECLERX<br>index=%{x}<br>value=%{y}<extra></extra>",
         "legendgroup": "ECLERX",
         "marker": {
          "color": "#B6E880",
          "pattern": {
           "shape": ""
          }
         },
         "name": "ECLERX",
         "offsetgroup": "ECLERX",
         "orientation": "v",
         "showlegend": true,
         "textposition": "auto",
         "type": "bar",
         "x": [
          "NCO-1",
          "Max Sharpe",
          "Minimum Variance",
          "Minimum CVaR",
          "NIFTY50"
         ],
         "xaxis": "x",
         "y": [
          0.049897642203366635,
          0.08536596209512261,
          0.03776532578347053,
          0.04062950101031489,
          0
         ],
         "yaxis": "y"
        },
        {
         "alignmentgroup": "True",
         "hovertemplate": "asset=ELECON<br>index=%{x}<br>value=%{y}<extra></extra>",
         "legendgroup": "ELECON",
         "marker": {
          "color": "#FF97FF",
          "pattern": {
           "shape": ""
          }
         },
         "name": "ELECON",
         "offsetgroup": "ELECON",
         "orientation": "v",
         "showlegend": true,
         "textposition": "auto",
         "type": "bar",
         "x": [
          "NCO-1",
          "Max Sharpe",
          "Minimum Variance",
          "Minimum CVaR",
          "NIFTY50"
         ],
         "xaxis": "x",
         "y": [
          0.04607961109084423,
          0.08839219777621665,
          0.029466701716603122,
          0.02806966487000161,
          0
         ],
         "yaxis": "y"
        },
        {
         "alignmentgroup": "True",
         "hovertemplate": "asset=NEULANDLAB<br>index=%{x}<br>value=%{y}<extra></extra>",
         "legendgroup": "NEULANDLAB",
         "marker": {
          "color": "#FECB52",
          "pattern": {
           "shape": ""
          }
         },
         "name": "NEULANDLAB",
         "offsetgroup": "NEULANDLAB",
         "orientation": "v",
         "showlegend": true,
         "textposition": "auto",
         "type": "bar",
         "x": [
          "NCO-1",
          "Max Sharpe",
          "Minimum Variance",
          "Minimum CVaR",
          "NIFTY50"
         ],
         "xaxis": "x",
         "y": [
          0.04565626378042015,
          0.08330255616981024,
          0.030803722833480696,
          0.04015909151540603,
          0
         ],
         "yaxis": "y"
        },
        {
         "alignmentgroup": "True",
         "hovertemplate": "asset=BSOFT<br>index=%{x}<br>value=%{y}<extra></extra>",
         "legendgroup": "BSOFT",
         "marker": {
          "color": "#636efa",
          "pattern": {
           "shape": ""
          }
         },
         "name": "BSOFT",
         "offsetgroup": "BSOFT",
         "orientation": "v",
         "showlegend": true,
         "textposition": "auto",
         "type": "bar",
         "x": [
          "NCO-1",
          "Max Sharpe",
          "Minimum Variance",
          "Minimum CVaR",
          "NIFTY50"
         ],
         "xaxis": "x",
         "y": [
          0.041442728318729166,
          0.018577932271385114,
          0.03688302019152018,
          0.0285398710064342,
          0
         ],
         "yaxis": "y"
        },
        {
         "alignmentgroup": "True",
         "hovertemplate": "asset=PGHH<br>index=%{x}<br>value=%{y}<extra></extra>",
         "legendgroup": "PGHH",
         "marker": {
          "color": "#EF553B",
          "pattern": {
           "shape": ""
          }
         },
         "name": "PGHH",
         "offsetgroup": "PGHH",
         "orientation": "v",
         "showlegend": true,
         "textposition": "auto",
         "type": "bar",
         "x": [
          "NCO-1",
          "Max Sharpe",
          "Minimum Variance",
          "Minimum CVaR",
          "NIFTY50"
         ],
         "xaxis": "x",
         "y": [
          0.03622644683601191,
          0.012122578585062849,
          0.07438770137633942,
          0.09734990996890837,
          0
         ],
         "yaxis": "y"
        },
        {
         "alignmentgroup": "True",
         "hovertemplate": "asset=GANESHHOUC<br>index=%{x}<br>value=%{y}<extra></extra>",
         "legendgroup": "GANESHHOUC",
         "marker": {
          "color": "#00cc96",
          "pattern": {
           "shape": ""
          }
         },
         "name": "GANESHHOUC",
         "offsetgroup": "GANESHHOUC",
         "orientation": "v",
         "showlegend": true,
         "textposition": "auto",
         "type": "bar",
         "x": [
          "NCO-1",
          "Max Sharpe",
          "Minimum Variance",
          "Minimum CVaR",
          "NIFTY50"
         ],
         "xaxis": "x",
         "y": [
          0.025860391836500508,
          0.03604110518555046,
          0.031304280137079504,
          0.03217718811052674,
          0
         ],
         "yaxis": "y"
        },
        {
         "alignmentgroup": "True",
         "hovertemplate": "asset=SHARDAMOTR<br>index=%{x}<br>value=%{y}<extra></extra>",
         "legendgroup": "SHARDAMOTR",
         "marker": {
          "color": "#ab63fa",
          "pattern": {
           "shape": ""
          }
         },
         "name": "SHARDAMOTR",
         "offsetgroup": "SHARDAMOTR",
         "orientation": "v",
         "showlegend": true,
         "textposition": "auto",
         "type": "bar",
         "x": [
          "NCO-1",
          "Max Sharpe",
          "Minimum Variance",
          "Minimum CVaR",
          "NIFTY50"
         ],
         "xaxis": "x",
         "y": [
          0.01819002932721369,
          0,
          0.03119940312489279,
          0.02916068333436428,
          0
         ],
         "yaxis": "y"
        },
        {
         "alignmentgroup": "True",
         "hovertemplate": "asset=MSTCLTD<br>index=%{x}<br>value=%{y}<extra></extra>",
         "legendgroup": "MSTCLTD",
         "marker": {
          "color": "#FFA15A",
          "pattern": {
           "shape": ""
          }
         },
         "name": "MSTCLTD",
         "offsetgroup": "MSTCLTD",
         "orientation": "v",
         "showlegend": true,
         "textposition": "auto",
         "type": "bar",
         "x": [
          "NCO-1",
          "Max Sharpe",
          "Minimum Variance",
          "Minimum CVaR",
          "NIFTY50"
         ],
         "xaxis": "x",
         "y": [
          0.014440752616054443,
          0.0073097157868484,
          0.029668123537525803,
          0.028837666385280097,
          0
         ],
         "yaxis": "y"
        },
        {
         "alignmentgroup": "True",
         "hovertemplate": "asset=AKZOINDIA<br>index=%{x}<br>value=%{y}<extra></extra>",
         "legendgroup": "AKZOINDIA",
         "marker": {
          "color": "#19d3f3",
          "pattern": {
           "shape": ""
          }
         },
         "name": "AKZOINDIA",
         "offsetgroup": "AKZOINDIA",
         "orientation": "v",
         "showlegend": true,
         "textposition": "auto",
         "type": "bar",
         "x": [
          "NCO-1",
          "Max Sharpe",
          "Minimum Variance",
          "Minimum CVaR",
          "NIFTY50"
         ],
         "xaxis": "x",
         "y": [
          0.0018565584853728553,
          0,
          0.06730483631007375,
          0.05986139998778694,
          0
         ],
         "yaxis": "y"
        },
        {
         "alignmentgroup": "True",
         "hovertemplate": "asset=SANOFI<br>index=%{x}<br>value=%{y}<extra></extra>",
         "legendgroup": "SANOFI",
         "marker": {
          "color": "#FF6692",
          "pattern": {
           "shape": ""
          }
         },
         "name": "SANOFI",
         "offsetgroup": "SANOFI",
         "orientation": "v",
         "showlegend": true,
         "textposition": "auto",
         "type": "bar",
         "x": [
          "NCO-1",
          "Max Sharpe",
          "Minimum Variance",
          "Minimum CVaR",
          "NIFTY50"
         ],
         "xaxis": "x",
         "y": [
          0,
          0,
          0.07974797033247151,
          0.09469494382647485,
          0
         ],
         "yaxis": "y"
        },
        {
         "alignmentgroup": "True",
         "hovertemplate": "asset=VSTIND<br>index=%{x}<br>value=%{y}<extra></extra>",
         "legendgroup": "VSTIND",
         "marker": {
          "color": "#B6E880",
          "pattern": {
           "shape": ""
          }
         },
         "name": "VSTIND",
         "offsetgroup": "VSTIND",
         "orientation": "v",
         "showlegend": true,
         "textposition": "auto",
         "type": "bar",
         "x": [
          "NCO-1",
          "Max Sharpe",
          "Minimum Variance",
          "Minimum CVaR",
          "NIFTY50"
         ],
         "xaxis": "x",
         "y": [
          0,
          0,
          0.07301769226264615,
          0.06754857269745217,
          0
         ],
         "yaxis": "y"
        },
        {
         "alignmentgroup": "True",
         "hovertemplate": "asset=MGL<br>index=%{x}<br>value=%{y}<extra></extra>",
         "legendgroup": "MGL",
         "marker": {
          "color": "#FF97FF",
          "pattern": {
           "shape": ""
          }
         },
         "name": "MGL",
         "offsetgroup": "MGL",
         "orientation": "v",
         "showlegend": true,
         "textposition": "auto",
         "type": "bar",
         "x": [
          "NCO-1",
          "Max Sharpe",
          "Minimum Variance",
          "Minimum CVaR",
          "NIFTY50"
         ],
         "xaxis": "x",
         "y": [
          0,
          0,
          0.051232870890624546,
          0.0409333037939546,
          0
         ],
         "yaxis": "y"
        },
        {
         "alignmentgroup": "True",
         "hovertemplate": "asset=JAMNAAUTO<br>index=%{x}<br>value=%{y}<extra></extra>",
         "legendgroup": "JAMNAAUTO",
         "marker": {
          "color": "#FECB52",
          "pattern": {
           "shape": ""
          }
         },
         "name": "JAMNAAUTO",
         "offsetgroup": "JAMNAAUTO",
         "orientation": "v",
         "showlegend": true,
         "textposition": "auto",
         "type": "bar",
         "x": [
          "NCO-1",
          "Max Sharpe",
          "Minimum Variance",
          "Minimum CVaR",
          "NIFTY50"
         ],
         "xaxis": "x",
         "y": [
          0,
          0,
          0.03919541343955299,
          0.03344562271148211,
          0
         ],
         "yaxis": "y"
        },
        {
         "alignmentgroup": "True",
         "hovertemplate": "asset=RAYMOND<br>index=%{x}<br>value=%{y}<extra></extra>",
         "legendgroup": "RAYMOND",
         "marker": {
          "color": "#636efa",
          "pattern": {
           "shape": ""
          }
         },
         "name": "RAYMOND",
         "offsetgroup": "RAYMOND",
         "orientation": "v",
         "showlegend": true,
         "textposition": "auto",
         "type": "bar",
         "x": [
          "NCO-1",
          "Max Sharpe",
          "Minimum Variance",
          "Minimum CVaR",
          "NIFTY50"
         ],
         "xaxis": "x",
         "y": [
          0,
          0,
          0.035332230485523634,
          0.027229221277009608,
          0
         ],
         "yaxis": "y"
        },
        {
         "alignmentgroup": "True",
         "hovertemplate": "asset=SHAKTIPUMP<br>index=%{x}<br>value=%{y}<extra></extra>",
         "legendgroup": "SHAKTIPUMP",
         "marker": {
          "color": "#EF553B",
          "pattern": {
           "shape": ""
          }
         },
         "name": "SHAKTIPUMP",
         "offsetgroup": "SHAKTIPUMP",
         "orientation": "v",
         "showlegend": true,
         "textposition": "auto",
         "type": "bar",
         "x": [
          "NCO-1",
          "Max Sharpe",
          "Minimum Variance",
          "Minimum CVaR",
          "NIFTY50"
         ],
         "xaxis": "x",
         "y": [
          0,
          0,
          0.03297803291277813,
          0.028076875626569405,
          0
         ],
         "yaxis": "y"
        },
        {
         "alignmentgroup": "True",
         "hovertemplate": "asset=CHENNPETRO<br>index=%{x}<br>value=%{y}<extra></extra>",
         "legendgroup": "CHENNPETRO",
         "marker": {
          "color": "#00cc96",
          "pattern": {
           "shape": ""
          }
         },
         "name": "CHENNPETRO",
         "offsetgroup": "CHENNPETRO",
         "orientation": "v",
         "showlegend": true,
         "textposition": "auto",
         "type": "bar",
         "x": [
          "NCO-1",
          "Max Sharpe",
          "Minimum Variance",
          "Minimum CVaR",
          "NIFTY50"
         ],
         "xaxis": "x",
         "y": [
          0,
          0,
          0.03184919844089348,
          0.02669713651765667,
          0
         ],
         "yaxis": "y"
        },
        {
         "alignmentgroup": "True",
         "hovertemplate": "asset=NIITLTD<br>index=%{x}<br>value=%{y}<extra></extra>",
         "legendgroup": "NIITLTD",
         "marker": {
          "color": "#ab63fa",
          "pattern": {
           "shape": ""
          }
         },
         "name": "NIITLTD",
         "offsetgroup": "NIITLTD",
         "orientation": "v",
         "showlegend": true,
         "textposition": "auto",
         "type": "bar",
         "x": [
          "NCO-1",
          "Max Sharpe",
          "Minimum Variance",
          "Minimum CVaR",
          "NIFTY50"
         ],
         "xaxis": "x",
         "y": [
          0,
          0,
          0.02691024911996496,
          0.026100445962473653,
          0
         ],
         "yaxis": "y"
        },
        {
         "alignmentgroup": "True",
         "hovertemplate": "asset=^NSEI<br>index=%{x}<br>value=%{y}<extra></extra>",
         "legendgroup": "^NSEI",
         "marker": {
          "color": "#FFA15A",
          "pattern": {
           "shape": ""
          }
         },
         "name": "^NSEI",
         "offsetgroup": "^NSEI",
         "orientation": "v",
         "showlegend": true,
         "textposition": "auto",
         "type": "bar",
         "x": [
          "NCO-1",
          "Max Sharpe",
          "Minimum Variance",
          "Minimum CVaR",
          "NIFTY50"
         ],
         "xaxis": "x",
         "y": [
          0,
          0,
          0,
          0,
          1
         ],
         "yaxis": "y"
        }
       ],
       "layout": {
        "barmode": "relative",
        "legend": {
         "title": {
          "text": "asset"
         },
         "tracegroupgap": 0,
         "x": 1.15,
         "xanchor": "left",
         "y": 0.99,
         "yanchor": "top"
        },
        "margin": {
         "t": 60
        },
        "template": {
         "data": {
          "bar": [
           {
            "error_x": {
             "color": "#2a3f5f"
            },
            "error_y": {
             "color": "#2a3f5f"
            },
            "marker": {
             "line": {
              "color": "#E5ECF6",
              "width": 0.5
             },
             "pattern": {
              "fillmode": "overlay",
              "size": 10,
              "solidity": 0.2
             }
            },
            "type": "bar"
           }
          ],
          "barpolar": [
           {
            "marker": {
             "line": {
              "color": "#E5ECF6",
              "width": 0.5
             },
             "pattern": {
              "fillmode": "overlay",
              "size": 10,
              "solidity": 0.2
             }
            },
            "type": "barpolar"
           }
          ],
          "carpet": [
           {
            "aaxis": {
             "endlinecolor": "#2a3f5f",
             "gridcolor": "white",
             "linecolor": "white",
             "minorgridcolor": "white",
             "startlinecolor": "#2a3f5f"
            },
            "baxis": {
             "endlinecolor": "#2a3f5f",
             "gridcolor": "white",
             "linecolor": "white",
             "minorgridcolor": "white",
             "startlinecolor": "#2a3f5f"
            },
            "type": "carpet"
           }
          ],
          "choropleth": [
           {
            "colorbar": {
             "outlinewidth": 0,
             "ticks": ""
            },
            "type": "choropleth"
           }
          ],
          "contour": [
           {
            "colorbar": {
             "outlinewidth": 0,
             "ticks": ""
            },
            "colorscale": [
             [
              0,
              "#0d0887"
             ],
             [
              0.1111111111111111,
              "#46039f"
             ],
             [
              0.2222222222222222,
              "#7201a8"
             ],
             [
              0.3333333333333333,
              "#9c179e"
             ],
             [
              0.4444444444444444,
              "#bd3786"
             ],
             [
              0.5555555555555556,
              "#d8576b"
             ],
             [
              0.6666666666666666,
              "#ed7953"
             ],
             [
              0.7777777777777778,
              "#fb9f3a"
             ],
             [
              0.8888888888888888,
              "#fdca26"
             ],
             [
              1,
              "#f0f921"
             ]
            ],
            "type": "contour"
           }
          ],
          "contourcarpet": [
           {
            "colorbar": {
             "outlinewidth": 0,
             "ticks": ""
            },
            "type": "contourcarpet"
           }
          ],
          "heatmap": [
           {
            "colorbar": {
             "outlinewidth": 0,
             "ticks": ""
            },
            "colorscale": [
             [
              0,
              "#0d0887"
             ],
             [
              0.1111111111111111,
              "#46039f"
             ],
             [
              0.2222222222222222,
              "#7201a8"
             ],
             [
              0.3333333333333333,
              "#9c179e"
             ],
             [
              0.4444444444444444,
              "#bd3786"
             ],
             [
              0.5555555555555556,
              "#d8576b"
             ],
             [
              0.6666666666666666,
              "#ed7953"
             ],
             [
              0.7777777777777778,
              "#fb9f3a"
             ],
             [
              0.8888888888888888,
              "#fdca26"
             ],
             [
              1,
              "#f0f921"
             ]
            ],
            "type": "heatmap"
           }
          ],
          "heatmapgl": [
           {
            "colorbar": {
             "outlinewidth": 0,
             "ticks": ""
            },
            "colorscale": [
             [
              0,
              "#0d0887"
             ],
             [
              0.1111111111111111,
              "#46039f"
             ],
             [
              0.2222222222222222,
              "#7201a8"
             ],
             [
              0.3333333333333333,
              "#9c179e"
             ],
             [
              0.4444444444444444,
              "#bd3786"
             ],
             [
              0.5555555555555556,
              "#d8576b"
             ],
             [
              0.6666666666666666,
              "#ed7953"
             ],
             [
              0.7777777777777778,
              "#fb9f3a"
             ],
             [
              0.8888888888888888,
              "#fdca26"
             ],
             [
              1,
              "#f0f921"
             ]
            ],
            "type": "heatmapgl"
           }
          ],
          "histogram": [
           {
            "marker": {
             "pattern": {
              "fillmode": "overlay",
              "size": 10,
              "solidity": 0.2
             }
            },
            "type": "histogram"
           }
          ],
          "histogram2d": [
           {
            "colorbar": {
             "outlinewidth": 0,
             "ticks": ""
            },
            "colorscale": [
             [
              0,
              "#0d0887"
             ],
             [
              0.1111111111111111,
              "#46039f"
             ],
             [
              0.2222222222222222,
              "#7201a8"
             ],
             [
              0.3333333333333333,
              "#9c179e"
             ],
             [
              0.4444444444444444,
              "#bd3786"
             ],
             [
              0.5555555555555556,
              "#d8576b"
             ],
             [
              0.6666666666666666,
              "#ed7953"
             ],
             [
              0.7777777777777778,
              "#fb9f3a"
             ],
             [
              0.8888888888888888,
              "#fdca26"
             ],
             [
              1,
              "#f0f921"
             ]
            ],
            "type": "histogram2d"
           }
          ],
          "histogram2dcontour": [
           {
            "colorbar": {
             "outlinewidth": 0,
             "ticks": ""
            },
            "colorscale": [
             [
              0,
              "#0d0887"
             ],
             [
              0.1111111111111111,
              "#46039f"
             ],
             [
              0.2222222222222222,
              "#7201a8"
             ],
             [
              0.3333333333333333,
              "#9c179e"
             ],
             [
              0.4444444444444444,
              "#bd3786"
             ],
             [
              0.5555555555555556,
              "#d8576b"
             ],
             [
              0.6666666666666666,
              "#ed7953"
             ],
             [
              0.7777777777777778,
              "#fb9f3a"
             ],
             [
              0.8888888888888888,
              "#fdca26"
             ],
             [
              1,
              "#f0f921"
             ]
            ],
            "type": "histogram2dcontour"
           }
          ],
          "mesh3d": [
           {
            "colorbar": {
             "outlinewidth": 0,
             "ticks": ""
            },
            "type": "mesh3d"
           }
          ],
          "parcoords": [
           {
            "line": {
             "colorbar": {
              "outlinewidth": 0,
              "ticks": ""
             }
            },
            "type": "parcoords"
           }
          ],
          "pie": [
           {
            "automargin": true,
            "type": "pie"
           }
          ],
          "scatter": [
           {
            "fillpattern": {
             "fillmode": "overlay",
             "size": 10,
             "solidity": 0.2
            },
            "type": "scatter"
           }
          ],
          "scatter3d": [
           {
            "line": {
             "colorbar": {
              "outlinewidth": 0,
              "ticks": ""
             }
            },
            "marker": {
             "colorbar": {
              "outlinewidth": 0,
              "ticks": ""
             }
            },
            "type": "scatter3d"
           }
          ],
          "scattercarpet": [
           {
            "marker": {
             "colorbar": {
              "outlinewidth": 0,
              "ticks": ""
             }
            },
            "type": "scattercarpet"
           }
          ],
          "scattergeo": [
           {
            "marker": {
             "colorbar": {
              "outlinewidth": 0,
              "ticks": ""
             }
            },
            "type": "scattergeo"
           }
          ],
          "scattergl": [
           {
            "marker": {
             "colorbar": {
              "outlinewidth": 0,
              "ticks": ""
             }
            },
            "type": "scattergl"
           }
          ],
          "scattermapbox": [
           {
            "marker": {
             "colorbar": {
              "outlinewidth": 0,
              "ticks": ""
             }
            },
            "type": "scattermapbox"
           }
          ],
          "scatterpolar": [
           {
            "marker": {
             "colorbar": {
              "outlinewidth": 0,
              "ticks": ""
             }
            },
            "type": "scatterpolar"
           }
          ],
          "scatterpolargl": [
           {
            "marker": {
             "colorbar": {
              "outlinewidth": 0,
              "ticks": ""
             }
            },
            "type": "scatterpolargl"
           }
          ],
          "scatterternary": [
           {
            "marker": {
             "colorbar": {
              "outlinewidth": 0,
              "ticks": ""
             }
            },
            "type": "scatterternary"
           }
          ],
          "surface": [
           {
            "colorbar": {
             "outlinewidth": 0,
             "ticks": ""
            },
            "colorscale": [
             [
              0,
              "#0d0887"
             ],
             [
              0.1111111111111111,
              "#46039f"
             ],
             [
              0.2222222222222222,
              "#7201a8"
             ],
             [
              0.3333333333333333,
              "#9c179e"
             ],
             [
              0.4444444444444444,
              "#bd3786"
             ],
             [
              0.5555555555555556,
              "#d8576b"
             ],
             [
              0.6666666666666666,
              "#ed7953"
             ],
             [
              0.7777777777777778,
              "#fb9f3a"
             ],
             [
              0.8888888888888888,
              "#fdca26"
             ],
             [
              1,
              "#f0f921"
             ]
            ],
            "type": "surface"
           }
          ],
          "table": [
           {
            "cells": {
             "fill": {
              "color": "#EBF0F8"
             },
             "line": {
              "color": "white"
             }
            },
            "header": {
             "fill": {
              "color": "#C8D4E3"
             },
             "line": {
              "color": "white"
             }
            },
            "type": "table"
           }
          ]
         },
         "layout": {
          "annotationdefaults": {
           "arrowcolor": "#2a3f5f",
           "arrowhead": 0,
           "arrowwidth": 1
          },
          "autotypenumbers": "strict",
          "coloraxis": {
           "colorbar": {
            "outlinewidth": 0,
            "ticks": ""
           }
          },
          "colorscale": {
           "diverging": [
            [
             0,
             "#8e0152"
            ],
            [
             0.1,
             "#c51b7d"
            ],
            [
             0.2,
             "#de77ae"
            ],
            [
             0.3,
             "#f1b6da"
            ],
            [
             0.4,
             "#fde0ef"
            ],
            [
             0.5,
             "#f7f7f7"
            ],
            [
             0.6,
             "#e6f5d0"
            ],
            [
             0.7,
             "#b8e186"
            ],
            [
             0.8,
             "#7fbc41"
            ],
            [
             0.9,
             "#4d9221"
            ],
            [
             1,
             "#276419"
            ]
           ],
           "sequential": [
            [
             0,
             "#0d0887"
            ],
            [
             0.1111111111111111,
             "#46039f"
            ],
            [
             0.2222222222222222,
             "#7201a8"
            ],
            [
             0.3333333333333333,
             "#9c179e"
            ],
            [
             0.4444444444444444,
             "#bd3786"
            ],
            [
             0.5555555555555556,
             "#d8576b"
            ],
            [
             0.6666666666666666,
             "#ed7953"
            ],
            [
             0.7777777777777778,
             "#fb9f3a"
            ],
            [
             0.8888888888888888,
             "#fdca26"
            ],
            [
             1,
             "#f0f921"
            ]
           ],
           "sequentialminus": [
            [
             0,
             "#0d0887"
            ],
            [
             0.1111111111111111,
             "#46039f"
            ],
            [
             0.2222222222222222,
             "#7201a8"
            ],
            [
             0.3333333333333333,
             "#9c179e"
            ],
            [
             0.4444444444444444,
             "#bd3786"
            ],
            [
             0.5555555555555556,
             "#d8576b"
            ],
            [
             0.6666666666666666,
             "#ed7953"
            ],
            [
             0.7777777777777778,
             "#fb9f3a"
            ],
            [
             0.8888888888888888,
             "#fdca26"
            ],
            [
             1,
             "#f0f921"
            ]
           ]
          },
          "colorway": [
           "#636efa",
           "#EF553B",
           "#00cc96",
           "#ab63fa",
           "#FFA15A",
           "#19d3f3",
           "#FF6692",
           "#B6E880",
           "#FF97FF",
           "#FECB52"
          ],
          "font": {
           "color": "#2a3f5f"
          },
          "geo": {
           "bgcolor": "white",
           "lakecolor": "white",
           "landcolor": "#E5ECF6",
           "showlakes": true,
           "showland": true,
           "subunitcolor": "white"
          },
          "hoverlabel": {
           "align": "left"
          },
          "hovermode": "closest",
          "mapbox": {
           "style": "light"
          },
          "paper_bgcolor": "white",
          "plot_bgcolor": "#E5ECF6",
          "polar": {
           "angularaxis": {
            "gridcolor": "white",
            "linecolor": "white",
            "ticks": ""
           },
           "bgcolor": "#E5ECF6",
           "radialaxis": {
            "gridcolor": "white",
            "linecolor": "white",
            "ticks": ""
           }
          },
          "scene": {
           "xaxis": {
            "backgroundcolor": "#E5ECF6",
            "gridcolor": "white",
            "gridwidth": 2,
            "linecolor": "white",
            "showbackground": true,
            "ticks": "",
            "zerolinecolor": "white"
           },
           "yaxis": {
            "backgroundcolor": "#E5ECF6",
            "gridcolor": "white",
            "gridwidth": 2,
            "linecolor": "white",
            "showbackground": true,
            "ticks": "",
            "zerolinecolor": "white"
           },
           "zaxis": {
            "backgroundcolor": "#E5ECF6",
            "gridcolor": "white",
            "gridwidth": 2,
            "linecolor": "white",
            "showbackground": true,
            "ticks": "",
            "zerolinecolor": "white"
           }
          },
          "shapedefaults": {
           "line": {
            "color": "#2a3f5f"
           }
          },
          "ternary": {
           "aaxis": {
            "gridcolor": "white",
            "linecolor": "white",
            "ticks": ""
           },
           "baxis": {
            "gridcolor": "white",
            "linecolor": "white",
            "ticks": ""
           },
           "bgcolor": "#E5ECF6",
           "caxis": {
            "gridcolor": "white",
            "linecolor": "white",
            "ticks": ""
           }
          },
          "title": {
           "x": 0.05
          },
          "xaxis": {
           "automargin": true,
           "gridcolor": "white",
           "linecolor": "white",
           "ticks": "",
           "title": {
            "standoff": 15
           },
           "zerolinecolor": "white",
           "zerolinewidth": 2
          },
          "yaxis": {
           "automargin": true,
           "gridcolor": "white",
           "linecolor": "white",
           "ticks": "",
           "title": {
            "standoff": 15
           },
           "zerolinecolor": "white",
           "zerolinewidth": 2
          }
         }
        },
        "title": {
         "text": "Portfolios Composition"
        },
        "xaxis": {
         "anchor": "y",
         "domain": [
          0,
          1
         ],
         "title": {
          "text": "Portfolios"
         }
        },
        "yaxis": {
         "anchor": "x",
         "domain": [
          0,
          1
         ],
         "tickformat": ",.0%",
         "title": {
          "text": "Weight"
         }
        }
       }
      }
     },
     "metadata": {},
     "output_type": "display_data"
    }
   ],
   "source": [
    "population = Population(\n",
    "    [cluster_pred, sharpe_pred, inv_var_pred, cvar_pred,bench_pred]\n",
    ")\n",
    "population.set_portfolio_params(compounded=True)\n",
    "population.plot_composition()"
   ]
  },
  {
   "cell_type": "code",
   "execution_count": 13,
   "metadata": {},
   "outputs": [
    {
     "data": {
      "application/vnd.plotly.v1+json": {
       "config": {
        "plotlyServerURL": "https://plot.ly"
       },
       "data": [
        {
         "hovertemplate": "variable=NCO-1<br>index=%{x}<br>value=%{y}<extra></extra>",
         "legendgroup": "NCO-1",
         "line": {
          "color": "#636efa",
          "dash": "solid"
         },
         "marker": {
          "symbol": "circle"
         },
         "mode": "lines",
         "name": "NCO-1",
         "orientation": "v",
         "showlegend": true,
         "type": "scatter",
         "x": [
          "2023-12-27T00:00:00",
          "2023-12-28T00:00:00",
          "2023-12-29T00:00:00",
          "2024-01-01T00:00:00",
          "2024-01-02T00:00:00",
          "2024-01-03T00:00:00",
          "2024-01-04T00:00:00",
          "2024-01-05T00:00:00",
          "2024-01-08T00:00:00",
          "2024-01-09T00:00:00",
          "2024-01-10T00:00:00",
          "2024-01-11T00:00:00",
          "2024-01-12T00:00:00",
          "2024-01-15T00:00:00",
          "2024-01-16T00:00:00",
          "2024-01-17T00:00:00",
          "2024-01-18T00:00:00",
          "2024-01-19T00:00:00",
          "2024-01-23T00:00:00",
          "2024-01-24T00:00:00",
          "2024-01-25T00:00:00",
          "2024-01-29T00:00:00",
          "2024-01-30T00:00:00",
          "2024-01-31T00:00:00",
          "2024-02-01T00:00:00",
          "2024-02-02T00:00:00",
          "2024-02-05T00:00:00",
          "2024-02-06T00:00:00",
          "2024-02-07T00:00:00",
          "2024-02-08T00:00:00",
          "2024-02-09T00:00:00",
          "2024-02-12T00:00:00",
          "2024-02-13T00:00:00",
          "2024-02-14T00:00:00",
          "2024-02-15T00:00:00",
          "2024-02-16T00:00:00",
          "2024-02-19T00:00:00",
          "2024-02-20T00:00:00",
          "2024-02-21T00:00:00",
          "2024-02-22T00:00:00",
          "2024-02-23T00:00:00",
          "2024-02-26T00:00:00",
          "2024-02-27T00:00:00",
          "2024-02-28T00:00:00",
          "2024-02-29T00:00:00",
          "2024-03-01T00:00:00",
          "2024-03-04T00:00:00",
          "2024-03-05T00:00:00",
          "2024-03-06T00:00:00",
          "2024-03-07T00:00:00",
          "2024-03-11T00:00:00",
          "2024-03-12T00:00:00",
          "2024-03-13T00:00:00",
          "2024-03-14T00:00:00",
          "2024-03-15T00:00:00",
          "2024-03-18T00:00:00",
          "2024-03-19T00:00:00",
          "2024-03-20T00:00:00",
          "2024-03-21T00:00:00",
          "2024-03-22T00:00:00",
          "2024-03-26T00:00:00",
          "2024-03-27T00:00:00",
          "2024-03-28T00:00:00",
          "2024-04-01T00:00:00",
          "2024-04-02T00:00:00",
          "2024-04-03T00:00:00",
          "2024-04-04T00:00:00",
          "2024-04-05T00:00:00",
          "2024-04-08T00:00:00",
          "2024-04-09T00:00:00",
          "2024-04-10T00:00:00",
          "2024-04-12T00:00:00",
          "2024-04-15T00:00:00",
          "2024-04-16T00:00:00",
          "2024-04-18T00:00:00",
          "2024-04-19T00:00:00",
          "2024-04-22T00:00:00",
          "2024-04-23T00:00:00",
          "2024-04-24T00:00:00",
          "2024-04-25T00:00:00",
          "2024-04-26T00:00:00",
          "2024-04-29T00:00:00",
          "2024-04-30T00:00:00",
          "2024-05-02T00:00:00",
          "2024-05-03T00:00:00",
          "2024-05-06T00:00:00",
          "2024-05-07T00:00:00",
          "2024-05-08T00:00:00",
          "2024-05-09T00:00:00",
          "2024-05-10T00:00:00",
          "2024-05-13T00:00:00",
          "2024-05-14T00:00:00",
          "2024-05-15T00:00:00",
          "2024-05-16T00:00:00",
          "2024-05-17T00:00:00",
          "2024-05-21T00:00:00",
          "2024-05-22T00:00:00",
          "2024-05-23T00:00:00",
          "2024-05-24T00:00:00",
          "2024-05-27T00:00:00",
          "2024-05-28T00:00:00",
          "2024-05-29T00:00:00",
          "2024-05-30T00:00:00",
          "2024-05-31T00:00:00",
          "2024-06-03T00:00:00",
          "2024-06-04T00:00:00",
          "2024-06-05T00:00:00",
          "2024-06-06T00:00:00",
          "2024-06-07T00:00:00",
          "2024-06-10T00:00:00",
          "2024-06-11T00:00:00",
          "2024-06-12T00:00:00",
          "2024-06-13T00:00:00",
          "2024-06-14T00:00:00",
          "2024-06-18T00:00:00",
          "2024-06-19T00:00:00",
          "2024-06-20T00:00:00",
          "2024-06-21T00:00:00",
          "2024-06-24T00:00:00",
          "2024-06-25T00:00:00"
         ],
         "xaxis": "x",
         "y": [
          1002.5853677092515,
          1002.8943883990897,
          1008.7608776681301,
          1007.9695323337004,
          1003.6864262111998,
          1009.7884395948951,
          1021.8780774478298,
          1023.7768812076753,
          1019.0260642730025,
          1028.1622603236924,
          1035.8501591156453,
          1050.1119288705306,
          1055.197322813644,
          1067.0634398629354,
          1061.691967833959,
          1062.31235502055,
          1057.191330317792,
          1077.9928654842292,
          1048.843529100851,
          1062.440329431516,
          1080.086816342117,
          1100.1089344867303,
          1102.4582136348063,
          1130.1898992996062,
          1115.558696317836,
          1116.731944382752,
          1110.8021816471035,
          1134.0138067028065,
          1137.7824152931457,
          1127.6923671706984,
          1125.2554434166057,
          1087.5614335613193,
          1081.621987147673,
          1100.5514684673967,
          1112.7602659162699,
          1127.5337828145432,
          1136.6048892817205,
          1136.3552075741911,
          1134.4494648392151,
          1137.9926251424847,
          1154.2893578862318,
          1153.1725961045868,
          1143.1784616626874,
          1132.5034597180027,
          1173.87268414956,
          1185.2252312524106,
          1180.0470646797548,
          1160.0273298002255,
          1140.7887305594768,
          1147.6412594499518,
          1114.1455541843627,
          1104.6648649944884,
          1041.3011282998814,
          1096.281806303048,
          null,
          1093.2595432042858,
          1071.9315900890995,
          1062.630768330604,
          1081.5305754606625,
          1106.4286390442755,
          1112.298714227907,
          1126.892996487797,
          1132.0368514729141,
          1150.6035235448167,
          1159.267000636593,
          1168.1898017712797,
          1174.7132734648346,
          1182.7718638386223,
          1178.3779598210326,
          1174.2637775253615,
          1182.473406746491,
          1186.7527741850156,
          1183.9606669378136,
          1216.4455751920339,
          1230.6258992180915,
          1227.0530531115792,
          1227.6628378746054,
          1219.801951484096,
          1229.7487635743626,
          1248.885722871205,
          1237.2875963042268,
          1240.7982026624568,
          1248.3163589740293,
          1251.9992418637285,
          1236.470248678475,
          1219.8621037946345,
          1218.1880659479582,
          1257.5194648348984,
          1221.7127463789006,
          1230.033366355154,
          1213.41869934079,
          1253.9152001926034,
          1286.7307469846896,
          1292.8947483109398,
          1295.0413115834385,
          1308.4747708616403,
          1322.954684745193,
          1313.7447402141665,
          1295.2707231034049,
          1275.7940259084355,
          1246.2230062087658,
          1251.6143116754056,
          1237.7240284707693,
          1244.6265594375755,
          1267.723663313699,
          1194.3360769927244,
          1209.580852181355,
          1259.9964634317962,
          1292.7744633341404,
          1305.0862350389602,
          1314.763740438503,
          1332.7463384081184,
          1335.3500200860865,
          1341.3304203805633,
          1349.3906827704818,
          1345.407667823119,
          1347.821431133393,
          1365.8233323625939,
          1356.3630022520117,
          1355.0714411189215
         ],
         "yaxis": "y"
        },
        {
         "hovertemplate": "variable=Max Sharpe<br>index=%{x}<br>value=%{y}<extra></extra>",
         "legendgroup": "Max Sharpe",
         "line": {
          "color": "#EF553B",
          "dash": "solid"
         },
         "marker": {
          "symbol": "circle"
         },
         "mode": "lines",
         "name": "Max Sharpe",
         "orientation": "v",
         "showlegend": true,
         "type": "scatter",
         "x": [
          "2023-12-27T00:00:00",
          "2023-12-28T00:00:00",
          "2023-12-29T00:00:00",
          "2024-01-01T00:00:00",
          "2024-01-02T00:00:00",
          "2024-01-03T00:00:00",
          "2024-01-04T00:00:00",
          "2024-01-05T00:00:00",
          "2024-01-08T00:00:00",
          "2024-01-09T00:00:00",
          "2024-01-10T00:00:00",
          "2024-01-11T00:00:00",
          "2024-01-12T00:00:00",
          "2024-01-15T00:00:00",
          "2024-01-16T00:00:00",
          "2024-01-17T00:00:00",
          "2024-01-18T00:00:00",
          "2024-01-19T00:00:00",
          "2024-01-23T00:00:00",
          "2024-01-24T00:00:00",
          "2024-01-25T00:00:00",
          "2024-01-29T00:00:00",
          "2024-01-30T00:00:00",
          "2024-01-31T00:00:00",
          "2024-02-01T00:00:00",
          "2024-02-02T00:00:00",
          "2024-02-05T00:00:00",
          "2024-02-06T00:00:00",
          "2024-02-07T00:00:00",
          "2024-02-08T00:00:00",
          "2024-02-09T00:00:00",
          "2024-02-12T00:00:00",
          "2024-02-13T00:00:00",
          "2024-02-14T00:00:00",
          "2024-02-15T00:00:00",
          "2024-02-16T00:00:00",
          "2024-02-19T00:00:00",
          "2024-02-20T00:00:00",
          "2024-02-21T00:00:00",
          "2024-02-22T00:00:00",
          "2024-02-23T00:00:00",
          "2024-02-26T00:00:00",
          "2024-02-27T00:00:00",
          "2024-02-28T00:00:00",
          "2024-02-29T00:00:00",
          "2024-03-01T00:00:00",
          "2024-03-04T00:00:00",
          "2024-03-05T00:00:00",
          "2024-03-06T00:00:00",
          "2024-03-07T00:00:00",
          "2024-03-11T00:00:00",
          "2024-03-12T00:00:00",
          "2024-03-13T00:00:00",
          "2024-03-14T00:00:00",
          "2024-03-15T00:00:00",
          "2024-03-18T00:00:00",
          "2024-03-19T00:00:00",
          "2024-03-20T00:00:00",
          "2024-03-21T00:00:00",
          "2024-03-22T00:00:00",
          "2024-03-26T00:00:00",
          "2024-03-27T00:00:00",
          "2024-03-28T00:00:00",
          "2024-04-01T00:00:00",
          "2024-04-02T00:00:00",
          "2024-04-03T00:00:00",
          "2024-04-04T00:00:00",
          "2024-04-05T00:00:00",
          "2024-04-08T00:00:00",
          "2024-04-09T00:00:00",
          "2024-04-10T00:00:00",
          "2024-04-12T00:00:00",
          "2024-04-15T00:00:00",
          "2024-04-16T00:00:00",
          "2024-04-18T00:00:00",
          "2024-04-19T00:00:00",
          "2024-04-22T00:00:00",
          "2024-04-23T00:00:00",
          "2024-04-24T00:00:00",
          "2024-04-25T00:00:00",
          "2024-04-26T00:00:00",
          "2024-04-29T00:00:00",
          "2024-04-30T00:00:00",
          "2024-05-02T00:00:00",
          "2024-05-03T00:00:00",
          "2024-05-06T00:00:00",
          "2024-05-07T00:00:00",
          "2024-05-08T00:00:00",
          "2024-05-09T00:00:00",
          "2024-05-10T00:00:00",
          "2024-05-13T00:00:00",
          "2024-05-14T00:00:00",
          "2024-05-15T00:00:00",
          "2024-05-16T00:00:00",
          "2024-05-17T00:00:00",
          "2024-05-21T00:00:00",
          "2024-05-22T00:00:00",
          "2024-05-23T00:00:00",
          "2024-05-24T00:00:00",
          "2024-05-27T00:00:00",
          "2024-05-28T00:00:00",
          "2024-05-29T00:00:00",
          "2024-05-30T00:00:00",
          "2024-05-31T00:00:00",
          "2024-06-03T00:00:00",
          "2024-06-04T00:00:00",
          "2024-06-05T00:00:00",
          "2024-06-06T00:00:00",
          "2024-06-07T00:00:00",
          "2024-06-10T00:00:00",
          "2024-06-11T00:00:00",
          "2024-06-12T00:00:00",
          "2024-06-13T00:00:00",
          "2024-06-14T00:00:00",
          "2024-06-18T00:00:00",
          "2024-06-19T00:00:00",
          "2024-06-20T00:00:00",
          "2024-06-21T00:00:00",
          "2024-06-24T00:00:00",
          "2024-06-25T00:00:00"
         ],
         "xaxis": "x",
         "y": [
          999.8157309767643,
          1004.659211491175,
          1005.1154286711903,
          1003.5772352857153,
          1001.2917745767289,
          1013.1709412937208,
          1029.8342903794455,
          1035.8891076871591,
          1036.2158969685252,
          1046.6942051245778,
          1056.7479368808742,
          1069.2775254694586,
          1079.0738182229475,
          1099.55526910493,
          1100.2260211079508,
          1099.18035709039,
          1094.8809907793714,
          1120.956625943941,
          1087.0254081274363,
          1097.7621647778121,
          1118.3693030777795,
          1145.6084924216723,
          1147.0330260961034,
          1171.9401745751484,
          1154.8134654933099,
          1152.7853142826561,
          1140.181672348071,
          1156.430498490592,
          1160.8597897420564,
          1149.3499794697614,
          1145.678990881829,
          1104.1937893059462,
          1098.9982354974363,
          1113.219590579709,
          1129.756728887507,
          1138.897516251067,
          1150.9025508469201,
          1158.736983742634,
          1162.758477758487,
          1172.132826761837,
          1193.0627261011136,
          1201.1419298718495,
          1197.9791215570706,
          1187.7433069319013,
          1223.765484246625,
          1222.6351329298443,
          1220.868443143457,
          1207.5775653914654,
          1178.6798423171663,
          1181.797465695791,
          1141.6913450177533,
          1117.9466317053284,
          1051.8137396883662,
          1104.3068848718867,
          null,
          1097.698030607883,
          1068.7270224770568,
          1057.348515508792,
          1071.465548215958,
          1100.9501083280918,
          1103.0117440208173,
          1115.5674238001839,
          1114.2648826240923,
          1136.7637212264854,
          1146.0822936565946,
          1158.9408152220242,
          1168.2293630699833,
          1184.729930567118,
          1185.7043302821203,
          1184.9651490262117,
          1195.6175443931736,
          1197.9169019147446,
          1193.820999211496,
          1215.9905593519302,
          1231.6770049977001,
          1230.2433543650784,
          1231.4831676623292,
          1224.4741022424296,
          1241.2754624340203,
          1258.4827610997875,
          1245.6001586740363,
          1248.5750091457153,
          1250.5640928949454,
          1248.6748814294278,
          1232.0982829871214,
          1211.8050472080786,
          1204.3560697759353,
          1231.418847758558,
          1191.238440976211,
          1188.9905008164374,
          1164.4400312937046,
          1208.4318058436318,
          1240.614341748858,
          1248.9058751466505,
          1249.2118179496574,
          1256.630703825663,
          1262.1497217678557,
          1252.3723682664242,
          1241.0666178336996,
          1229.9677798893138,
          1207.436928233822,
          1206.097014821813,
          1195.734930353465,
          1193.3479691633297,
          1216.7689242379113,
          1149.9193078611559,
          1162.1093518620203,
          1199.4695533813035,
          1232.7315079395808,
          1241.3723882677432,
          1260.1765423849236,
          1284.1834202403707,
          1289.6264463398054,
          1292.5795321755247,
          1292.67669369815,
          1285.495826908871,
          1286.0759690515254,
          1301.1825518683027,
          1291.94428247289,
          1295.5671505097118
         ],
         "yaxis": "y"
        },
        {
         "hovertemplate": "variable=Minimum Variance<br>index=%{x}<br>value=%{y}<extra></extra>",
         "legendgroup": "Minimum Variance",
         "line": {
          "color": "#00cc96",
          "dash": "solid"
         },
         "marker": {
          "symbol": "circle"
         },
         "mode": "lines",
         "name": "Minimum Variance",
         "orientation": "v",
         "showlegend": true,
         "type": "scatter",
         "x": [
          "2023-12-27T00:00:00",
          "2023-12-28T00:00:00",
          "2023-12-29T00:00:00",
          "2024-01-01T00:00:00",
          "2024-01-02T00:00:00",
          "2024-01-03T00:00:00",
          "2024-01-04T00:00:00",
          "2024-01-05T00:00:00",
          "2024-01-08T00:00:00",
          "2024-01-09T00:00:00",
          "2024-01-10T00:00:00",
          "2024-01-11T00:00:00",
          "2024-01-12T00:00:00",
          "2024-01-15T00:00:00",
          "2024-01-16T00:00:00",
          "2024-01-17T00:00:00",
          "2024-01-18T00:00:00",
          "2024-01-19T00:00:00",
          "2024-01-23T00:00:00",
          "2024-01-24T00:00:00",
          "2024-01-25T00:00:00",
          "2024-01-29T00:00:00",
          "2024-01-30T00:00:00",
          "2024-01-31T00:00:00",
          "2024-02-01T00:00:00",
          "2024-02-02T00:00:00",
          "2024-02-05T00:00:00",
          "2024-02-06T00:00:00",
          "2024-02-07T00:00:00",
          "2024-02-08T00:00:00",
          "2024-02-09T00:00:00",
          "2024-02-12T00:00:00",
          "2024-02-13T00:00:00",
          "2024-02-14T00:00:00",
          "2024-02-15T00:00:00",
          "2024-02-16T00:00:00",
          "2024-02-19T00:00:00",
          "2024-02-20T00:00:00",
          "2024-02-21T00:00:00",
          "2024-02-22T00:00:00",
          "2024-02-23T00:00:00",
          "2024-02-26T00:00:00",
          "2024-02-27T00:00:00",
          "2024-02-28T00:00:00",
          "2024-02-29T00:00:00",
          "2024-03-01T00:00:00",
          "2024-03-04T00:00:00",
          "2024-03-05T00:00:00",
          "2024-03-06T00:00:00",
          "2024-03-07T00:00:00",
          "2024-03-11T00:00:00",
          "2024-03-12T00:00:00",
          "2024-03-13T00:00:00",
          "2024-03-14T00:00:00",
          "2024-03-15T00:00:00",
          "2024-03-18T00:00:00",
          "2024-03-19T00:00:00",
          "2024-03-20T00:00:00",
          "2024-03-21T00:00:00",
          "2024-03-22T00:00:00",
          "2024-03-26T00:00:00",
          "2024-03-27T00:00:00",
          "2024-03-28T00:00:00",
          "2024-04-01T00:00:00",
          "2024-04-02T00:00:00",
          "2024-04-03T00:00:00",
          "2024-04-04T00:00:00",
          "2024-04-05T00:00:00",
          "2024-04-08T00:00:00",
          "2024-04-09T00:00:00",
          "2024-04-10T00:00:00",
          "2024-04-12T00:00:00",
          "2024-04-15T00:00:00",
          "2024-04-16T00:00:00",
          "2024-04-18T00:00:00",
          "2024-04-19T00:00:00",
          "2024-04-22T00:00:00",
          "2024-04-23T00:00:00",
          "2024-04-24T00:00:00",
          "2024-04-25T00:00:00",
          "2024-04-26T00:00:00",
          "2024-04-29T00:00:00",
          "2024-04-30T00:00:00",
          "2024-05-02T00:00:00",
          "2024-05-03T00:00:00",
          "2024-05-06T00:00:00",
          "2024-05-07T00:00:00",
          "2024-05-08T00:00:00",
          "2024-05-09T00:00:00",
          "2024-05-10T00:00:00",
          "2024-05-13T00:00:00",
          "2024-05-14T00:00:00",
          "2024-05-15T00:00:00",
          "2024-05-16T00:00:00",
          "2024-05-17T00:00:00",
          "2024-05-21T00:00:00",
          "2024-05-22T00:00:00",
          "2024-05-23T00:00:00",
          "2024-05-24T00:00:00",
          "2024-05-27T00:00:00",
          "2024-05-28T00:00:00",
          "2024-05-29T00:00:00",
          "2024-05-30T00:00:00",
          "2024-05-31T00:00:00",
          "2024-06-03T00:00:00",
          "2024-06-04T00:00:00",
          "2024-06-05T00:00:00",
          "2024-06-06T00:00:00",
          "2024-06-07T00:00:00",
          "2024-06-10T00:00:00",
          "2024-06-11T00:00:00",
          "2024-06-12T00:00:00",
          "2024-06-13T00:00:00",
          "2024-06-14T00:00:00",
          "2024-06-18T00:00:00",
          "2024-06-19T00:00:00",
          "2024-06-20T00:00:00",
          "2024-06-21T00:00:00",
          "2024-06-24T00:00:00",
          "2024-06-25T00:00:00"
         ],
         "xaxis": "x",
         "y": [
          1001.6171707780359,
          1005.0841442818263,
          1012.6983263288051,
          1013.172163803396,
          1025.5591037095223,
          1031.8731922678548,
          1036.1914230734901,
          1039.7207950576578,
          1034.3001813725969,
          1038.47890865723,
          1045.2267832614577,
          1068.265759936924,
          1070.3698500132148,
          1082.935957850784,
          1079.277723461677,
          1084.2465945440108,
          1088.184658448388,
          1107.9372982069847,
          1074.5676599130463,
          1086.0214678993057,
          1095.2504976757275,
          1124.5375738640976,
          1136.5515448340236,
          1156.0635612083984,
          1146.790204590149,
          1150.7127624678023,
          1144.4076567158822,
          1167.3072137594859,
          1169.827478774993,
          1159.8361226571337,
          1148.5592855004134,
          1112.8752693573056,
          1118.0836745287374,
          1138.356589435486,
          1148.5844233262162,
          1161.020209565277,
          1168.002884580164,
          1164.7084014352235,
          1159.8390617065409,
          1161.5278635451527,
          1169.1842644031576,
          1168.828258583701,
          1165.7146439310982,
          1145.7667258179213,
          1154.0710506966336,
          1164.0954775512691,
          1161.2433877753701,
          1152.7221051706751,
          1123.952617072949,
          1127.9180044444279,
          1106.4445549951618,
          1085.112433065136,
          1026.3570232288166,
          1066.9203987149663,
          null,
          1071.9725515597308,
          1059.8847599774047,
          1055.208911261872,
          1071.837135453588,
          1089.8097549234653,
          1088.6939698306826,
          1106.9172430575425,
          1105.3502296733243,
          1125.4332783481382,
          1136.0449761626658,
          1151.1002657092793,
          1153.2302499275586,
          1158.2673897101236,
          1152.881839435806,
          1149.5200422349394,
          1155.292363266521,
          1156.3741676314842,
          1150.2605756983587,
          1161.5801046026284,
          1170.6026305826126,
          1167.8610778614416,
          1172.9291910016198,
          1172.5315366671819,
          1186.9205354052015,
          1199.414363477915,
          1196.6718386474893,
          1202.0882253871507,
          1205.0399597065793,
          1218.335490461458,
          1205.9346835669035,
          1187.8203243097973,
          1173.9011926474782,
          1182.7219593421003,
          1146.487151704649,
          1151.0223699554517,
          1146.1372539407992,
          1176.9153762905657,
          1194.75910211648,
          1201.133770863625,
          1212.6921214152285,
          1222.790038814649,
          1225.1019413046793,
          1223.4515364928877,
          1218.1765654727349,
          1210.2401470570837,
          1191.892708926239,
          1192.5924236863966,
          1180.810418523686,
          1187.5026469634568,
          1212.652745145913,
          1149.7653143370815,
          1178.117887226459,
          1210.9138497155911,
          1244.5780199208007,
          1266.750916922833,
          1276.1334097766023,
          1290.0855384975737,
          1259.9741183780463,
          1271.7929042282763,
          1279.437672631604,
          1269.7678239956135,
          1271.978702700274,
          1282.3230122061593,
          1283.1641785928741,
          1288.1336375573685
         ],
         "yaxis": "y"
        },
        {
         "hovertemplate": "variable=Minimum CVaR<br>index=%{x}<br>value=%{y}<extra></extra>",
         "legendgroup": "Minimum CVaR",
         "line": {
          "color": "#ab63fa",
          "dash": "solid"
         },
         "marker": {
          "symbol": "circle"
         },
         "mode": "lines",
         "name": "Minimum CVaR",
         "orientation": "v",
         "showlegend": true,
         "type": "scatter",
         "x": [
          "2023-12-27T00:00:00",
          "2023-12-28T00:00:00",
          "2023-12-29T00:00:00",
          "2024-01-01T00:00:00",
          "2024-01-02T00:00:00",
          "2024-01-03T00:00:00",
          "2024-01-04T00:00:00",
          "2024-01-05T00:00:00",
          "2024-01-08T00:00:00",
          "2024-01-09T00:00:00",
          "2024-01-10T00:00:00",
          "2024-01-11T00:00:00",
          "2024-01-12T00:00:00",
          "2024-01-15T00:00:00",
          "2024-01-16T00:00:00",
          "2024-01-17T00:00:00",
          "2024-01-18T00:00:00",
          "2024-01-19T00:00:00",
          "2024-01-23T00:00:00",
          "2024-01-24T00:00:00",
          "2024-01-25T00:00:00",
          "2024-01-29T00:00:00",
          "2024-01-30T00:00:00",
          "2024-01-31T00:00:00",
          "2024-02-01T00:00:00",
          "2024-02-02T00:00:00",
          "2024-02-05T00:00:00",
          "2024-02-06T00:00:00",
          "2024-02-07T00:00:00",
          "2024-02-08T00:00:00",
          "2024-02-09T00:00:00",
          "2024-02-12T00:00:00",
          "2024-02-13T00:00:00",
          "2024-02-14T00:00:00",
          "2024-02-15T00:00:00",
          "2024-02-16T00:00:00",
          "2024-02-19T00:00:00",
          "2024-02-20T00:00:00",
          "2024-02-21T00:00:00",
          "2024-02-22T00:00:00",
          "2024-02-23T00:00:00",
          "2024-02-26T00:00:00",
          "2024-02-27T00:00:00",
          "2024-02-28T00:00:00",
          "2024-02-29T00:00:00",
          "2024-03-01T00:00:00",
          "2024-03-04T00:00:00",
          "2024-03-05T00:00:00",
          "2024-03-06T00:00:00",
          "2024-03-07T00:00:00",
          "2024-03-11T00:00:00",
          "2024-03-12T00:00:00",
          "2024-03-13T00:00:00",
          "2024-03-14T00:00:00",
          "2024-03-15T00:00:00",
          "2024-03-18T00:00:00",
          "2024-03-19T00:00:00",
          "2024-03-20T00:00:00",
          "2024-03-21T00:00:00",
          "2024-03-22T00:00:00",
          "2024-03-26T00:00:00",
          "2024-03-27T00:00:00",
          "2024-03-28T00:00:00",
          "2024-04-01T00:00:00",
          "2024-04-02T00:00:00",
          "2024-04-03T00:00:00",
          "2024-04-04T00:00:00",
          "2024-04-05T00:00:00",
          "2024-04-08T00:00:00",
          "2024-04-09T00:00:00",
          "2024-04-10T00:00:00",
          "2024-04-12T00:00:00",
          "2024-04-15T00:00:00",
          "2024-04-16T00:00:00",
          "2024-04-18T00:00:00",
          "2024-04-19T00:00:00",
          "2024-04-22T00:00:00",
          "2024-04-23T00:00:00",
          "2024-04-24T00:00:00",
          "2024-04-25T00:00:00",
          "2024-04-26T00:00:00",
          "2024-04-29T00:00:00",
          "2024-04-30T00:00:00",
          "2024-05-02T00:00:00",
          "2024-05-03T00:00:00",
          "2024-05-06T00:00:00",
          "2024-05-07T00:00:00",
          "2024-05-08T00:00:00",
          "2024-05-09T00:00:00",
          "2024-05-10T00:00:00",
          "2024-05-13T00:00:00",
          "2024-05-14T00:00:00",
          "2024-05-15T00:00:00",
          "2024-05-16T00:00:00",
          "2024-05-17T00:00:00",
          "2024-05-21T00:00:00",
          "2024-05-22T00:00:00",
          "2024-05-23T00:00:00",
          "2024-05-24T00:00:00",
          "2024-05-27T00:00:00",
          "2024-05-28T00:00:00",
          "2024-05-29T00:00:00",
          "2024-05-30T00:00:00",
          "2024-05-31T00:00:00",
          "2024-06-03T00:00:00",
          "2024-06-04T00:00:00",
          "2024-06-05T00:00:00",
          "2024-06-06T00:00:00",
          "2024-06-07T00:00:00",
          "2024-06-10T00:00:00",
          "2024-06-11T00:00:00",
          "2024-06-12T00:00:00",
          "2024-06-13T00:00:00",
          "2024-06-14T00:00:00",
          "2024-06-18T00:00:00",
          "2024-06-19T00:00:00",
          "2024-06-20T00:00:00",
          "2024-06-21T00:00:00",
          "2024-06-24T00:00:00",
          "2024-06-25T00:00:00"
         ],
         "xaxis": "x",
         "y": [
          1001.7859892902629,
          1004.2806567417533,
          1011.9610653834072,
          1012.2799929185045,
          1024.3170263108605,
          1030.3825676626516,
          1034.890654926756,
          1038.2155471062083,
          1032.9009566371667,
          1036.7298680100905,
          1043.4099220183302,
          1064.8565460847265,
          1066.3583774197245,
          1078.130472610106,
          1074.432987446262,
          1079.5914910255733,
          1083.5593884159855,
          1102.9375860192138,
          1070.8883989703202,
          1082.6344280440394,
          1091.8313901434838,
          1120.334670099803,
          1130.3175584600592,
          1150.0196128510088,
          1140.782849276023,
          1143.9860462886181,
          1137.3151445175793,
          1159.0346876034002,
          1162.084065842106,
          1152.4686117079325,
          1142.6403287393773,
          1107.643929841479,
          1112.7892098783918,
          1132.574942562947,
          1141.6763054373776,
          1154.4304784234073,
          1161.825025711506,
          1159.2048567599206,
          1155.8665448273036,
          1157.2581539960704,
          1164.7483064061128,
          1164.3915908257275,
          1160.7435556168539,
          1141.6049999897227,
          1150.8433202642593,
          1160.6470579308125,
          1157.6676685838722,
          1148.3957174976274,
          1120.9651028370868,
          1124.9243200395256,
          1103.6287650729992,
          1083.7970076858887,
          1026.8023345532254,
          1065.5720580457112,
          null,
          1072.8220132138676,
          1059.6793323617057,
          1054.7829597419363,
          1069.9612495805939,
          1088.7870943783664,
          1088.0964263675755,
          1105.020454005749,
          1105.2211608533137,
          1123.520592131944,
          1133.3873262076052,
          1148.7472066824946,
          1151.6710651169012,
          1155.881830829226,
          1150.167091493456,
          1146.4560155705133,
          1150.9096336527539,
          1153.1525381710392,
          1148.6070189169782,
          1160.8829387276655,
          1171.0946431821221,
          1166.4208932946628,
          1171.4489806974057,
          1170.191159426055,
          1182.4754251712618,
          1194.7064752891376,
          1191.9911029334633,
          1197.5878579667412,
          1201.4098286274932,
          1213.9742150603759,
          1201.7146077151272,
          1184.6518397466996,
          1171.898701261413,
          1181.9667474218597,
          1146.9571217325124,
          1150.9273353650285,
          1144.088883224458,
          1173.7535571371398,
          1193.4466607749669,
          1200.192942512904,
          1211.2764611687548,
          1221.6891227063477,
          1225.4987164702723,
          1222.1796049251307,
          1216.1878313499817,
          1207.2623557951244,
          1188.844701567934,
          1189.7132130579007,
          1178.3942131249999,
          1184.9761043957672,
          1208.5818190342409,
          1149.3076100249434,
          1177.568651507739,
          1209.3509289927179,
          1242.9017354863317,
          1263.905557422325,
          1273.7507034439539,
          1286.2833316657805,
          1249.3617300105932,
          1261.3538418658284,
          1269.8124968359664,
          1260.4331618454792,
          1260.6902456875966,
          1270.178096054328,
          1269.4451016982498,
          1274.0703448841543
         ],
         "yaxis": "y"
        },
        {
         "hovertemplate": "variable=NIFTY50<br>index=%{x}<br>value=%{y}<extra></extra>",
         "legendgroup": "NIFTY50",
         "line": {
          "color": "#FFA15A",
          "dash": "solid"
         },
         "marker": {
          "symbol": "circle"
         },
         "mode": "lines",
         "name": "NIFTY50",
         "orientation": "v",
         "showlegend": true,
         "type": "scatter",
         "x": [
          "2023-12-27T00:00:00",
          "2023-12-28T00:00:00",
          "2023-12-29T00:00:00",
          "2024-01-01T00:00:00",
          "2024-01-02T00:00:00",
          "2024-01-03T00:00:00",
          "2024-01-04T00:00:00",
          "2024-01-05T00:00:00",
          "2024-01-08T00:00:00",
          "2024-01-09T00:00:00",
          "2024-01-10T00:00:00",
          "2024-01-11T00:00:00",
          "2024-01-12T00:00:00",
          "2024-01-15T00:00:00",
          "2024-01-16T00:00:00",
          "2024-01-17T00:00:00",
          "2024-01-18T00:00:00",
          "2024-01-19T00:00:00",
          "2024-01-23T00:00:00",
          "2024-01-24T00:00:00",
          "2024-01-25T00:00:00",
          "2024-01-29T00:00:00",
          "2024-01-30T00:00:00",
          "2024-01-31T00:00:00",
          "2024-02-01T00:00:00",
          "2024-02-02T00:00:00",
          "2024-02-05T00:00:00",
          "2024-02-06T00:00:00",
          "2024-02-07T00:00:00",
          "2024-02-08T00:00:00",
          "2024-02-09T00:00:00",
          "2024-02-12T00:00:00",
          "2024-02-13T00:00:00",
          "2024-02-14T00:00:00",
          "2024-02-15T00:00:00",
          "2024-02-16T00:00:00",
          "2024-02-19T00:00:00",
          "2024-02-20T00:00:00",
          "2024-02-21T00:00:00",
          "2024-02-22T00:00:00",
          "2024-02-23T00:00:00",
          "2024-02-26T00:00:00",
          "2024-02-27T00:00:00",
          "2024-02-28T00:00:00",
          "2024-02-29T00:00:00",
          "2024-03-01T00:00:00",
          "2024-03-04T00:00:00",
          "2024-03-05T00:00:00",
          "2024-03-06T00:00:00",
          "2024-03-07T00:00:00",
          "2024-03-11T00:00:00",
          "2024-03-12T00:00:00",
          "2024-03-13T00:00:00",
          "2024-03-14T00:00:00",
          "2024-03-15T00:00:00",
          "2024-03-18T00:00:00",
          "2024-03-19T00:00:00",
          "2024-03-20T00:00:00",
          "2024-03-21T00:00:00",
          "2024-03-22T00:00:00",
          "2024-03-26T00:00:00",
          "2024-03-27T00:00:00",
          "2024-03-28T00:00:00",
          "2024-04-01T00:00:00",
          "2024-04-02T00:00:00",
          "2024-04-03T00:00:00",
          "2024-04-04T00:00:00",
          "2024-04-05T00:00:00",
          "2024-04-08T00:00:00",
          "2024-04-09T00:00:00",
          "2024-04-10T00:00:00",
          "2024-04-12T00:00:00",
          "2024-04-15T00:00:00",
          "2024-04-16T00:00:00",
          "2024-04-18T00:00:00",
          "2024-04-19T00:00:00",
          "2024-04-22T00:00:00",
          "2024-04-23T00:00:00",
          "2024-04-24T00:00:00",
          "2024-04-25T00:00:00",
          "2024-04-26T00:00:00",
          "2024-04-29T00:00:00",
          "2024-04-30T00:00:00",
          "2024-05-02T00:00:00",
          "2024-05-03T00:00:00",
          "2024-05-06T00:00:00",
          "2024-05-07T00:00:00",
          "2024-05-08T00:00:00",
          "2024-05-09T00:00:00",
          "2024-05-10T00:00:00",
          "2024-05-13T00:00:00",
          "2024-05-14T00:00:00",
          "2024-05-15T00:00:00",
          "2024-05-16T00:00:00",
          "2024-05-17T00:00:00",
          "2024-05-21T00:00:00",
          "2024-05-22T00:00:00",
          "2024-05-23T00:00:00",
          "2024-05-24T00:00:00",
          "2024-05-27T00:00:00",
          "2024-05-28T00:00:00",
          "2024-05-29T00:00:00",
          "2024-05-30T00:00:00",
          "2024-05-31T00:00:00",
          "2024-06-03T00:00:00",
          "2024-06-04T00:00:00",
          "2024-06-05T00:00:00",
          "2024-06-06T00:00:00",
          "2024-06-07T00:00:00",
          "2024-06-10T00:00:00",
          "2024-06-11T00:00:00",
          "2024-06-12T00:00:00",
          "2024-06-13T00:00:00",
          "2024-06-14T00:00:00",
          "2024-06-18T00:00:00",
          "2024-06-19T00:00:00",
          "2024-06-20T00:00:00",
          "2024-06-21T00:00:00",
          "2024-06-24T00:00:00",
          "2024-06-25T00:00:00"
         ],
         "xaxis": "x",
         "y": [
          null,
          null,
          997.8282069259545,
          998.3103293839828,
          994.8161074099961,
          987.9997603736592,
          994.4854553447525,
          996.8823465158312,
          987.8000418628652,
          989.2624620494472,
          992.653372068142,
          993.9619901685041,
          1005.319489531324,
          1014.6358603329979,
          1011.6444770164079,
          990.5067792193023,
          985.4697833157288,
          992.8233166473764,
          975.2097941168505,
          985.0886411195572,
          980.4350294250743,
          998.1128528861074,
          988.2178633903864,
          997.5664294975721,
          996.2692905033534,
          1003.4483952299291,
          999.6785850279812,
          1006.9196589916287,
          1006.9701491225569,
          997.2105772071228,
          1000.1745182855883,
          992.5317652874342,
          998.3722986210545,
          1002.8170443920352,
          1006.0632997372181,
          1012.0301032384172,
          1015.7746235346425,
          1019.204544578122,
          1012.689075675469,
          1020.1458312818912,
          1019.9277282651642,
          1015.7654761219344,
          1019.2688455086289,
          1007.9183412261152,
          1009.3716139999893,
          1025.7155294549375,
          1028.7850245016134,
          1026.5213985784198,
          1031.9280575720215,
          1032.8234278512168,
          1025.435457201139,
          1025.5754484877798,
          1010.0556969817299,
          1016.895002230354,
          1011.2334712081592,
          1012.7188496070283,
          1001.7792614522463,
          1002.7733699803791,
          1010.710006031911,
          1014.6037547080023,
          1010.3771119537486,
          1015.8389244651491,
          1025.1714377598373,
          1031.3747287836966,
          1030.9752917621086,
          1030.118932507698,
          1033.7922464736268,
          1033.7485720619716,
          1040.7554901963942,
          1039.6741225254673,
          1044.7731773466292,
          1034.010349490354,
          1022.6735663269027,
          1016.9523977610717,
          1009.9707695323714,
          1016.9110550428518,
          1025.6076437932918,
          1027.05858487373,
          1028.6381278151828,
          1036.3497554501985,
          1029.4439072581488,
          1039.7039861375438,
          1037.9338720980052,
          1039.9243311671896,
          1032.0106533279447,
          1030.4885059172095,
          1024.0510590641256,
          1024.0510590641256,
          1008.209892586057,
          1012.695891394741,
          1014.9389804795999,
          1020.1642157878237,
          1019.3699154510016,
          1028.7046707586085,
          1031.562968188347,
          1034.4534609235973,
          1037.6102151130674,
          1054.5923868056993,
          1054.1079326542358,
          1052.9760748523806,
          1050.9420310520577,
          1042.5186091556266,
          1032.5984194346997,
          1034.5291512797312,
          1068.19512758578,
          1004.8579935921468,
          1038.6455766789036,
          1047.8771097117353,
          1069.4004337308504,
          1067.9792665819716,
          1068.2387123169187,
          1070.9064386485713,
          1074.3938449032853,
          1077.4564345501717,
          1081.6945564105688,
          1079.7706402848103,
          1082.1123779380898,
          1079.0864676225526,
          1080.7738962256512,
          1089.197318122082
         ],
         "yaxis": "y"
        }
       ],
       "layout": {
        "legend": {
         "title": {
          "text": "Portfolios"
         },
         "tracegroupgap": 0
        },
        "margin": {
         "t": 60
        },
        "template": {
         "data": {
          "bar": [
           {
            "error_x": {
             "color": "#2a3f5f"
            },
            "error_y": {
             "color": "#2a3f5f"
            },
            "marker": {
             "line": {
              "color": "#E5ECF6",
              "width": 0.5
             },
             "pattern": {
              "fillmode": "overlay",
              "size": 10,
              "solidity": 0.2
             }
            },
            "type": "bar"
           }
          ],
          "barpolar": [
           {
            "marker": {
             "line": {
              "color": "#E5ECF6",
              "width": 0.5
             },
             "pattern": {
              "fillmode": "overlay",
              "size": 10,
              "solidity": 0.2
             }
            },
            "type": "barpolar"
           }
          ],
          "carpet": [
           {
            "aaxis": {
             "endlinecolor": "#2a3f5f",
             "gridcolor": "white",
             "linecolor": "white",
             "minorgridcolor": "white",
             "startlinecolor": "#2a3f5f"
            },
            "baxis": {
             "endlinecolor": "#2a3f5f",
             "gridcolor": "white",
             "linecolor": "white",
             "minorgridcolor": "white",
             "startlinecolor": "#2a3f5f"
            },
            "type": "carpet"
           }
          ],
          "choropleth": [
           {
            "colorbar": {
             "outlinewidth": 0,
             "ticks": ""
            },
            "type": "choropleth"
           }
          ],
          "contour": [
           {
            "colorbar": {
             "outlinewidth": 0,
             "ticks": ""
            },
            "colorscale": [
             [
              0,
              "#0d0887"
             ],
             [
              0.1111111111111111,
              "#46039f"
             ],
             [
              0.2222222222222222,
              "#7201a8"
             ],
             [
              0.3333333333333333,
              "#9c179e"
             ],
             [
              0.4444444444444444,
              "#bd3786"
             ],
             [
              0.5555555555555556,
              "#d8576b"
             ],
             [
              0.6666666666666666,
              "#ed7953"
             ],
             [
              0.7777777777777778,
              "#fb9f3a"
             ],
             [
              0.8888888888888888,
              "#fdca26"
             ],
             [
              1,
              "#f0f921"
             ]
            ],
            "type": "contour"
           }
          ],
          "contourcarpet": [
           {
            "colorbar": {
             "outlinewidth": 0,
             "ticks": ""
            },
            "type": "contourcarpet"
           }
          ],
          "heatmap": [
           {
            "colorbar": {
             "outlinewidth": 0,
             "ticks": ""
            },
            "colorscale": [
             [
              0,
              "#0d0887"
             ],
             [
              0.1111111111111111,
              "#46039f"
             ],
             [
              0.2222222222222222,
              "#7201a8"
             ],
             [
              0.3333333333333333,
              "#9c179e"
             ],
             [
              0.4444444444444444,
              "#bd3786"
             ],
             [
              0.5555555555555556,
              "#d8576b"
             ],
             [
              0.6666666666666666,
              "#ed7953"
             ],
             [
              0.7777777777777778,
              "#fb9f3a"
             ],
             [
              0.8888888888888888,
              "#fdca26"
             ],
             [
              1,
              "#f0f921"
             ]
            ],
            "type": "heatmap"
           }
          ],
          "heatmapgl": [
           {
            "colorbar": {
             "outlinewidth": 0,
             "ticks": ""
            },
            "colorscale": [
             [
              0,
              "#0d0887"
             ],
             [
              0.1111111111111111,
              "#46039f"
             ],
             [
              0.2222222222222222,
              "#7201a8"
             ],
             [
              0.3333333333333333,
              "#9c179e"
             ],
             [
              0.4444444444444444,
              "#bd3786"
             ],
             [
              0.5555555555555556,
              "#d8576b"
             ],
             [
              0.6666666666666666,
              "#ed7953"
             ],
             [
              0.7777777777777778,
              "#fb9f3a"
             ],
             [
              0.8888888888888888,
              "#fdca26"
             ],
             [
              1,
              "#f0f921"
             ]
            ],
            "type": "heatmapgl"
           }
          ],
          "histogram": [
           {
            "marker": {
             "pattern": {
              "fillmode": "overlay",
              "size": 10,
              "solidity": 0.2
             }
            },
            "type": "histogram"
           }
          ],
          "histogram2d": [
           {
            "colorbar": {
             "outlinewidth": 0,
             "ticks": ""
            },
            "colorscale": [
             [
              0,
              "#0d0887"
             ],
             [
              0.1111111111111111,
              "#46039f"
             ],
             [
              0.2222222222222222,
              "#7201a8"
             ],
             [
              0.3333333333333333,
              "#9c179e"
             ],
             [
              0.4444444444444444,
              "#bd3786"
             ],
             [
              0.5555555555555556,
              "#d8576b"
             ],
             [
              0.6666666666666666,
              "#ed7953"
             ],
             [
              0.7777777777777778,
              "#fb9f3a"
             ],
             [
              0.8888888888888888,
              "#fdca26"
             ],
             [
              1,
              "#f0f921"
             ]
            ],
            "type": "histogram2d"
           }
          ],
          "histogram2dcontour": [
           {
            "colorbar": {
             "outlinewidth": 0,
             "ticks": ""
            },
            "colorscale": [
             [
              0,
              "#0d0887"
             ],
             [
              0.1111111111111111,
              "#46039f"
             ],
             [
              0.2222222222222222,
              "#7201a8"
             ],
             [
              0.3333333333333333,
              "#9c179e"
             ],
             [
              0.4444444444444444,
              "#bd3786"
             ],
             [
              0.5555555555555556,
              "#d8576b"
             ],
             [
              0.6666666666666666,
              "#ed7953"
             ],
             [
              0.7777777777777778,
              "#fb9f3a"
             ],
             [
              0.8888888888888888,
              "#fdca26"
             ],
             [
              1,
              "#f0f921"
             ]
            ],
            "type": "histogram2dcontour"
           }
          ],
          "mesh3d": [
           {
            "colorbar": {
             "outlinewidth": 0,
             "ticks": ""
            },
            "type": "mesh3d"
           }
          ],
          "parcoords": [
           {
            "line": {
             "colorbar": {
              "outlinewidth": 0,
              "ticks": ""
             }
            },
            "type": "parcoords"
           }
          ],
          "pie": [
           {
            "automargin": true,
            "type": "pie"
           }
          ],
          "scatter": [
           {
            "fillpattern": {
             "fillmode": "overlay",
             "size": 10,
             "solidity": 0.2
            },
            "type": "scatter"
           }
          ],
          "scatter3d": [
           {
            "line": {
             "colorbar": {
              "outlinewidth": 0,
              "ticks": ""
             }
            },
            "marker": {
             "colorbar": {
              "outlinewidth": 0,
              "ticks": ""
             }
            },
            "type": "scatter3d"
           }
          ],
          "scattercarpet": [
           {
            "marker": {
             "colorbar": {
              "outlinewidth": 0,
              "ticks": ""
             }
            },
            "type": "scattercarpet"
           }
          ],
          "scattergeo": [
           {
            "marker": {
             "colorbar": {
              "outlinewidth": 0,
              "ticks": ""
             }
            },
            "type": "scattergeo"
           }
          ],
          "scattergl": [
           {
            "marker": {
             "colorbar": {
              "outlinewidth": 0,
              "ticks": ""
             }
            },
            "type": "scattergl"
           }
          ],
          "scattermapbox": [
           {
            "marker": {
             "colorbar": {
              "outlinewidth": 0,
              "ticks": ""
             }
            },
            "type": "scattermapbox"
           }
          ],
          "scatterpolar": [
           {
            "marker": {
             "colorbar": {
              "outlinewidth": 0,
              "ticks": ""
             }
            },
            "type": "scatterpolar"
           }
          ],
          "scatterpolargl": [
           {
            "marker": {
             "colorbar": {
              "outlinewidth": 0,
              "ticks": ""
             }
            },
            "type": "scatterpolargl"
           }
          ],
          "scatterternary": [
           {
            "marker": {
             "colorbar": {
              "outlinewidth": 0,
              "ticks": ""
             }
            },
            "type": "scatterternary"
           }
          ],
          "surface": [
           {
            "colorbar": {
             "outlinewidth": 0,
             "ticks": ""
            },
            "colorscale": [
             [
              0,
              "#0d0887"
             ],
             [
              0.1111111111111111,
              "#46039f"
             ],
             [
              0.2222222222222222,
              "#7201a8"
             ],
             [
              0.3333333333333333,
              "#9c179e"
             ],
             [
              0.4444444444444444,
              "#bd3786"
             ],
             [
              0.5555555555555556,
              "#d8576b"
             ],
             [
              0.6666666666666666,
              "#ed7953"
             ],
             [
              0.7777777777777778,
              "#fb9f3a"
             ],
             [
              0.8888888888888888,
              "#fdca26"
             ],
             [
              1,
              "#f0f921"
             ]
            ],
            "type": "surface"
           }
          ],
          "table": [
           {
            "cells": {
             "fill": {
              "color": "#EBF0F8"
             },
             "line": {
              "color": "white"
             }
            },
            "header": {
             "fill": {
              "color": "#C8D4E3"
             },
             "line": {
              "color": "white"
             }
            },
            "type": "table"
           }
          ]
         },
         "layout": {
          "annotationdefaults": {
           "arrowcolor": "#2a3f5f",
           "arrowhead": 0,
           "arrowwidth": 1
          },
          "autotypenumbers": "strict",
          "coloraxis": {
           "colorbar": {
            "outlinewidth": 0,
            "ticks": ""
           }
          },
          "colorscale": {
           "diverging": [
            [
             0,
             "#8e0152"
            ],
            [
             0.1,
             "#c51b7d"
            ],
            [
             0.2,
             "#de77ae"
            ],
            [
             0.3,
             "#f1b6da"
            ],
            [
             0.4,
             "#fde0ef"
            ],
            [
             0.5,
             "#f7f7f7"
            ],
            [
             0.6,
             "#e6f5d0"
            ],
            [
             0.7,
             "#b8e186"
            ],
            [
             0.8,
             "#7fbc41"
            ],
            [
             0.9,
             "#4d9221"
            ],
            [
             1,
             "#276419"
            ]
           ],
           "sequential": [
            [
             0,
             "#0d0887"
            ],
            [
             0.1111111111111111,
             "#46039f"
            ],
            [
             0.2222222222222222,
             "#7201a8"
            ],
            [
             0.3333333333333333,
             "#9c179e"
            ],
            [
             0.4444444444444444,
             "#bd3786"
            ],
            [
             0.5555555555555556,
             "#d8576b"
            ],
            [
             0.6666666666666666,
             "#ed7953"
            ],
            [
             0.7777777777777778,
             "#fb9f3a"
            ],
            [
             0.8888888888888888,
             "#fdca26"
            ],
            [
             1,
             "#f0f921"
            ]
           ],
           "sequentialminus": [
            [
             0,
             "#0d0887"
            ],
            [
             0.1111111111111111,
             "#46039f"
            ],
            [
             0.2222222222222222,
             "#7201a8"
            ],
            [
             0.3333333333333333,
             "#9c179e"
            ],
            [
             0.4444444444444444,
             "#bd3786"
            ],
            [
             0.5555555555555556,
             "#d8576b"
            ],
            [
             0.6666666666666666,
             "#ed7953"
            ],
            [
             0.7777777777777778,
             "#fb9f3a"
            ],
            [
             0.8888888888888888,
             "#fdca26"
            ],
            [
             1,
             "#f0f921"
            ]
           ]
          },
          "colorway": [
           "#636efa",
           "#EF553B",
           "#00cc96",
           "#ab63fa",
           "#FFA15A",
           "#19d3f3",
           "#FF6692",
           "#B6E880",
           "#FF97FF",
           "#FECB52"
          ],
          "font": {
           "color": "#2a3f5f"
          },
          "geo": {
           "bgcolor": "white",
           "lakecolor": "white",
           "landcolor": "#E5ECF6",
           "showlakes": true,
           "showland": true,
           "subunitcolor": "white"
          },
          "hoverlabel": {
           "align": "left"
          },
          "hovermode": "closest",
          "mapbox": {
           "style": "light"
          },
          "paper_bgcolor": "white",
          "plot_bgcolor": "#E5ECF6",
          "polar": {
           "angularaxis": {
            "gridcolor": "white",
            "linecolor": "white",
            "ticks": ""
           },
           "bgcolor": "#E5ECF6",
           "radialaxis": {
            "gridcolor": "white",
            "linecolor": "white",
            "ticks": ""
           }
          },
          "scene": {
           "xaxis": {
            "backgroundcolor": "#E5ECF6",
            "gridcolor": "white",
            "gridwidth": 2,
            "linecolor": "white",
            "showbackground": true,
            "ticks": "",
            "zerolinecolor": "white"
           },
           "yaxis": {
            "backgroundcolor": "#E5ECF6",
            "gridcolor": "white",
            "gridwidth": 2,
            "linecolor": "white",
            "showbackground": true,
            "ticks": "",
            "zerolinecolor": "white"
           },
           "zaxis": {
            "backgroundcolor": "#E5ECF6",
            "gridcolor": "white",
            "gridwidth": 2,
            "linecolor": "white",
            "showbackground": true,
            "ticks": "",
            "zerolinecolor": "white"
           }
          },
          "shapedefaults": {
           "line": {
            "color": "#2a3f5f"
           }
          },
          "ternary": {
           "aaxis": {
            "gridcolor": "white",
            "linecolor": "white",
            "ticks": ""
           },
           "baxis": {
            "gridcolor": "white",
            "linecolor": "white",
            "ticks": ""
           },
           "bgcolor": "#E5ECF6",
           "caxis": {
            "gridcolor": "white",
            "linecolor": "white",
            "ticks": ""
           }
          },
          "title": {
           "x": 0.05
          },
          "xaxis": {
           "automargin": true,
           "gridcolor": "white",
           "linecolor": "white",
           "ticks": "",
           "title": {
            "standoff": 15
           },
           "zerolinecolor": "white",
           "zerolinewidth": 2
          },
          "yaxis": {
           "automargin": true,
           "gridcolor": "white",
           "linecolor": "white",
           "ticks": "",
           "title": {
            "standoff": 15
           },
           "zerolinecolor": "white",
           "zerolinewidth": 2
          }
         }
        },
        "title": {
         "text": "Cumulative Returns (compounded)"
        },
        "xaxis": {
         "anchor": "y",
         "domain": [
          0,
          1
         ],
         "title": {
          "text": "Observations"
         }
        },
        "yaxis": {
         "anchor": "x",
         "domain": [
          0,
          1
         ],
         "tickformat": ".0f",
         "title": {
          "text": "Cumulative Returns (rebased at 1000)"
         }
        }
       }
      }
     },
     "metadata": {},
     "output_type": "display_data"
    }
   ],
   "source": [
    "population.plot_cumulative_returns()"
   ]
  },
  {
   "cell_type": "code",
   "execution_count": 14,
   "metadata": {},
   "outputs": [
    {
     "data": {
      "text/html": [
       "<div>\n",
       "<style scoped>\n",
       "    .dataframe tbody tr th:only-of-type {\n",
       "        vertical-align: middle;\n",
       "    }\n",
       "\n",
       "    .dataframe tbody tr th {\n",
       "        vertical-align: top;\n",
       "    }\n",
       "\n",
       "    .dataframe thead th {\n",
       "        text-align: right;\n",
       "    }\n",
       "</style>\n",
       "<table border=\"1\" class=\"dataframe\">\n",
       "  <thead>\n",
       "    <tr style=\"text-align: right;\">\n",
       "      <th></th>\n",
       "      <th>NCO-1</th>\n",
       "      <th>Max Sharpe</th>\n",
       "      <th>Minimum Variance</th>\n",
       "      <th>Minimum CVaR</th>\n",
       "      <th>NIFTY50</th>\n",
       "    </tr>\n",
       "  </thead>\n",
       "  <tbody>\n",
       "    <tr>\n",
       "      <th>Mean</th>\n",
       "      <td>0.27%</td>\n",
       "      <td>0.23%</td>\n",
       "      <td>0.22%</td>\n",
       "      <td>0.21%</td>\n",
       "      <td>0.077%</td>\n",
       "    </tr>\n",
       "    <tr>\n",
       "      <th>Annualized Mean</th>\n",
       "      <td>67.67%</td>\n",
       "      <td>58.25%</td>\n",
       "      <td>56.19%</td>\n",
       "      <td>53.76%</td>\n",
       "      <td>19.49%</td>\n",
       "    </tr>\n",
       "    <tr>\n",
       "      <th>Variance</th>\n",
       "      <td>0.026%</td>\n",
       "      <td>0.027%</td>\n",
       "      <td>0.020%</td>\n",
       "      <td>0.019%</td>\n",
       "      <td>0.0098%</td>\n",
       "    </tr>\n",
       "    <tr>\n",
       "      <th>Annualized Variance</th>\n",
       "      <td>6.51%</td>\n",
       "      <td>6.72%</td>\n",
       "      <td>5.04%</td>\n",
       "      <td>4.83%</td>\n",
       "      <td>2.48%</td>\n",
       "    </tr>\n",
       "    <tr>\n",
       "      <th>Semi-Variance</th>\n",
       "      <td>0.014%</td>\n",
       "      <td>0.015%</td>\n",
       "      <td>0.012%</td>\n",
       "      <td>0.012%</td>\n",
       "      <td>0.0058%</td>\n",
       "    </tr>\n",
       "    <tr>\n",
       "      <th>Annualized Semi-Variance</th>\n",
       "      <td>3.62%</td>\n",
       "      <td>3.88%</td>\n",
       "      <td>3.11%</td>\n",
       "      <td>2.98%</td>\n",
       "      <td>1.46%</td>\n",
       "    </tr>\n",
       "    <tr>\n",
       "      <th>Standard Deviation</th>\n",
       "      <td>1.61%</td>\n",
       "      <td>1.63%</td>\n",
       "      <td>1.41%</td>\n",
       "      <td>1.38%</td>\n",
       "      <td>0.99%</td>\n",
       "    </tr>\n",
       "    <tr>\n",
       "      <th>Annualized Standard Deviation</th>\n",
       "      <td>25.52%</td>\n",
       "      <td>25.91%</td>\n",
       "      <td>22.45%</td>\n",
       "      <td>21.97%</td>\n",
       "      <td>15.74%</td>\n",
       "    </tr>\n",
       "    <tr>\n",
       "      <th>Semi-Deviation</th>\n",
       "      <td>1.20%</td>\n",
       "      <td>1.24%</td>\n",
       "      <td>1.11%</td>\n",
       "      <td>1.09%</td>\n",
       "      <td>0.76%</td>\n",
       "    </tr>\n",
       "    <tr>\n",
       "      <th>Annualized Semi-Deviation</th>\n",
       "      <td>19.02%</td>\n",
       "      <td>19.71%</td>\n",
       "      <td>17.63%</td>\n",
       "      <td>17.27%</td>\n",
       "      <td>12.09%</td>\n",
       "    </tr>\n",
       "    <tr>\n",
       "      <th>Mean Absolute Deviation</th>\n",
       "      <td>1.13%</td>\n",
       "      <td>1.16%</td>\n",
       "      <td>0.99%</td>\n",
       "      <td>0.97%</td>\n",
       "      <td>0.63%</td>\n",
       "    </tr>\n",
       "    <tr>\n",
       "      <th>CVaR at 95%</th>\n",
       "      <td>3.90%</td>\n",
       "      <td>4.13%</td>\n",
       "      <td>3.72%</td>\n",
       "      <td>3.67%</td>\n",
       "      <td>2.35%</td>\n",
       "    </tr>\n",
       "    <tr>\n",
       "      <th>EVaR at 95%</th>\n",
       "      <td>4.95%</td>\n",
       "      <td>4.97%</td>\n",
       "      <td>4.58%</td>\n",
       "      <td>4.42%</td>\n",
       "      <td>4.47%</td>\n",
       "    </tr>\n",
       "    <tr>\n",
       "      <th>Worst Realization</th>\n",
       "      <td>5.79%</td>\n",
       "      <td>5.92%</td>\n",
       "      <td>5.41%</td>\n",
       "      <td>5.26%</td>\n",
       "      <td>5.93%</td>\n",
       "    </tr>\n",
       "    <tr>\n",
       "      <th>CDaR at 95%</th>\n",
       "      <td>9.86%</td>\n",
       "      <td>12.20%</td>\n",
       "      <td>9.51%</td>\n",
       "      <td>9.15%</td>\n",
       "      <td>3.86%</td>\n",
       "    </tr>\n",
       "    <tr>\n",
       "      <th>MAX Drawdown</th>\n",
       "      <td>12.14%</td>\n",
       "      <td>14.05%</td>\n",
       "      <td>12.26%</td>\n",
       "      <td>11.84%</td>\n",
       "      <td>5.93%</td>\n",
       "    </tr>\n",
       "    <tr>\n",
       "      <th>Average Drawdown</th>\n",
       "      <td>1.89%</td>\n",
       "      <td>2.69%</td>\n",
       "      <td>1.90%</td>\n",
       "      <td>1.86%</td>\n",
       "      <td>1.14%</td>\n",
       "    </tr>\n",
       "    <tr>\n",
       "      <th>EDaR at 95%</th>\n",
       "      <td>10.64%</td>\n",
       "      <td>12.99%</td>\n",
       "      <td>10.51%</td>\n",
       "      <td>10.14%</td>\n",
       "      <td>4.92%</td>\n",
       "    </tr>\n",
       "    <tr>\n",
       "      <th>First Lower Partial Moment</th>\n",
       "      <td>0.56%</td>\n",
       "      <td>0.58%</td>\n",
       "      <td>0.49%</td>\n",
       "      <td>0.49%</td>\n",
       "      <td>0.32%</td>\n",
       "    </tr>\n",
       "    <tr>\n",
       "      <th>Ulcer Index</th>\n",
       "      <td>0.033</td>\n",
       "      <td>0.043</td>\n",
       "      <td>0.032</td>\n",
       "      <td>0.031</td>\n",
       "      <td>0.016</td>\n",
       "    </tr>\n",
       "    <tr>\n",
       "      <th>Gini Mean Difference</th>\n",
       "      <td>1.70%</td>\n",
       "      <td>1.74%</td>\n",
       "      <td>1.48%</td>\n",
       "      <td>1.45%</td>\n",
       "      <td>0.96%</td>\n",
       "    </tr>\n",
       "    <tr>\n",
       "      <th>Value at Risk at 95%</th>\n",
       "      <td>2.70%</td>\n",
       "      <td>3.03%</td>\n",
       "      <td>2.50%</td>\n",
       "      <td>2.87%</td>\n",
       "      <td>1.11%</td>\n",
       "    </tr>\n",
       "    <tr>\n",
       "      <th>Drawdown at Risk at 95%</th>\n",
       "      <td>8.57%</td>\n",
       "      <td>10.04%</td>\n",
       "      <td>8.36%</td>\n",
       "      <td>7.89%</td>\n",
       "      <td>3.07%</td>\n",
       "    </tr>\n",
       "    <tr>\n",
       "      <th>Entropic Risk Measure at 95%</th>\n",
       "      <td>2.99</td>\n",
       "      <td>2.99</td>\n",
       "      <td>2.99</td>\n",
       "      <td>2.99</td>\n",
       "      <td>3.00</td>\n",
       "    </tr>\n",
       "    <tr>\n",
       "      <th>Fourth Central Moment</th>\n",
       "      <td>0.000039%</td>\n",
       "      <td>0.000038%</td>\n",
       "      <td>0.000024%</td>\n",
       "      <td>0.000021%</td>\n",
       "      <td>0.000014%</td>\n",
       "    </tr>\n",
       "    <tr>\n",
       "      <th>Fourth Lower Partial Moment</th>\n",
       "      <td>0.000027%</td>\n",
       "      <td>0.000029%</td>\n",
       "      <td>0.000020%</td>\n",
       "      <td>0.000018%</td>\n",
       "      <td>0.000012%</td>\n",
       "    </tr>\n",
       "    <tr>\n",
       "      <th>Skew</th>\n",
       "      <td>-0.56</td>\n",
       "      <td>-0.72</td>\n",
       "      <td>-1.04</td>\n",
       "      <td>-1.02</td>\n",
       "      <td>-1.39</td>\n",
       "    </tr>\n",
       "    <tr>\n",
       "      <th>Kurtosis</th>\n",
       "      <td>5.81</td>\n",
       "      <td>5.31</td>\n",
       "      <td>6.05</td>\n",
       "      <td>5.80</td>\n",
       "      <td>14.28</td>\n",
       "    </tr>\n",
       "    <tr>\n",
       "      <th>Sharpe Ratio</th>\n",
       "      <td>0.17</td>\n",
       "      <td>0.14</td>\n",
       "      <td>0.16</td>\n",
       "      <td>0.15</td>\n",
       "      <td>0.078</td>\n",
       "    </tr>\n",
       "    <tr>\n",
       "      <th>Annualized Sharpe Ratio</th>\n",
       "      <td>2.65</td>\n",
       "      <td>2.25</td>\n",
       "      <td>2.50</td>\n",
       "      <td>2.45</td>\n",
       "      <td>1.24</td>\n",
       "    </tr>\n",
       "    <tr>\n",
       "      <th>Sortino Ratio</th>\n",
       "      <td>0.22</td>\n",
       "      <td>0.19</td>\n",
       "      <td>0.20</td>\n",
       "      <td>0.20</td>\n",
       "      <td>0.10</td>\n",
       "    </tr>\n",
       "    <tr>\n",
       "      <th>Annualized Sortino Ratio</th>\n",
       "      <td>3.56</td>\n",
       "      <td>2.96</td>\n",
       "      <td>3.19</td>\n",
       "      <td>3.11</td>\n",
       "      <td>1.61</td>\n",
       "    </tr>\n",
       "    <tr>\n",
       "      <th>Mean Absolute Deviation Ratio</th>\n",
       "      <td>0.24</td>\n",
       "      <td>0.20</td>\n",
       "      <td>0.23</td>\n",
       "      <td>0.22</td>\n",
       "      <td>0.12</td>\n",
       "    </tr>\n",
       "    <tr>\n",
       "      <th>First Lower Partial Moment Ratio</th>\n",
       "      <td>0.48</td>\n",
       "      <td>0.40</td>\n",
       "      <td>0.45</td>\n",
       "      <td>0.44</td>\n",
       "      <td>0.24</td>\n",
       "    </tr>\n",
       "    <tr>\n",
       "      <th>Value at Risk Ratio at 95%</th>\n",
       "      <td>0.099</td>\n",
       "      <td>0.076</td>\n",
       "      <td>0.089</td>\n",
       "      <td>0.074</td>\n",
       "      <td>0.069</td>\n",
       "    </tr>\n",
       "    <tr>\n",
       "      <th>CVaR Ratio at 95%</th>\n",
       "      <td>0.069</td>\n",
       "      <td>0.056</td>\n",
       "      <td>0.060</td>\n",
       "      <td>0.058</td>\n",
       "      <td>0.033</td>\n",
       "    </tr>\n",
       "    <tr>\n",
       "      <th>Entropic Risk Measure Ratio at 95%</th>\n",
       "      <td>0.00090</td>\n",
       "      <td>0.00077</td>\n",
       "      <td>0.00074</td>\n",
       "      <td>0.00071</td>\n",
       "      <td>0.00026</td>\n",
       "    </tr>\n",
       "    <tr>\n",
       "      <th>EVaR Ratio at 95%</th>\n",
       "      <td>0.054</td>\n",
       "      <td>0.046</td>\n",
       "      <td>0.049</td>\n",
       "      <td>0.048</td>\n",
       "      <td>0.017</td>\n",
       "    </tr>\n",
       "    <tr>\n",
       "      <th>Worst Realization Ratio</th>\n",
       "      <td>0.046</td>\n",
       "      <td>0.039</td>\n",
       "      <td>0.041</td>\n",
       "      <td>0.041</td>\n",
       "      <td>0.013</td>\n",
       "    </tr>\n",
       "    <tr>\n",
       "      <th>Drawdown at Risk Ratio at 95%</th>\n",
       "      <td>0.031</td>\n",
       "      <td>0.023</td>\n",
       "      <td>0.027</td>\n",
       "      <td>0.027</td>\n",
       "      <td>0.025</td>\n",
       "    </tr>\n",
       "    <tr>\n",
       "      <th>CDaR Ratio at 95%</th>\n",
       "      <td>0.027</td>\n",
       "      <td>0.019</td>\n",
       "      <td>0.023</td>\n",
       "      <td>0.023</td>\n",
       "      <td>0.020</td>\n",
       "    </tr>\n",
       "    <tr>\n",
       "      <th>Calmar Ratio</th>\n",
       "      <td>0.022</td>\n",
       "      <td>0.016</td>\n",
       "      <td>0.018</td>\n",
       "      <td>0.018</td>\n",
       "      <td>0.013</td>\n",
       "    </tr>\n",
       "    <tr>\n",
       "      <th>Average Drawdown Ratio</th>\n",
       "      <td>0.14</td>\n",
       "      <td>0.086</td>\n",
       "      <td>0.12</td>\n",
       "      <td>0.11</td>\n",
       "      <td>0.068</td>\n",
       "    </tr>\n",
       "    <tr>\n",
       "      <th>EDaR Ratio at 95%</th>\n",
       "      <td>0.025</td>\n",
       "      <td>0.018</td>\n",
       "      <td>0.021</td>\n",
       "      <td>0.021</td>\n",
       "      <td>0.016</td>\n",
       "    </tr>\n",
       "    <tr>\n",
       "      <th>Ulcer Index Ratio</th>\n",
       "      <td>0.081</td>\n",
       "      <td>0.053</td>\n",
       "      <td>0.070</td>\n",
       "      <td>0.069</td>\n",
       "      <td>0.048</td>\n",
       "    </tr>\n",
       "    <tr>\n",
       "      <th>Gini Mean Difference Ratio</th>\n",
       "      <td>0.16</td>\n",
       "      <td>0.13</td>\n",
       "      <td>0.15</td>\n",
       "      <td>0.15</td>\n",
       "      <td>0.081</td>\n",
       "    </tr>\n",
       "    <tr>\n",
       "      <th>Effective Number of Assets</th>\n",
       "      <td>7.278827890735152</td>\n",
       "      <td>9.138884125205372</td>\n",
       "      <td>21.097761558224306</td>\n",
       "      <td>19.46439020912635</td>\n",
       "      <td>1.0</td>\n",
       "    </tr>\n",
       "    <tr>\n",
       "      <th>Assets Number</th>\n",
       "      <td>24</td>\n",
       "      <td>24</td>\n",
       "      <td>24</td>\n",
       "      <td>24</td>\n",
       "      <td>1</td>\n",
       "    </tr>\n",
       "  </tbody>\n",
       "</table>\n",
       "</div>"
      ],
      "text/plain": [
       "                                                NCO-1         Max Sharpe  \\\n",
       "Mean                                            0.27%              0.23%   \n",
       "Annualized Mean                                67.67%             58.25%   \n",
       "Variance                                       0.026%             0.027%   \n",
       "Annualized Variance                             6.51%              6.72%   \n",
       "Semi-Variance                                  0.014%             0.015%   \n",
       "Annualized Semi-Variance                        3.62%              3.88%   \n",
       "Standard Deviation                              1.61%              1.63%   \n",
       "Annualized Standard Deviation                  25.52%             25.91%   \n",
       "Semi-Deviation                                  1.20%              1.24%   \n",
       "Annualized Semi-Deviation                      19.02%             19.71%   \n",
       "Mean Absolute Deviation                         1.13%              1.16%   \n",
       "CVaR at 95%                                     3.90%              4.13%   \n",
       "EVaR at 95%                                     4.95%              4.97%   \n",
       "Worst Realization                               5.79%              5.92%   \n",
       "CDaR at 95%                                     9.86%             12.20%   \n",
       "MAX Drawdown                                   12.14%             14.05%   \n",
       "Average Drawdown                                1.89%              2.69%   \n",
       "EDaR at 95%                                    10.64%             12.99%   \n",
       "First Lower Partial Moment                      0.56%              0.58%   \n",
       "Ulcer Index                                     0.033              0.043   \n",
       "Gini Mean Difference                            1.70%              1.74%   \n",
       "Value at Risk at 95%                            2.70%              3.03%   \n",
       "Drawdown at Risk at 95%                         8.57%             10.04%   \n",
       "Entropic Risk Measure at 95%                     2.99               2.99   \n",
       "Fourth Central Moment                       0.000039%          0.000038%   \n",
       "Fourth Lower Partial Moment                 0.000027%          0.000029%   \n",
       "Skew                                            -0.56              -0.72   \n",
       "Kurtosis                                         5.81               5.31   \n",
       "Sharpe Ratio                                     0.17               0.14   \n",
       "Annualized Sharpe Ratio                          2.65               2.25   \n",
       "Sortino Ratio                                    0.22               0.19   \n",
       "Annualized Sortino Ratio                         3.56               2.96   \n",
       "Mean Absolute Deviation Ratio                    0.24               0.20   \n",
       "First Lower Partial Moment Ratio                 0.48               0.40   \n",
       "Value at Risk Ratio at 95%                      0.099              0.076   \n",
       "CVaR Ratio at 95%                               0.069              0.056   \n",
       "Entropic Risk Measure Ratio at 95%            0.00090            0.00077   \n",
       "EVaR Ratio at 95%                               0.054              0.046   \n",
       "Worst Realization Ratio                         0.046              0.039   \n",
       "Drawdown at Risk Ratio at 95%                   0.031              0.023   \n",
       "CDaR Ratio at 95%                               0.027              0.019   \n",
       "Calmar Ratio                                    0.022              0.016   \n",
       "Average Drawdown Ratio                           0.14              0.086   \n",
       "EDaR Ratio at 95%                               0.025              0.018   \n",
       "Ulcer Index Ratio                               0.081              0.053   \n",
       "Gini Mean Difference Ratio                       0.16               0.13   \n",
       "Effective Number of Assets          7.278827890735152  9.138884125205372   \n",
       "Assets Number                                      24                 24   \n",
       "\n",
       "                                      Minimum Variance       Minimum CVaR  \\\n",
       "Mean                                             0.22%              0.21%   \n",
       "Annualized Mean                                 56.19%             53.76%   \n",
       "Variance                                        0.020%             0.019%   \n",
       "Annualized Variance                              5.04%              4.83%   \n",
       "Semi-Variance                                   0.012%             0.012%   \n",
       "Annualized Semi-Variance                         3.11%              2.98%   \n",
       "Standard Deviation                               1.41%              1.38%   \n",
       "Annualized Standard Deviation                   22.45%             21.97%   \n",
       "Semi-Deviation                                   1.11%              1.09%   \n",
       "Annualized Semi-Deviation                       17.63%             17.27%   \n",
       "Mean Absolute Deviation                          0.99%              0.97%   \n",
       "CVaR at 95%                                      3.72%              3.67%   \n",
       "EVaR at 95%                                      4.58%              4.42%   \n",
       "Worst Realization                                5.41%              5.26%   \n",
       "CDaR at 95%                                      9.51%              9.15%   \n",
       "MAX Drawdown                                    12.26%             11.84%   \n",
       "Average Drawdown                                 1.90%              1.86%   \n",
       "EDaR at 95%                                     10.51%             10.14%   \n",
       "First Lower Partial Moment                       0.49%              0.49%   \n",
       "Ulcer Index                                      0.032              0.031   \n",
       "Gini Mean Difference                             1.48%              1.45%   \n",
       "Value at Risk at 95%                             2.50%              2.87%   \n",
       "Drawdown at Risk at 95%                          8.36%              7.89%   \n",
       "Entropic Risk Measure at 95%                      2.99               2.99   \n",
       "Fourth Central Moment                        0.000024%          0.000021%   \n",
       "Fourth Lower Partial Moment                  0.000020%          0.000018%   \n",
       "Skew                                             -1.04              -1.02   \n",
       "Kurtosis                                          6.05               5.80   \n",
       "Sharpe Ratio                                      0.16               0.15   \n",
       "Annualized Sharpe Ratio                           2.50               2.45   \n",
       "Sortino Ratio                                     0.20               0.20   \n",
       "Annualized Sortino Ratio                          3.19               3.11   \n",
       "Mean Absolute Deviation Ratio                     0.23               0.22   \n",
       "First Lower Partial Moment Ratio                  0.45               0.44   \n",
       "Value at Risk Ratio at 95%                       0.089              0.074   \n",
       "CVaR Ratio at 95%                                0.060              0.058   \n",
       "Entropic Risk Measure Ratio at 95%             0.00074            0.00071   \n",
       "EVaR Ratio at 95%                                0.049              0.048   \n",
       "Worst Realization Ratio                          0.041              0.041   \n",
       "Drawdown at Risk Ratio at 95%                    0.027              0.027   \n",
       "CDaR Ratio at 95%                                0.023              0.023   \n",
       "Calmar Ratio                                     0.018              0.018   \n",
       "Average Drawdown Ratio                            0.12               0.11   \n",
       "EDaR Ratio at 95%                                0.021              0.021   \n",
       "Ulcer Index Ratio                                0.070              0.069   \n",
       "Gini Mean Difference Ratio                        0.15               0.15   \n",
       "Effective Number of Assets          21.097761558224306  19.46439020912635   \n",
       "Assets Number                                       24                 24   \n",
       "\n",
       "                                      NIFTY50  \n",
       "Mean                                   0.077%  \n",
       "Annualized Mean                        19.49%  \n",
       "Variance                              0.0098%  \n",
       "Annualized Variance                     2.48%  \n",
       "Semi-Variance                         0.0058%  \n",
       "Annualized Semi-Variance                1.46%  \n",
       "Standard Deviation                      0.99%  \n",
       "Annualized Standard Deviation          15.74%  \n",
       "Semi-Deviation                          0.76%  \n",
       "Annualized Semi-Deviation              12.09%  \n",
       "Mean Absolute Deviation                 0.63%  \n",
       "CVaR at 95%                             2.35%  \n",
       "EVaR at 95%                             4.47%  \n",
       "Worst Realization                       5.93%  \n",
       "CDaR at 95%                             3.86%  \n",
       "MAX Drawdown                            5.93%  \n",
       "Average Drawdown                        1.14%  \n",
       "EDaR at 95%                             4.92%  \n",
       "First Lower Partial Moment              0.32%  \n",
       "Ulcer Index                             0.016  \n",
       "Gini Mean Difference                    0.96%  \n",
       "Value at Risk at 95%                    1.11%  \n",
       "Drawdown at Risk at 95%                 3.07%  \n",
       "Entropic Risk Measure at 95%             3.00  \n",
       "Fourth Central Moment               0.000014%  \n",
       "Fourth Lower Partial Moment         0.000012%  \n",
       "Skew                                    -1.39  \n",
       "Kurtosis                                14.28  \n",
       "Sharpe Ratio                            0.078  \n",
       "Annualized Sharpe Ratio                  1.24  \n",
       "Sortino Ratio                            0.10  \n",
       "Annualized Sortino Ratio                 1.61  \n",
       "Mean Absolute Deviation Ratio            0.12  \n",
       "First Lower Partial Moment Ratio         0.24  \n",
       "Value at Risk Ratio at 95%              0.069  \n",
       "CVaR Ratio at 95%                       0.033  \n",
       "Entropic Risk Measure Ratio at 95%    0.00026  \n",
       "EVaR Ratio at 95%                       0.017  \n",
       "Worst Realization Ratio                 0.013  \n",
       "Drawdown at Risk Ratio at 95%           0.025  \n",
       "CDaR Ratio at 95%                       0.020  \n",
       "Calmar Ratio                            0.013  \n",
       "Average Drawdown Ratio                  0.068  \n",
       "EDaR Ratio at 95%                       0.016  \n",
       "Ulcer Index Ratio                       0.048  \n",
       "Gini Mean Difference Ratio              0.081  \n",
       "Effective Number of Assets                1.0  \n",
       "Assets Number                               1  "
      ]
     },
     "execution_count": 14,
     "metadata": {},
     "output_type": "execute_result"
    }
   ],
   "source": [
    "summary = population.summary()\n",
    "summary#[summary.index.str.contains(\"Annualized\")]"
   ]
  },
  {
   "cell_type": "code",
   "execution_count": 15,
   "metadata": {},
   "outputs": [
    {
     "data": {
      "text/html": [
       "<div>\n",
       "<style scoped>\n",
       "    .dataframe tbody tr th:only-of-type {\n",
       "        vertical-align: middle;\n",
       "    }\n",
       "\n",
       "    .dataframe tbody tr th {\n",
       "        vertical-align: top;\n",
       "    }\n",
       "\n",
       "    .dataframe thead th {\n",
       "        text-align: right;\n",
       "    }\n",
       "</style>\n",
       "<table border=\"1\" class=\"dataframe\">\n",
       "  <thead>\n",
       "    <tr style=\"text-align: right;\">\n",
       "      <th></th>\n",
       "      <th>NCO-1</th>\n",
       "      <th>Max Sharpe</th>\n",
       "      <th>Minimum Variance</th>\n",
       "      <th>Minimum CVaR</th>\n",
       "      <th>NIFTY50</th>\n",
       "    </tr>\n",
       "    <tr>\n",
       "      <th>asset</th>\n",
       "      <th></th>\n",
       "      <th></th>\n",
       "      <th></th>\n",
       "      <th></th>\n",
       "      <th></th>\n",
       "    </tr>\n",
       "  </thead>\n",
       "  <tbody>\n",
       "    <tr>\n",
       "      <th>INGERRAND</th>\n",
       "      <td>31239.947516</td>\n",
       "      <td>17317.689608</td>\n",
       "      <td>4855.331093</td>\n",
       "      <td>6413.775295</td>\n",
       "      <td>0.0</td>\n",
       "    </tr>\n",
       "    <tr>\n",
       "      <th>GPIL</th>\n",
       "      <td>8532.833768</td>\n",
       "      <td>3721.658859</td>\n",
       "      <td>3183.600456</td>\n",
       "      <td>2769.300053</td>\n",
       "      <td>0.0</td>\n",
       "    </tr>\n",
       "    <tr>\n",
       "      <th>SAFARI</th>\n",
       "      <td>8293.170223</td>\n",
       "      <td>10112.161229</td>\n",
       "      <td>4083.902134</td>\n",
       "      <td>4436.382970</td>\n",
       "      <td>0.0</td>\n",
       "    </tr>\n",
       "    <tr>\n",
       "      <th>VOLTAMP</th>\n",
       "      <td>6970.624893</td>\n",
       "      <td>5814.535251</td>\n",
       "      <td>4110.548300</td>\n",
       "      <td>4288.440577</td>\n",
       "      <td>0.0</td>\n",
       "    </tr>\n",
       "    <tr>\n",
       "      <th>JAIBALAJI</th>\n",
       "      <td>6825.855093</td>\n",
       "      <td>17228.817035</td>\n",
       "      <td>3295.183300</td>\n",
       "      <td>3262.189065</td>\n",
       "      <td>0.0</td>\n",
       "    </tr>\n",
       "    <tr>\n",
       "      <th>MANINFRA</th>\n",
       "      <td>5171.502330</td>\n",
       "      <td>2594.346780</td>\n",
       "      <td>3327.608816</td>\n",
       "      <td>2790.506683</td>\n",
       "      <td>0.0</td>\n",
       "    </tr>\n",
       "    <tr>\n",
       "      <th>TANLA</th>\n",
       "      <td>5001.023641</td>\n",
       "      <td>10099.586287</td>\n",
       "      <td>3239.148611</td>\n",
       "      <td>3088.295497</td>\n",
       "      <td>0.0</td>\n",
       "    </tr>\n",
       "    <tr>\n",
       "      <th>ECLERX</th>\n",
       "      <td>4989.764220</td>\n",
       "      <td>8536.596210</td>\n",
       "      <td>3776.532578</td>\n",
       "      <td>4062.950101</td>\n",
       "      <td>0.0</td>\n",
       "    </tr>\n",
       "    <tr>\n",
       "      <th>ELECON</th>\n",
       "      <td>4607.961109</td>\n",
       "      <td>8839.219778</td>\n",
       "      <td>2946.670172</td>\n",
       "      <td>2806.966487</td>\n",
       "      <td>0.0</td>\n",
       "    </tr>\n",
       "    <tr>\n",
       "      <th>NEULANDLAB</th>\n",
       "      <td>4565.626378</td>\n",
       "      <td>8330.255617</td>\n",
       "      <td>3080.372283</td>\n",
       "      <td>4015.909152</td>\n",
       "      <td>0.0</td>\n",
       "    </tr>\n",
       "    <tr>\n",
       "      <th>BSOFT</th>\n",
       "      <td>4144.272832</td>\n",
       "      <td>1857.793227</td>\n",
       "      <td>3688.302019</td>\n",
       "      <td>2853.987101</td>\n",
       "      <td>0.0</td>\n",
       "    </tr>\n",
       "    <tr>\n",
       "      <th>PGHH</th>\n",
       "      <td>3622.644684</td>\n",
       "      <td>1212.257859</td>\n",
       "      <td>7438.770138</td>\n",
       "      <td>9734.990997</td>\n",
       "      <td>0.0</td>\n",
       "    </tr>\n",
       "    <tr>\n",
       "      <th>GANESHHOUC</th>\n",
       "      <td>2586.039184</td>\n",
       "      <td>3604.110519</td>\n",
       "      <td>3130.428014</td>\n",
       "      <td>3217.718811</td>\n",
       "      <td>0.0</td>\n",
       "    </tr>\n",
       "    <tr>\n",
       "      <th>SHARDAMOTR</th>\n",
       "      <td>1819.002933</td>\n",
       "      <td>0.000000</td>\n",
       "      <td>3119.940312</td>\n",
       "      <td>2916.068333</td>\n",
       "      <td>0.0</td>\n",
       "    </tr>\n",
       "    <tr>\n",
       "      <th>MSTCLTD</th>\n",
       "      <td>1444.075262</td>\n",
       "      <td>730.971579</td>\n",
       "      <td>2966.812354</td>\n",
       "      <td>2883.766639</td>\n",
       "      <td>0.0</td>\n",
       "    </tr>\n",
       "    <tr>\n",
       "      <th>AKZOINDIA</th>\n",
       "      <td>185.655849</td>\n",
       "      <td>0.000000</td>\n",
       "      <td>6730.483631</td>\n",
       "      <td>5986.139999</td>\n",
       "      <td>0.0</td>\n",
       "    </tr>\n",
       "    <tr>\n",
       "      <th>SANOFI</th>\n",
       "      <td>0.000000</td>\n",
       "      <td>0.000000</td>\n",
       "      <td>7974.797033</td>\n",
       "      <td>9469.494383</td>\n",
       "      <td>0.0</td>\n",
       "    </tr>\n",
       "    <tr>\n",
       "      <th>VSTIND</th>\n",
       "      <td>0.000000</td>\n",
       "      <td>0.000000</td>\n",
       "      <td>7301.769226</td>\n",
       "      <td>6754.857270</td>\n",
       "      <td>0.0</td>\n",
       "    </tr>\n",
       "    <tr>\n",
       "      <th>MGL</th>\n",
       "      <td>0.000000</td>\n",
       "      <td>0.000000</td>\n",
       "      <td>5123.287089</td>\n",
       "      <td>4093.330379</td>\n",
       "      <td>0.0</td>\n",
       "    </tr>\n",
       "    <tr>\n",
       "      <th>JAMNAAUTO</th>\n",
       "      <td>0.000000</td>\n",
       "      <td>0.000000</td>\n",
       "      <td>3919.541344</td>\n",
       "      <td>3344.562271</td>\n",
       "      <td>0.0</td>\n",
       "    </tr>\n",
       "    <tr>\n",
       "      <th>RAYMOND</th>\n",
       "      <td>0.000000</td>\n",
       "      <td>0.000000</td>\n",
       "      <td>3533.223049</td>\n",
       "      <td>2722.922128</td>\n",
       "      <td>0.0</td>\n",
       "    </tr>\n",
       "    <tr>\n",
       "      <th>SHAKTIPUMP</th>\n",
       "      <td>0.000000</td>\n",
       "      <td>0.000000</td>\n",
       "      <td>3297.803291</td>\n",
       "      <td>2807.687563</td>\n",
       "      <td>0.0</td>\n",
       "    </tr>\n",
       "    <tr>\n",
       "      <th>CHENNPETRO</th>\n",
       "      <td>0.000000</td>\n",
       "      <td>0.000000</td>\n",
       "      <td>3184.919844</td>\n",
       "      <td>2669.713652</td>\n",
       "      <td>0.0</td>\n",
       "    </tr>\n",
       "    <tr>\n",
       "      <th>NIITLTD</th>\n",
       "      <td>0.000000</td>\n",
       "      <td>0.000000</td>\n",
       "      <td>2691.024912</td>\n",
       "      <td>2610.044596</td>\n",
       "      <td>0.0</td>\n",
       "    </tr>\n",
       "    <tr>\n",
       "      <th>^NSEI</th>\n",
       "      <td>0.000000</td>\n",
       "      <td>0.000000</td>\n",
       "      <td>0.000000</td>\n",
       "      <td>0.000000</td>\n",
       "      <td>100000.0</td>\n",
       "    </tr>\n",
       "  </tbody>\n",
       "</table>\n",
       "</div>"
      ],
      "text/plain": [
       "                   NCO-1    Max Sharpe  Minimum Variance  Minimum CVaR  \\\n",
       "asset                                                                    \n",
       "INGERRAND   31239.947516  17317.689608       4855.331093   6413.775295   \n",
       "GPIL         8532.833768   3721.658859       3183.600456   2769.300053   \n",
       "SAFARI       8293.170223  10112.161229       4083.902134   4436.382970   \n",
       "VOLTAMP      6970.624893   5814.535251       4110.548300   4288.440577   \n",
       "JAIBALAJI    6825.855093  17228.817035       3295.183300   3262.189065   \n",
       "MANINFRA     5171.502330   2594.346780       3327.608816   2790.506683   \n",
       "TANLA        5001.023641  10099.586287       3239.148611   3088.295497   \n",
       "ECLERX       4989.764220   8536.596210       3776.532578   4062.950101   \n",
       "ELECON       4607.961109   8839.219778       2946.670172   2806.966487   \n",
       "NEULANDLAB   4565.626378   8330.255617       3080.372283   4015.909152   \n",
       "BSOFT        4144.272832   1857.793227       3688.302019   2853.987101   \n",
       "PGHH         3622.644684   1212.257859       7438.770138   9734.990997   \n",
       "GANESHHOUC   2586.039184   3604.110519       3130.428014   3217.718811   \n",
       "SHARDAMOTR   1819.002933      0.000000       3119.940312   2916.068333   \n",
       "MSTCLTD      1444.075262    730.971579       2966.812354   2883.766639   \n",
       "AKZOINDIA     185.655849      0.000000       6730.483631   5986.139999   \n",
       "SANOFI          0.000000      0.000000       7974.797033   9469.494383   \n",
       "VSTIND          0.000000      0.000000       7301.769226   6754.857270   \n",
       "MGL             0.000000      0.000000       5123.287089   4093.330379   \n",
       "JAMNAAUTO       0.000000      0.000000       3919.541344   3344.562271   \n",
       "RAYMOND         0.000000      0.000000       3533.223049   2722.922128   \n",
       "SHAKTIPUMP      0.000000      0.000000       3297.803291   2807.687563   \n",
       "CHENNPETRO      0.000000      0.000000       3184.919844   2669.713652   \n",
       "NIITLTD         0.000000      0.000000       2691.024912   2610.044596   \n",
       "^NSEI           0.000000      0.000000          0.000000      0.000000   \n",
       "\n",
       "             NIFTY50  \n",
       "asset                 \n",
       "INGERRAND        0.0  \n",
       "GPIL             0.0  \n",
       "SAFARI           0.0  \n",
       "VOLTAMP          0.0  \n",
       "JAIBALAJI        0.0  \n",
       "MANINFRA         0.0  \n",
       "TANLA            0.0  \n",
       "ECLERX           0.0  \n",
       "ELECON           0.0  \n",
       "NEULANDLAB       0.0  \n",
       "BSOFT            0.0  \n",
       "PGHH             0.0  \n",
       "GANESHHOUC       0.0  \n",
       "SHARDAMOTR       0.0  \n",
       "MSTCLTD          0.0  \n",
       "AKZOINDIA        0.0  \n",
       "SANOFI           0.0  \n",
       "VSTIND           0.0  \n",
       "MGL              0.0  \n",
       "JAMNAAUTO        0.0  \n",
       "RAYMOND          0.0  \n",
       "SHAKTIPUMP       0.0  \n",
       "CHENNPETRO       0.0  \n",
       "NIITLTD          0.0  \n",
       "^NSEI       100000.0  "
      ]
     },
     "execution_count": 15,
     "metadata": {},
     "output_type": "execute_result"
    }
   ],
   "source": [
    "population.composition() * 1_00_000"
   ]
  },
  {
   "cell_type": "code",
   "execution_count": 16,
   "metadata": {},
   "outputs": [
    {
     "data": {
      "text/plain": [
       "asset\n",
       "INGERRAND     0.064138\n",
       "GPIL          0.027693\n",
       "SAFARI        0.044364\n",
       "VOLTAMP       0.042884\n",
       "JAIBALAJI     0.032622\n",
       "MANINFRA      0.027905\n",
       "TANLA         0.030883\n",
       "ECLERX        0.040630\n",
       "ELECON        0.028070\n",
       "NEULANDLAB    0.040159\n",
       "BSOFT         0.028540\n",
       "PGHH          0.097350\n",
       "GANESHHOUC    0.032177\n",
       "SHARDAMOTR    0.029161\n",
       "MSTCLTD       0.028838\n",
       "AKZOINDIA     0.059861\n",
       "SANOFI        0.094695\n",
       "VSTIND        0.067549\n",
       "MGL           0.040933\n",
       "JAMNAAUTO     0.033446\n",
       "RAYMOND       0.027229\n",
       "SHAKTIPUMP    0.028077\n",
       "CHENNPETRO    0.026697\n",
       "NIITLTD       0.026100\n",
       "^NSEI         0.000000\n",
       "Name: Minimum CVaR, dtype: float64"
      ]
     },
     "execution_count": 16,
     "metadata": {},
     "output_type": "execute_result"
    }
   ],
   "source": [
    "comp = population.composition()\n",
    "comp['Minimum CVaR']"
   ]
  },
  {
   "cell_type": "code",
   "execution_count": 17,
   "metadata": {},
   "outputs": [
    {
     "data": {
      "text/plain": [
       "<Axes: >"
      ]
     },
     "execution_count": 17,
     "metadata": {},
     "output_type": "execute_result"
    },
    {
     "data": {
      "image/png": "[encoded data removed]",
      "text/plain": [
       "<Figure size 640x480 with 2 Axes>"
      ]
     },
     "metadata": {},
     "output_type": "display_data"
    }
   ],
   "source": [
    "import seaborn as sns\n",
    "\n",
    "sns.heatmap(ret.corr(method='spearman'), cmap='coolwarm', vmin=-1, vmax=1)"
   ]
  },
  {
   "cell_type": "markdown",
   "metadata": {},
   "source": [
    "### SIP Analysis"
   ]
  },
  {
   "cell_type": "code",
   "execution_count": 22,
   "metadata": {},
   "outputs": [
    {
     "name": "stdout",
     "output_type": "stream",
     "text": [
      "amount invested: ₹42,00,000.00\n",
      "final amount: ₹2,13,59,075.65\n",
      "amount gained: ₹1,71,59,075.65\n",
      "CAGR: 408.55%\n"
     ]
    }
   ],
   "source": [
    "utils.print_sip_info(monthly_amount=70_000, annual_rate=.7, months=12*5)"
   ]
  }
 ],
 "metadata": {
  "kernelspec": {
   "display_name": "investing",
   "language": "python",
   "name": "python3"
  },
  "language_info": {
   "codemirror_mode": {
    "name": "ipython",
    "version": 3
   },
   "file_extension": ".py",
   "mimetype": "text/x-python",
   "name": "python",
   "nbconvert_exporter": "python",
   "pygments_lexer": "ipython3",
   "version": "3.11.8"
  }
 },
 "nbformat": 4,
 "nbformat_minor": 2
}
