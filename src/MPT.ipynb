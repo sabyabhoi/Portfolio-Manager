{
 "cells": [
  {
   "cell_type": "code",
   "execution_count": 1,
   "metadata": {},
   "outputs": [],
   "source": [
    "import pandas as pd\n",
    "import yfinance as yf\n",
    "import numpy as np"
   ]
  },
  {
   "cell_type": "markdown",
   "metadata": {},
   "source": [
    "# Fetch and Clean Data\n"
   ]
  },
  {
   "cell_type": "code",
   "execution_count": 24,
   "metadata": {},
   "outputs": [
    {
     "name": "stdout",
     "output_type": "stream",
     "text": [
      "[*********************100%%**********************]  8 of 8 completed\n",
      "[*********************100%%**********************]  8 of 8 completed\n"
     ]
    },
    {
     "data": {
      "text/html": [
       "<div>\n",
       "<style scoped>\n",
       "    .dataframe tbody tr th:only-of-type {\n",
       "        vertical-align: middle;\n",
       "    }\n",
       "\n",
       "    .dataframe tbody tr th {\n",
       "        vertical-align: top;\n",
       "    }\n",
       "\n",
       "    .dataframe thead th {\n",
       "        text-align: right;\n",
       "    }\n",
       "</style>\n",
       "<table border=\"1\" class=\"dataframe\">\n",
       "  <thead>\n",
       "    <tr style=\"text-align: right;\">\n",
       "      <th></th>\n",
       "      <th>CUMMINSIND.NS</th>\n",
       "      <th>DRREDDY.NS</th>\n",
       "      <th>GMDCLTD.NS</th>\n",
       "      <th>HCLTECH.NS</th>\n",
       "      <th>INFY.NS</th>\n",
       "      <th>LTTS.NS</th>\n",
       "      <th>PIIND.NS</th>\n",
       "      <th>SKFINDIA.NS</th>\n",
       "    </tr>\n",
       "    <tr>\n",
       "      <th>Date</th>\n",
       "      <th></th>\n",
       "      <th></th>\n",
       "      <th></th>\n",
       "      <th></th>\n",
       "      <th></th>\n",
       "      <th></th>\n",
       "      <th></th>\n",
       "      <th></th>\n",
       "    </tr>\n",
       "  </thead>\n",
       "  <tbody>\n",
       "    <tr>\n",
       "      <th>2022-11-18</th>\n",
       "      <td>-0.022379</td>\n",
       "      <td>-0.002771</td>\n",
       "      <td>-0.007060</td>\n",
       "      <td>0.009702</td>\n",
       "      <td>0.003780</td>\n",
       "      <td>0.013008</td>\n",
       "      <td>-0.021504</td>\n",
       "      <td>0.010697</td>\n",
       "    </tr>\n",
       "    <tr>\n",
       "      <th>2022-11-21</th>\n",
       "      <td>-0.020558</td>\n",
       "      <td>-0.013427</td>\n",
       "      <td>0.019908</td>\n",
       "      <td>-0.006935</td>\n",
       "      <td>-0.015815</td>\n",
       "      <td>0.001275</td>\n",
       "      <td>0.008321</td>\n",
       "      <td>0.026155</td>\n",
       "    </tr>\n",
       "    <tr>\n",
       "      <th>2022-11-22</th>\n",
       "      <td>0.006013</td>\n",
       "      <td>0.002908</td>\n",
       "      <td>-0.011851</td>\n",
       "      <td>0.007211</td>\n",
       "      <td>0.010745</td>\n",
       "      <td>0.012234</td>\n",
       "      <td>0.002600</td>\n",
       "      <td>-0.014627</td>\n",
       "    </tr>\n",
       "    <tr>\n",
       "      <th>2022-11-23</th>\n",
       "      <td>0.017631</td>\n",
       "      <td>0.009891</td>\n",
       "      <td>0.005291</td>\n",
       "      <td>0.000000</td>\n",
       "      <td>-0.001199</td>\n",
       "      <td>-0.008584</td>\n",
       "      <td>0.012338</td>\n",
       "      <td>-0.012240</td>\n",
       "    </tr>\n",
       "    <tr>\n",
       "      <th>2022-11-24</th>\n",
       "      <td>0.017769</td>\n",
       "      <td>0.001861</td>\n",
       "      <td>-0.000351</td>\n",
       "      <td>0.023745</td>\n",
       "      <td>0.029467</td>\n",
       "      <td>0.017736</td>\n",
       "      <td>0.003969</td>\n",
       "      <td>0.005153</td>\n",
       "    </tr>\n",
       "    <tr>\n",
       "      <th>...</th>\n",
       "      <td>...</td>\n",
       "      <td>...</td>\n",
       "      <td>...</td>\n",
       "      <td>...</td>\n",
       "      <td>...</td>\n",
       "      <td>...</td>\n",
       "      <td>...</td>\n",
       "      <td>...</td>\n",
       "    </tr>\n",
       "    <tr>\n",
       "      <th>2023-11-10</th>\n",
       "      <td>0.010254</td>\n",
       "      <td>-0.006055</td>\n",
       "      <td>0.036916</td>\n",
       "      <td>-0.009507</td>\n",
       "      <td>-0.004328</td>\n",
       "      <td>0.005185</td>\n",
       "      <td>0.010828</td>\n",
       "      <td>-0.007461</td>\n",
       "    </tr>\n",
       "    <tr>\n",
       "      <th>2023-11-13</th>\n",
       "      <td>0.005655</td>\n",
       "      <td>-0.000931</td>\n",
       "      <td>0.024921</td>\n",
       "      <td>0.004421</td>\n",
       "      <td>0.003434</td>\n",
       "      <td>-0.004058</td>\n",
       "      <td>-0.004515</td>\n",
       "      <td>-0.013681</td>\n",
       "    </tr>\n",
       "    <tr>\n",
       "      <th>2023-11-15</th>\n",
       "      <td>0.027159</td>\n",
       "      <td>0.000018</td>\n",
       "      <td>-0.006561</td>\n",
       "      <td>0.012411</td>\n",
       "      <td>0.026901</td>\n",
       "      <td>0.031308</td>\n",
       "      <td>0.012559</td>\n",
       "      <td>0.019790</td>\n",
       "    </tr>\n",
       "    <tr>\n",
       "      <th>2023-11-16</th>\n",
       "      <td>0.008321</td>\n",
       "      <td>0.022934</td>\n",
       "      <td>0.010101</td>\n",
       "      <td>0.026946</td>\n",
       "      <td>0.024389</td>\n",
       "      <td>0.009303</td>\n",
       "      <td>-0.009417</td>\n",
       "      <td>-0.005482</td>\n",
       "    </tr>\n",
       "    <tr>\n",
       "      <th>2023-11-17</th>\n",
       "      <td>-0.000624</td>\n",
       "      <td>0.012761</td>\n",
       "      <td>-0.010256</td>\n",
       "      <td>0.006445</td>\n",
       "      <td>0.002007</td>\n",
       "      <td>0.003430</td>\n",
       "      <td>0.018714</td>\n",
       "      <td>0.002079</td>\n",
       "    </tr>\n",
       "  </tbody>\n",
       "</table>\n",
       "<p>248 rows × 8 columns</p>\n",
       "</div>"
      ],
      "text/plain": [
       "            CUMMINSIND.NS  DRREDDY.NS  GMDCLTD.NS  HCLTECH.NS   INFY.NS  \\\n",
       "Date                                                                      \n",
       "2022-11-18      -0.022379   -0.002771   -0.007060    0.009702  0.003780   \n",
       "2022-11-21      -0.020558   -0.013427    0.019908   -0.006935 -0.015815   \n",
       "2022-11-22       0.006013    0.002908   -0.011851    0.007211  0.010745   \n",
       "2022-11-23       0.017631    0.009891    0.005291    0.000000 -0.001199   \n",
       "2022-11-24       0.017769    0.001861   -0.000351    0.023745  0.029467   \n",
       "...                   ...         ...         ...         ...       ...   \n",
       "2023-11-10       0.010254   -0.006055    0.036916   -0.009507 -0.004328   \n",
       "2023-11-13       0.005655   -0.000931    0.024921    0.004421  0.003434   \n",
       "2023-11-15       0.027159    0.000018   -0.006561    0.012411  0.026901   \n",
       "2023-11-16       0.008321    0.022934    0.010101    0.026946  0.024389   \n",
       "2023-11-17      -0.000624    0.012761   -0.010256    0.006445  0.002007   \n",
       "\n",
       "             LTTS.NS  PIIND.NS  SKFINDIA.NS  \n",
       "Date                                         \n",
       "2022-11-18  0.013008 -0.021504     0.010697  \n",
       "2022-11-21  0.001275  0.008321     0.026155  \n",
       "2022-11-22  0.012234  0.002600    -0.014627  \n",
       "2022-11-23 -0.008584  0.012338    -0.012240  \n",
       "2022-11-24  0.017736  0.003969     0.005153  \n",
       "...              ...       ...          ...  \n",
       "2023-11-10  0.005185  0.010828    -0.007461  \n",
       "2023-11-13 -0.004058 -0.004515    -0.013681  \n",
       "2023-11-15  0.031308  0.012559     0.019790  \n",
       "2023-11-16  0.009303 -0.009417    -0.005482  \n",
       "2023-11-17  0.003430  0.018714     0.002079  \n",
       "\n",
       "[248 rows x 8 columns]"
      ]
     },
     "execution_count": 24,
     "metadata": {},
     "output_type": "execute_result"
    }
   ],
   "source": [
    "# companies = [\"POLYCAB\", \"ITC\", \"LTTS\", \"HCLTECH\", \"NMDC\", \"DRREDDY\", \"DEEPAKNTR\"]\n",
    "companies = [\n",
    "    \"LTTS\",\n",
    "    \"GMDCLTD\",\n",
    "    \"PIIND\",\n",
    "    \"SKFINDIA\",\n",
    "    \"DRREDDY\",\n",
    "    \"INFY\",\n",
    "    \"HCLTECH\",\n",
    "    \"CUMMINSIND\",\n",
    "]\n",
    "N = len(companies)\n",
    "rf = 0.0721\n",
    "\n",
    "\n",
    "def get_returns(companies: list[str]):\n",
    "    companies_str = \" \".join([c + \".NS\" for c in companies])\n",
    "    df: pd.DataFrame = yf.download(companies_str, period=\"1y\").dropna()[\"Adj Close\"]\n",
    "    return df.pct_change().dropna()\n",
    "\n",
    "\n",
    "def get_latest_price(companies: list[str]):\n",
    "    companies_str: str = \" \".join([c + \".NS\" for c in companies])\n",
    "    df: pd.DataFrame = yf.download(companies_str, period=\"1D\").dropna()[\"Adj Close\"]\n",
    "    return df\n",
    "\n",
    "\n",
    "price = get_latest_price(companies)\n",
    "df = get_returns(companies)\n",
    "df"
   ]
  },
  {
   "cell_type": "code",
   "execution_count": 25,
   "metadata": {},
   "outputs": [
    {
     "data": {
      "text/plain": [
       "array([[ 0.39969812],\n",
       "       [ 0.30656434],\n",
       "       [ 2.36123132],\n",
       "       [ 0.29257947],\n",
       "       [-0.02622273],\n",
       "       [ 0.24834128],\n",
       "       [ 0.15266004],\n",
       "       [-0.03267353]])"
      ]
     },
     "execution_count": 25,
     "metadata": {},
     "output_type": "execute_result"
    }
   ],
   "source": [
    "exp_ret = (((1 + df.mean()) ** 252) - 1).to_numpy()\n",
    "\n",
    "exp_ret = exp_ret.reshape(len(exp_ret), 1)\n",
    "exp_ret"
   ]
  },
  {
   "cell_type": "code",
   "execution_count": 26,
   "metadata": {},
   "outputs": [
    {
     "data": {
      "text/plain": [
       "array([[ 5.95986250e-02,  7.82343916e-03,  1.53068180e-02,\n",
       "         4.26309005e-03,  1.48966484e-02,  1.48740975e-02,\n",
       "         1.35730265e-02,  5.97021991e-03],\n",
       "       [ 7.82343916e-03,  3.32317473e-02, -4.01698311e-03,\n",
       "         5.64735731e-03,  7.89555703e-03,  2.72808654e-03,\n",
       "         9.23863271e-03,  2.22591096e-04],\n",
       "       [ 1.53068180e-02, -4.01698311e-03,  3.20446041e-01,\n",
       "         8.20656809e-03, -1.33614537e-03,  9.86747671e-03,\n",
       "         2.25946914e-02,  1.50922513e-02],\n",
       "       [ 4.26309005e-03,  5.64735731e-03,  8.20656809e-03,\n",
       "         4.03050481e-02,  2.77685199e-02,  2.54108948e-02,\n",
       "         1.13653770e-02,  5.19762465e-03],\n",
       "       [ 1.48966484e-02,  7.89555703e-03, -1.33614537e-03,\n",
       "         2.77685199e-02,  5.28560436e-02,  2.86013309e-02,\n",
       "         9.29270290e-03,  5.79513328e-03],\n",
       "       [ 1.48740975e-02,  2.72808654e-03,  9.86747671e-03,\n",
       "         2.54108948e-02,  2.86013309e-02,  7.74692798e-02,\n",
       "         1.58602675e-02,  1.73905230e-02],\n",
       "       [ 1.35730265e-02,  9.23863271e-03,  2.25946914e-02,\n",
       "         1.13653770e-02,  9.29270290e-03,  1.58602675e-02,\n",
       "         6.30984158e-02,  6.04796928e-03],\n",
       "       [ 5.97021991e-03,  2.22591096e-04,  1.50922513e-02,\n",
       "         5.19762465e-03,  5.79513328e-03,  1.73905230e-02,\n",
       "         6.04796928e-03,  5.06327052e-02]])"
      ]
     },
     "execution_count": 26,
     "metadata": {},
     "output_type": "execute_result"
    }
   ],
   "source": [
    "cov_mat = (df.cov() * 252).to_numpy()\n",
    "cov_mat"
   ]
  },
  {
   "cell_type": "code",
   "execution_count": 27,
   "metadata": {},
   "outputs": [
    {
     "data": {
      "text/plain": [
       "2.9489308284402784"
      ]
     },
     "execution_count": 27,
     "metadata": {},
     "output_type": "execute_result"
    }
   ],
   "source": [
    "def sharpe(w: np.ndarray, mu: np.ndarray, sigma: np.ndarray, rf: float):\n",
    "    return ((w.T @ mu - rf) / (w.T @ sigma @ w) ** 0.5)[0][0]\n",
    "\n",
    "\n",
    "def init_w(n: int, random=True):\n",
    "    if random:\n",
    "        w = np.random.uniform(0, 1, (n, 1))\n",
    "        w /= w.sum()\n",
    "        return w\n",
    "    else:\n",
    "        w = np.zeros((n, 1))\n",
    "        w[0][0] = 1\n",
    "        return w\n",
    "\n",
    "\n",
    "sharpe(init_w(N), exp_ret, cov_mat, rf)"
   ]
  },
  {
   "cell_type": "markdown",
   "metadata": {},
   "source": [
    "# Genetic Algorithm\n"
   ]
  },
  {
   "cell_type": "code",
   "execution_count": 28,
   "metadata": {},
   "outputs": [],
   "source": [
    "def fitness(w: np.ndarray, tangency=True):\n",
    "    if abs(w.sum() - 1) > 1e-2:\n",
    "        return -(1e9 + 7)\n",
    "    if tangency:\n",
    "        return sharpe(w, exp_ret, cov_mat, 0.05)\n",
    "    else:\n",
    "        return (-w.T @ cov_mat @ w).flatten()[0]"
   ]
  },
  {
   "cell_type": "markdown",
   "metadata": {},
   "source": [
    "## Hyper-Parameters\n"
   ]
  },
  {
   "cell_type": "code",
   "execution_count": 29,
   "metadata": {},
   "outputs": [],
   "source": [
    "n_iter = 2000\n",
    "mutation_variation = 0.1\n",
    "offsprings = 200\n",
    "top_select = offsprings // 2"
   ]
  },
  {
   "cell_type": "markdown",
   "metadata": {},
   "source": [
    "## Run the Model\n"
   ]
  },
  {
   "cell_type": "code",
   "execution_count": 33,
   "metadata": {},
   "outputs": [
    {
     "name": "stdout",
     "output_type": "stream",
     "text": [
      "optimal solution 1: sharpe ratio = 1.538 with weights = [0.1137, 0.3287, 0.0195, 0.1958, 0.0426, 0.0004, 0.0774, 0.2221]\n",
      "optimal solution 2: sharpe ratio = 1.597 with weights = [0.1211, 0.3111, 0.022, 0.2099, 0.0288, 0.0004, 0.0724, 0.2343]\n",
      "optimal solution 3: sharpe ratio = 1.582 with weights = [0.1232, 0.3318, 0.0198, 0.193, 0.0414, 0.0004, 0.077, 0.2133]\n",
      "optimal solution 4: sharpe ratio = 1.561 with weights = [0.1185, 0.3114, 0.0202, 0.2088, 0.0293, 0.0006, 0.0806, 0.2305]\n",
      "optimal solution 5: sharpe ratio = 1.563 with weights = [0.1177, 0.3251, 0.0205, 0.1972, 0.0364, 0.0004, 0.0747, 0.228]\n"
     ]
    }
   ],
   "source": [
    "solutions = np.array([init_w(N) for _ in range(offsprings)])\n",
    "\n",
    "for i in range(n_iter):\n",
    "    fitness_values = np.array([fitness(w, tangency=False) for w in solutions])\n",
    "    ranked_indices = np.argsort(fitness_values)[::-1]\n",
    "    solutions = solutions[ranked_indices.astype(int)]\n",
    "\n",
    "    best = solutions[:top_select]\n",
    "\n",
    "    selected_indices = np.random.choice(top_select, size=offsprings)\n",
    "    mutated = best[selected_indices] * np.random.uniform(\n",
    "        1 - mutation_variation / 2, 1 + mutation_variation / 2, (offsprings, N, 1)\n",
    "    )\n",
    "    mutated /= mutated.sum(axis=1, keepdims=True)\n",
    "\n",
    "    solutions = mutated\n",
    "\n",
    "for i in range(5):\n",
    "    print(\n",
    "        f\"optimal solution {i+1}: sharpe ratio = {round(sharpe(solutions[i], exp_ret, cov_mat, rf), 3)} with weights = {np.round(solutions[i].T, 4).flatten().tolist()}\"\n",
    "    )\n",
    "\n",
    "w = solutions[0]"
   ]
  },
  {
   "cell_type": "markdown",
   "metadata": {},
   "source": [
    "# Overall Portfolio\n"
   ]
  },
  {
   "cell_type": "code",
   "execution_count": 34,
   "metadata": {},
   "outputs": [
    {
     "name": "stdout",
     "output_type": "stream",
     "text": [
      "For a capital amount of Rs. 100000:\n",
      "Invest Rs. 11368.84 in LTTS\n",
      "Invest Rs. 32865.22 in GMDCLTD\n",
      "Invest Rs. 1945.87 in PIIND\n",
      "Invest Rs. 19578.54 in SKFINDIA\n",
      "Invest Rs. 4262.06 in DRREDDY\n",
      "Invest Rs. 38.87 in INFY\n",
      "Invest Rs. 7735.15 in HCLTECH\n",
      "Invest Rs. 22205.45 in CUMMINSIND\n",
      "\n",
      "Expected Return of Entire Portfolio: 25.3%\n",
      "Risk of Entire Portfolio: 1.38%\n"
     ]
    }
   ],
   "source": [
    "capital = 100000\n",
    "\n",
    "print(f\"For a capital amount of Rs. {capital}:\")\n",
    "for i in range(N):\n",
    "    print(f\"Invest Rs. {round(w[i][0] * capital, 2)} in {companies[i]}\")\n",
    "\n",
    "print(\n",
    "    f\"\\nExpected Return of Entire Portfolio: {round((w.T @ exp_ret)[0][0] * 100, 2)}%\"\n",
    ")\n",
    "print(f\"Risk of Entire Portfolio: {round((w.T @ cov_mat @ w)[0][0] * 100, 2)}%\")"
   ]
  },
  {
   "cell_type": "code",
   "execution_count": 35,
   "metadata": {},
   "outputs": [
    {
     "data": {
      "text/plain": [
       "array([[0.01379017]])"
      ]
     },
     "execution_count": 35,
     "metadata": {},
     "output_type": "execute_result"
    }
   ],
   "source": [
    "w_eq = np.ones((N, 1)) / N\n",
    "w_eq.T @ exp_ret\n",
    "w_eq.T @ cov_mat @ w"
   ]
  }
 ],
 "metadata": {
  "kernelspec": {
   "display_name": "investing",
   "language": "python",
   "name": "python3"
  },
  "language_info": {
   "codemirror_mode": {
    "name": "ipython",
    "version": 3
   },
   "file_extension": ".py",
   "mimetype": "text/x-python",
   "name": "python",
   "nbconvert_exporter": "python",
   "pygments_lexer": "ipython3",
   "version": "3.11.5"
  }
 },
 "nbformat": 4,
 "nbformat_minor": 2
}
