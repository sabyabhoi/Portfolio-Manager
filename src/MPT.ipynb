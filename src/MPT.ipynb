{
 "cells": [
  {
   "cell_type": "code",
   "execution_count": 13,
   "metadata": {},
   "outputs": [],
   "source": [
    "import pandas as pd\n",
    "import yfinance as yf\n",
    "import numpy as np"
   ]
  },
  {
   "cell_type": "markdown",
   "metadata": {},
   "source": [
    "# Fetch and Clean Data\n"
   ]
  },
  {
   "cell_type": "code",
   "execution_count": 14,
   "metadata": {},
   "outputs": [
    {
     "name": "stdout",
     "output_type": "stream",
     "text": [
      "[*********************100%%**********************]  6 of 6 completed\n",
      "[*********************100%%**********************]  6 of 6 completed\n"
     ]
    },
    {
     "data": {
      "text/html": [
       "<div>\n",
       "<style scoped>\n",
       "    .dataframe tbody tr th:only-of-type {\n",
       "        vertical-align: middle;\n",
       "    }\n",
       "\n",
       "    .dataframe tbody tr th {\n",
       "        vertical-align: top;\n",
       "    }\n",
       "\n",
       "    .dataframe thead th {\n",
       "        text-align: right;\n",
       "    }\n",
       "</style>\n",
       "<table border=\"1\" class=\"dataframe\">\n",
       "  <thead>\n",
       "    <tr style=\"text-align: right;\">\n",
       "      <th></th>\n",
       "      <th>CUMMINSIND.NS</th>\n",
       "      <th>DRREDDY.NS</th>\n",
       "      <th>HCLTECH.NS</th>\n",
       "      <th>HDFCAMC.NS</th>\n",
       "      <th>LTTS.NS</th>\n",
       "      <th>MCDOWELL-N.NS</th>\n",
       "    </tr>\n",
       "    <tr>\n",
       "      <th>Date</th>\n",
       "      <th></th>\n",
       "      <th></th>\n",
       "      <th></th>\n",
       "      <th></th>\n",
       "      <th></th>\n",
       "      <th></th>\n",
       "    </tr>\n",
       "  </thead>\n",
       "  <tbody>\n",
       "    <tr>\n",
       "      <th>2018-08-07</th>\n",
       "      <td>-0.019391</td>\n",
       "      <td>0.010920</td>\n",
       "      <td>0.012859</td>\n",
       "      <td>-0.025331</td>\n",
       "      <td>-0.003745</td>\n",
       "      <td>-0.022370</td>\n",
       "    </tr>\n",
       "    <tr>\n",
       "      <th>2018-08-08</th>\n",
       "      <td>-0.004028</td>\n",
       "      <td>-0.005888</td>\n",
       "      <td>-0.004387</td>\n",
       "      <td>0.005480</td>\n",
       "      <td>-0.000702</td>\n",
       "      <td>0.029347</td>\n",
       "    </tr>\n",
       "    <tr>\n",
       "      <th>2018-08-09</th>\n",
       "      <td>-0.039635</td>\n",
       "      <td>-0.003474</td>\n",
       "      <td>-0.008190</td>\n",
       "      <td>-0.017194</td>\n",
       "      <td>0.005765</td>\n",
       "      <td>0.008429</td>\n",
       "    </tr>\n",
       "    <tr>\n",
       "      <th>2018-08-10</th>\n",
       "      <td>0.000536</td>\n",
       "      <td>-0.010457</td>\n",
       "      <td>0.009774</td>\n",
       "      <td>-0.000086</td>\n",
       "      <td>0.039149</td>\n",
       "      <td>-0.007785</td>\n",
       "    </tr>\n",
       "    <tr>\n",
       "      <th>2018-08-13</th>\n",
       "      <td>0.027015</td>\n",
       "      <td>0.012329</td>\n",
       "      <td>0.017598</td>\n",
       "      <td>-0.024787</td>\n",
       "      <td>0.019126</td>\n",
       "      <td>0.003964</td>\n",
       "    </tr>\n",
       "    <tr>\n",
       "      <th>...</th>\n",
       "      <td>...</td>\n",
       "      <td>...</td>\n",
       "      <td>...</td>\n",
       "      <td>...</td>\n",
       "      <td>...</td>\n",
       "      <td>...</td>\n",
       "    </tr>\n",
       "    <tr>\n",
       "      <th>2024-01-04</th>\n",
       "      <td>0.010523</td>\n",
       "      <td>-0.015122</td>\n",
       "      <td>-0.012380</td>\n",
       "      <td>0.027523</td>\n",
       "      <td>0.022385</td>\n",
       "      <td>0.009470</td>\n",
       "    </tr>\n",
       "    <tr>\n",
       "      <th>2024-01-05</th>\n",
       "      <td>0.002860</td>\n",
       "      <td>-0.001121</td>\n",
       "      <td>0.009050</td>\n",
       "      <td>-0.006839</td>\n",
       "      <td>-0.002266</td>\n",
       "      <td>-0.006810</td>\n",
       "    </tr>\n",
       "    <tr>\n",
       "      <th>2024-01-08</th>\n",
       "      <td>0.002952</td>\n",
       "      <td>-0.012732</td>\n",
       "      <td>0.010539</td>\n",
       "      <td>0.014091</td>\n",
       "      <td>-0.011317</td>\n",
       "      <td>-0.002952</td>\n",
       "    </tr>\n",
       "    <tr>\n",
       "      <th>2024-01-09</th>\n",
       "      <td>0.010777</td>\n",
       "      <td>-0.002005</td>\n",
       "      <td>0.008633</td>\n",
       "      <td>0.019432</td>\n",
       "      <td>0.016894</td>\n",
       "      <td>-0.001321</td>\n",
       "    </tr>\n",
       "    <tr>\n",
       "      <th>2024-01-10</th>\n",
       "      <td>0.009996</td>\n",
       "      <td>0.006505</td>\n",
       "      <td>0.021706</td>\n",
       "      <td>0.001069</td>\n",
       "      <td>0.018367</td>\n",
       "      <td>0.019154</td>\n",
       "    </tr>\n",
       "  </tbody>\n",
       "</table>\n",
       "<p>1339 rows × 6 columns</p>\n",
       "</div>"
      ],
      "text/plain": [
       "            CUMMINSIND.NS  DRREDDY.NS  HCLTECH.NS  HDFCAMC.NS   LTTS.NS  \\\n",
       "Date                                                                      \n",
       "2018-08-07      -0.019391    0.010920    0.012859   -0.025331 -0.003745   \n",
       "2018-08-08      -0.004028   -0.005888   -0.004387    0.005480 -0.000702   \n",
       "2018-08-09      -0.039635   -0.003474   -0.008190   -0.017194  0.005765   \n",
       "2018-08-10       0.000536   -0.010457    0.009774   -0.000086  0.039149   \n",
       "2018-08-13       0.027015    0.012329    0.017598   -0.024787  0.019126   \n",
       "...                   ...         ...         ...         ...       ...   \n",
       "2024-01-04       0.010523   -0.015122   -0.012380    0.027523  0.022385   \n",
       "2024-01-05       0.002860   -0.001121    0.009050   -0.006839 -0.002266   \n",
       "2024-01-08       0.002952   -0.012732    0.010539    0.014091 -0.011317   \n",
       "2024-01-09       0.010777   -0.002005    0.008633    0.019432  0.016894   \n",
       "2024-01-10       0.009996    0.006505    0.021706    0.001069  0.018367   \n",
       "\n",
       "            MCDOWELL-N.NS  \n",
       "Date                       \n",
       "2018-08-07      -0.022370  \n",
       "2018-08-08       0.029347  \n",
       "2018-08-09       0.008429  \n",
       "2018-08-10      -0.007785  \n",
       "2018-08-13       0.003964  \n",
       "...                   ...  \n",
       "2024-01-04       0.009470  \n",
       "2024-01-05      -0.006810  \n",
       "2024-01-08      -0.002952  \n",
       "2024-01-09      -0.001321  \n",
       "2024-01-10       0.019154  \n",
       "\n",
       "[1339 rows x 6 columns]"
      ]
     },
     "execution_count": 14,
     "metadata": {},
     "output_type": "execute_result"
    }
   ],
   "source": [
    "# companies = [\"POLYCAB\", \"ITC\", \"LTTS\", \"HCLTECH\", \"NMDC\", \"DRREDDY\", \"DEEPAKNTR\"]\n",
    "companies = [\n",
    "    \"HDFCAMC\",\n",
    "    \"CUMMINSIND\",\n",
    "    \"MCDOWELL-N\",\n",
    "    \"LTTS\",\n",
    "    \"HCLTECH\",\n",
    "    \"DRREDDY\",\n",
    "]\n",
    "N = len(companies)\n",
    "rf = 0.0721\n",
    "\n",
    "\n",
    "def get_returns(companies: list[str]):\n",
    "    companies_str = \" \".join([c + \".NS\" for c in companies])\n",
    "    df: pd.DataFrame = yf.download(companies_str, period=\"max\").dropna()[\"Adj Close\"]\n",
    "    return df.pct_change().dropna()\n",
    "\n",
    "\n",
    "def get_latest_price(companies: list[str]):\n",
    "    companies_str: str = \" \".join([c + \".NS\" for c in companies])\n",
    "    df: pd.DataFrame = yf.download(companies_str, period=\"max\").dropna()[\"Adj Close\"]\n",
    "    return df\n",
    "\n",
    "\n",
    "price = get_latest_price(companies)\n",
    "df = get_returns(companies)\n",
    "df"
   ]
  },
  {
   "cell_type": "code",
   "execution_count": 15,
   "metadata": {},
   "outputs": [
    {
     "data": {
      "text/plain": [
       "array([[0.31870142],\n",
       "       [0.24797284],\n",
       "       [0.32272884],\n",
       "       [0.20548085],\n",
       "       [0.39205593],\n",
       "       [0.17994564]])"
      ]
     },
     "execution_count": 15,
     "metadata": {},
     "output_type": "execute_result"
    }
   ],
   "source": [
    "exp_ret = (((1 + df.mean()) ** 252) - 1).to_numpy()\n",
    "\n",
    "exp_ret = exp_ret.reshape(len(exp_ret), 1)\n",
    "exp_ret"
   ]
  },
  {
   "cell_type": "code",
   "execution_count": 16,
   "metadata": {},
   "outputs": [
    {
     "data": {
      "text/plain": [
       "array([[0.10483888, 0.00708157, 0.01441232, 0.02792478, 0.02359838,\n",
       "        0.02475433],\n",
       "       [0.00708157, 0.06866456, 0.01734311, 0.01558069, 0.0178763 ,\n",
       "        0.01954789],\n",
       "       [0.01441232, 0.01734311, 0.07786287, 0.02318099, 0.04347692,\n",
       "        0.01999048],\n",
       "       [0.02792478, 0.01558069, 0.02318099, 0.10441392, 0.03171838,\n",
       "        0.03452324],\n",
       "       [0.02359838, 0.0178763 , 0.04347692, 0.03171838, 0.13915715,\n",
       "        0.02601364],\n",
       "       [0.02475433, 0.01954789, 0.01999048, 0.03452324, 0.02601364,\n",
       "        0.09631282]])"
      ]
     },
     "execution_count": 16,
     "metadata": {},
     "output_type": "execute_result"
    }
   ],
   "source": [
    "cov_mat = (df.cov() * 252).to_numpy()\n",
    "cov_mat"
   ]
  },
  {
   "cell_type": "code",
   "execution_count": 17,
   "metadata": {},
   "outputs": [
    {
     "data": {
      "text/plain": [
       "1.1909058366293208"
      ]
     },
     "execution_count": 17,
     "metadata": {},
     "output_type": "execute_result"
    }
   ],
   "source": [
    "def sharpe(w: np.ndarray, mu: np.ndarray, sigma: np.ndarray, rf: float):\n",
    "    return ((w.T @ mu - rf) / (w.T @ sigma @ w) ** 0.5)[0][0]\n",
    "\n",
    "\n",
    "def init_w(n: int, random=True):\n",
    "    if random:\n",
    "        w = np.random.uniform(0, 1, (n, 1))\n",
    "        w /= w.sum()\n",
    "        return w\n",
    "    else:\n",
    "        w = np.zeros((n, 1))\n",
    "        w[0][0] = 1\n",
    "        return w\n",
    "\n",
    "\n",
    "sharpe(init_w(N), exp_ret, cov_mat, rf)"
   ]
  },
  {
   "cell_type": "markdown",
   "metadata": {},
   "source": [
    "# Genetic Algorithm\n"
   ]
  },
  {
   "cell_type": "code",
   "execution_count": 18,
   "metadata": {},
   "outputs": [],
   "source": [
    "def fitness(w: np.ndarray, tangency=True):\n",
    "    if abs(w.sum() - 1) > 1e-2:\n",
    "        return -(1e9 + 7)\n",
    "    if tangency:\n",
    "        return sharpe(w, exp_ret, cov_mat, 0.05)\n",
    "    else:\n",
    "        return (-w.T @ cov_mat @ w).flatten()[0]"
   ]
  },
  {
   "cell_type": "markdown",
   "metadata": {},
   "source": [
    "## Hyper-Parameters\n"
   ]
  },
  {
   "cell_type": "code",
   "execution_count": 19,
   "metadata": {},
   "outputs": [],
   "source": [
    "n_iter = 2000\n",
    "mutation_variation = 0.1\n",
    "offsprings = 200\n",
    "top_select = offsprings // 2"
   ]
  },
  {
   "cell_type": "markdown",
   "metadata": {},
   "source": [
    "## Run the Model\n"
   ]
  },
  {
   "cell_type": "code",
   "execution_count": 53,
   "metadata": {},
   "outputs": [
    {
     "name": "stdout",
     "output_type": "stream",
     "text": [
      "optimal solution 1: sharpe ratio = 1.105 with weights = [0.1761, 0.3325, 0.2221, 0.0991, 0.0412, 0.129]\n",
      "optimal solution 2: sharpe ratio = 1.107 with weights = [0.1821, 0.3306, 0.2176, 0.1048, 0.0416, 0.1233]\n",
      "optimal solution 3: sharpe ratio = 1.106 with weights = [0.1841, 0.333, 0.208, 0.1128, 0.0445, 0.1177]\n",
      "optimal solution 4: sharpe ratio = 1.113 with weights = [0.1845, 0.3275, 0.2246, 0.1033, 0.0416, 0.1186]\n",
      "optimal solution 5: sharpe ratio = 1.098 with weights = [0.1927, 0.3129, 0.2097, 0.1147, 0.037, 0.133]\n",
      "optimal solution 6: sharpe ratio = 1.108 with weights = [0.1889, 0.3373, 0.2102, 0.101, 0.0419, 0.1207]\n",
      "optimal solution 7: sharpe ratio = 1.104 with weights = [0.1845, 0.3168, 0.223, 0.1122, 0.0378, 0.1258]\n",
      "optimal solution 8: sharpe ratio = 1.106 with weights = [0.1837, 0.3273, 0.2219, 0.0962, 0.0395, 0.1314]\n",
      "optimal solution 9: sharpe ratio = 1.108 with weights = [0.1983, 0.3293, 0.2015, 0.1046, 0.0433, 0.123]\n",
      "optimal solution 10: sharpe ratio = 1.111 with weights = [0.1896, 0.3194, 0.2217, 0.1088, 0.041, 0.1196]\n"
     ]
    }
   ],
   "source": [
    "solutions = np.array([init_w(N) for _ in range(offsprings)])\n",
    "\n",
    "for i in range(n_iter):\n",
    "    fitness_values = np.array([fitness(w, tangency=False) for w in solutions])\n",
    "    ranked_indices = np.argsort(fitness_values)[::-1]\n",
    "    solutions = solutions[ranked_indices.astype(int)]\n",
    "\n",
    "    best = solutions[:top_select]\n",
    "\n",
    "    selected_indices = np.random.choice(top_select, size=offsprings)\n",
    "    mutated = best[selected_indices] * np.random.uniform(\n",
    "        1 - mutation_variation / 2, 1 + mutation_variation / 2, (offsprings, N, 1)\n",
    "    )\n",
    "    mutated /= mutated.sum(axis=1, keepdims=True)\n",
    "\n",
    "    solutions = mutated\n",
    "\n",
    "for i in range(10):\n",
    "    print(\n",
    "        f\"optimal solution {i+1}: sharpe ratio = {round(sharpe(solutions[i], exp_ret, cov_mat, rf), 3)} with weights = {np.round(solutions[i].T, 4).flatten().tolist()}\"\n",
    "    )\n",
    "\n",
    "w = (\n",
    "    pd.DataFrame(solutions.reshape(solutions.shape[0], solutions.shape[1]))\n",
    "    .mean()\n",
    "    .to_numpy()\n",
    ")\n",
    "w /= w.sum()\n",
    "\n",
    "w = w.reshape(w.shape[0], 1)"
   ]
  },
  {
   "cell_type": "markdown",
   "metadata": {},
   "source": [
    "# Overall Portfolio\n"
   ]
  },
  {
   "cell_type": "code",
   "execution_count": 60,
   "metadata": {},
   "outputs": [
    {
     "name": "stdout",
     "output_type": "stream",
     "text": [
      "For a capital amount of Rs. 100000:\n",
      "Invest Rs. 18709.1 in HDFCAMC\n",
      "Invest Rs. 32289.98 in CUMMINSIND\n",
      "Invest Rs. 21897.27 in MCDOWELL-N\n",
      "Invest Rs. 10523.1 in LTTS\n",
      "Invest Rs. 4129.55 in HCLTECH\n",
      "Invest Rs. 12451.0 in DRREDDY\n",
      "\n",
      "Expected Return of Entire Portfolio: 27.06%\n",
      "Risk of Entire Portfolio: 3.21%\n"
     ]
    }
   ],
   "source": [
    "capital = 100000\n",
    "\n",
    "print(f\"For a capital amount of Rs. {capital}:\")\n",
    "for i in range(N):\n",
    "    print(f\"Invest Rs. {round(w[i][0] * capital, 2)} in {companies[i]}\")\n",
    "\n",
    "print(\n",
    "    f\"\\nExpected Return of Entire Portfolio: {round((w.T @ exp_ret)[0][0] * 100, 2)}%\"\n",
    ")\n",
    "print(f\"Risk of Entire Portfolio: {round((w.T @ cov_mat @ w)[0][0] * 100, 2)}%\")"
   ]
  },
  {
   "cell_type": "code",
   "execution_count": 67,
   "metadata": {},
   "outputs": [],
   "source": [
    "pd.DataFrame(cov_mat).to_excel(\"/tmp/foo.xlsx\")"
   ]
  },
  {
   "cell_type": "code",
   "execution_count": 69,
   "metadata": {},
   "outputs": [
    {
     "data": {
      "text/plain": [
       "0.032034382225316994"
      ]
     },
     "execution_count": 69,
     "metadata": {},
     "output_type": "execute_result"
    }
   ],
   "source": [
    "w_eq = np.ones((N, 1)) / N\n",
    "w_eq.T @ exp_ret\n",
    "(w_eq.T @ cov_mat @ w).flatten()[0]"
   ]
  }
 ],
 "metadata": {
  "kernelspec": {
   "display_name": "investing",
   "language": "python",
   "name": "python3"
  },
  "language_info": {
   "codemirror_mode": {
    "name": "ipython",
    "version": 3
   },
   "file_extension": ".py",
   "mimetype": "text/x-python",
   "name": "python",
   "nbconvert_exporter": "python",
   "pygments_lexer": "ipython3",
   "version": "3.11.6"
  }
 },
 "nbformat": 4,
 "nbformat_minor": 2
}
