{
 "cells": [
  {
   "cell_type": "code",
   "execution_count": 1,
   "metadata": {},
   "outputs": [],
   "source": [
    "import pandas as pd\n",
    "import numpy as np\n",
    "import yfinance as yf\n",
    "import matplotlib.pyplot as plt\n",
    "from scipy.stats import skew, kurtosis, normaltest\n",
    "import seaborn as sns\n",
    "\n",
    "sns.set_theme()"
   ]
  },
  {
   "cell_type": "code",
   "execution_count": 2,
   "metadata": {},
   "outputs": [
    {
     "name": "stdout",
     "output_type": "stream",
     "text": [
      "[*********************100%%**********************]  1 of 1 completed\n"
     ]
    },
    {
     "data": {
      "text/html": [
       "<div>\n",
       "<style scoped>\n",
       "    .dataframe tbody tr th:only-of-type {\n",
       "        vertical-align: middle;\n",
       "    }\n",
       "\n",
       "    .dataframe tbody tr th {\n",
       "        vertical-align: top;\n",
       "    }\n",
       "\n",
       "    .dataframe thead th {\n",
       "        text-align: right;\n",
       "    }\n",
       "</style>\n",
       "<table border=\"1\" class=\"dataframe\">\n",
       "  <thead>\n",
       "    <tr style=\"text-align: right;\">\n",
       "      <th></th>\n",
       "      <th>Open</th>\n",
       "      <th>High</th>\n",
       "      <th>Low</th>\n",
       "      <th>Close</th>\n",
       "      <th>Adj Close</th>\n",
       "      <th>Volume</th>\n",
       "    </tr>\n",
       "    <tr>\n",
       "      <th>Date</th>\n",
       "      <th></th>\n",
       "      <th></th>\n",
       "      <th></th>\n",
       "      <th></th>\n",
       "      <th></th>\n",
       "      <th></th>\n",
       "    </tr>\n",
       "  </thead>\n",
       "  <tbody>\n",
       "    <tr>\n",
       "      <th>2007-09-17</th>\n",
       "      <td>4518.450195</td>\n",
       "      <td>4549.049805</td>\n",
       "      <td>4482.850098</td>\n",
       "      <td>4494.649902</td>\n",
       "      <td>4494.649902</td>\n",
       "      <td>0</td>\n",
       "    </tr>\n",
       "    <tr>\n",
       "      <th>2007-09-18</th>\n",
       "      <td>4494.100098</td>\n",
       "      <td>4551.799805</td>\n",
       "      <td>4481.549805</td>\n",
       "      <td>4546.200195</td>\n",
       "      <td>4546.200195</td>\n",
       "      <td>0</td>\n",
       "    </tr>\n",
       "    <tr>\n",
       "      <th>2007-09-19</th>\n",
       "      <td>4550.250000</td>\n",
       "      <td>4739.000000</td>\n",
       "      <td>4550.250000</td>\n",
       "      <td>4732.350098</td>\n",
       "      <td>4732.350098</td>\n",
       "      <td>0</td>\n",
       "    </tr>\n",
       "    <tr>\n",
       "      <th>2007-09-20</th>\n",
       "      <td>4734.850098</td>\n",
       "      <td>4760.850098</td>\n",
       "      <td>4721.149902</td>\n",
       "      <td>4747.549805</td>\n",
       "      <td>4747.549805</td>\n",
       "      <td>0</td>\n",
       "    </tr>\n",
       "    <tr>\n",
       "      <th>2007-09-21</th>\n",
       "      <td>4752.950195</td>\n",
       "      <td>4855.700195</td>\n",
       "      <td>4733.700195</td>\n",
       "      <td>4837.549805</td>\n",
       "      <td>4837.549805</td>\n",
       "      <td>0</td>\n",
       "    </tr>\n",
       "    <tr>\n",
       "      <th>...</th>\n",
       "      <td>...</td>\n",
       "      <td>...</td>\n",
       "      <td>...</td>\n",
       "      <td>...</td>\n",
       "      <td>...</td>\n",
       "      <td>...</td>\n",
       "    </tr>\n",
       "    <tr>\n",
       "      <th>2023-12-29</th>\n",
       "      <td>21737.650391</td>\n",
       "      <td>21770.300781</td>\n",
       "      <td>21676.900391</td>\n",
       "      <td>21731.400391</td>\n",
       "      <td>21731.400391</td>\n",
       "      <td>270900</td>\n",
       "    </tr>\n",
       "    <tr>\n",
       "      <th>2024-01-02</th>\n",
       "      <td>21751.349609</td>\n",
       "      <td>21755.599609</td>\n",
       "      <td>21555.650391</td>\n",
       "      <td>21665.800781</td>\n",
       "      <td>21665.800781</td>\n",
       "      <td>263700</td>\n",
       "    </tr>\n",
       "    <tr>\n",
       "      <th>2024-01-03</th>\n",
       "      <td>21661.099609</td>\n",
       "      <td>21677.000000</td>\n",
       "      <td>21500.349609</td>\n",
       "      <td>21517.349609</td>\n",
       "      <td>21517.349609</td>\n",
       "      <td>311900</td>\n",
       "    </tr>\n",
       "    <tr>\n",
       "      <th>2024-01-04</th>\n",
       "      <td>21605.800781</td>\n",
       "      <td>21685.650391</td>\n",
       "      <td>21564.550781</td>\n",
       "      <td>21658.599609</td>\n",
       "      <td>21658.599609</td>\n",
       "      <td>339200</td>\n",
       "    </tr>\n",
       "    <tr>\n",
       "      <th>2024-01-05</th>\n",
       "      <td>21705.750000</td>\n",
       "      <td>21749.599609</td>\n",
       "      <td>21629.199219</td>\n",
       "      <td>21710.800781</td>\n",
       "      <td>21710.800781</td>\n",
       "      <td>309300</td>\n",
       "    </tr>\n",
       "  </tbody>\n",
       "</table>\n",
       "<p>3996 rows × 6 columns</p>\n",
       "</div>"
      ],
      "text/plain": [
       "                    Open          High           Low         Close  \\\n",
       "Date                                                                 \n",
       "2007-09-17   4518.450195   4549.049805   4482.850098   4494.649902   \n",
       "2007-09-18   4494.100098   4551.799805   4481.549805   4546.200195   \n",
       "2007-09-19   4550.250000   4739.000000   4550.250000   4732.350098   \n",
       "2007-09-20   4734.850098   4760.850098   4721.149902   4747.549805   \n",
       "2007-09-21   4752.950195   4855.700195   4733.700195   4837.549805   \n",
       "...                  ...           ...           ...           ...   \n",
       "2023-12-29  21737.650391  21770.300781  21676.900391  21731.400391   \n",
       "2024-01-02  21751.349609  21755.599609  21555.650391  21665.800781   \n",
       "2024-01-03  21661.099609  21677.000000  21500.349609  21517.349609   \n",
       "2024-01-04  21605.800781  21685.650391  21564.550781  21658.599609   \n",
       "2024-01-05  21705.750000  21749.599609  21629.199219  21710.800781   \n",
       "\n",
       "               Adj Close  Volume  \n",
       "Date                              \n",
       "2007-09-17   4494.649902       0  \n",
       "2007-09-18   4546.200195       0  \n",
       "2007-09-19   4732.350098       0  \n",
       "2007-09-20   4747.549805       0  \n",
       "2007-09-21   4837.549805       0  \n",
       "...                  ...     ...  \n",
       "2023-12-29  21731.400391  270900  \n",
       "2024-01-02  21665.800781  263700  \n",
       "2024-01-03  21517.349609  311900  \n",
       "2024-01-04  21658.599609  339200  \n",
       "2024-01-05  21710.800781  309300  \n",
       "\n",
       "[3996 rows x 6 columns]"
      ]
     },
     "execution_count": 2,
     "metadata": {},
     "output_type": "execute_result"
    }
   ],
   "source": [
    "df = yf.download(\"^NSEI\")\n",
    "df"
   ]
  },
  {
   "cell_type": "code",
   "execution_count": 3,
   "metadata": {},
   "outputs": [
    {
     "data": {
      "text/html": [
       "<div>\n",
       "<style scoped>\n",
       "    .dataframe tbody tr th:only-of-type {\n",
       "        vertical-align: middle;\n",
       "    }\n",
       "\n",
       "    .dataframe tbody tr th {\n",
       "        vertical-align: top;\n",
       "    }\n",
       "\n",
       "    .dataframe thead th {\n",
       "        text-align: right;\n",
       "    }\n",
       "</style>\n",
       "<table border=\"1\" class=\"dataframe\">\n",
       "  <thead>\n",
       "    <tr style=\"text-align: right;\">\n",
       "      <th></th>\n",
       "      <th>Open</th>\n",
       "      <th>High</th>\n",
       "      <th>Low</th>\n",
       "      <th>Close</th>\n",
       "      <th>Adj Close</th>\n",
       "      <th>Volume</th>\n",
       "      <th>Returns</th>\n",
       "    </tr>\n",
       "    <tr>\n",
       "      <th>Date</th>\n",
       "      <th></th>\n",
       "      <th></th>\n",
       "      <th></th>\n",
       "      <th></th>\n",
       "      <th></th>\n",
       "      <th></th>\n",
       "      <th></th>\n",
       "    </tr>\n",
       "  </thead>\n",
       "  <tbody>\n",
       "    <tr>\n",
       "      <th>2023-12-29</th>\n",
       "      <td>21737.650391</td>\n",
       "      <td>21770.300781</td>\n",
       "      <td>21676.900391</td>\n",
       "      <td>21731.400391</td>\n",
       "      <td>21731.400391</td>\n",
       "      <td>270900</td>\n",
       "      <td>-0.002172</td>\n",
       "    </tr>\n",
       "    <tr>\n",
       "      <th>2024-01-02</th>\n",
       "      <td>21751.349609</td>\n",
       "      <td>21755.599609</td>\n",
       "      <td>21555.650391</td>\n",
       "      <td>21665.800781</td>\n",
       "      <td>21665.800781</td>\n",
       "      <td>263700</td>\n",
       "      <td>-0.003019</td>\n",
       "    </tr>\n",
       "    <tr>\n",
       "      <th>2024-01-03</th>\n",
       "      <td>21661.099609</td>\n",
       "      <td>21677.000000</td>\n",
       "      <td>21500.349609</td>\n",
       "      <td>21517.349609</td>\n",
       "      <td>21517.349609</td>\n",
       "      <td>311900</td>\n",
       "      <td>-0.006852</td>\n",
       "    </tr>\n",
       "    <tr>\n",
       "      <th>2024-01-04</th>\n",
       "      <td>21605.800781</td>\n",
       "      <td>21685.650391</td>\n",
       "      <td>21564.550781</td>\n",
       "      <td>21658.599609</td>\n",
       "      <td>21658.599609</td>\n",
       "      <td>339200</td>\n",
       "      <td>0.006564</td>\n",
       "    </tr>\n",
       "    <tr>\n",
       "      <th>2024-01-05</th>\n",
       "      <td>21705.750000</td>\n",
       "      <td>21749.599609</td>\n",
       "      <td>21629.199219</td>\n",
       "      <td>21710.800781</td>\n",
       "      <td>21710.800781</td>\n",
       "      <td>309300</td>\n",
       "      <td>0.002410</td>\n",
       "    </tr>\n",
       "  </tbody>\n",
       "</table>\n",
       "</div>"
      ],
      "text/plain": [
       "                    Open          High           Low         Close  \\\n",
       "Date                                                                 \n",
       "2023-12-29  21737.650391  21770.300781  21676.900391  21731.400391   \n",
       "2024-01-02  21751.349609  21755.599609  21555.650391  21665.800781   \n",
       "2024-01-03  21661.099609  21677.000000  21500.349609  21517.349609   \n",
       "2024-01-04  21605.800781  21685.650391  21564.550781  21658.599609   \n",
       "2024-01-05  21705.750000  21749.599609  21629.199219  21710.800781   \n",
       "\n",
       "               Adj Close  Volume   Returns  \n",
       "Date                                        \n",
       "2023-12-29  21731.400391  270900 -0.002172  \n",
       "2024-01-02  21665.800781  263700 -0.003019  \n",
       "2024-01-03  21517.349609  311900 -0.006852  \n",
       "2024-01-04  21658.599609  339200  0.006564  \n",
       "2024-01-05  21710.800781  309300  0.002410  "
      ]
     },
     "execution_count": 3,
     "metadata": {},
     "output_type": "execute_result"
    }
   ],
   "source": [
    "df[\"Returns\"] = df.Close.pct_change()\n",
    "df = df.dropna()\n",
    "df.tail()"
   ]
  },
  {
   "cell_type": "code",
   "execution_count": 4,
   "metadata": {},
   "outputs": [
    {
     "data": {
      "text/plain": [
       "<Axes: xlabel='Date'>"
      ]
     },
     "execution_count": 4,
     "metadata": {},
     "output_type": "execute_result"
    },
    {
     "data": {
      "image/png": "[encoded data removed]",
      "text/plain": [
       "<Figure size 640x480 with 1 Axes>"
      ]
     },
     "metadata": {},
     "output_type": "display_data"
    }
   ],
   "source": [
    "df.Returns.plot()"
   ]
  },
  {
   "cell_type": "code",
   "execution_count": 5,
   "metadata": {},
   "outputs": [
    {
     "data": {
      "text/plain": [
       "<Axes: xlabel='Returns', ylabel='Density'>"
      ]
     },
     "execution_count": 5,
     "metadata": {},
     "output_type": "execute_result"
    },
    {
     "data": {
      "image/png": "[encoded data removed]",
      "text/plain": [
       "<Figure size 640x480 with 1 Axes>"
      ]
     },
     "metadata": {},
     "output_type": "display_data"
    }
   ],
   "source": [
    "sns.kdeplot(df.Returns)"
   ]
  },
  {
   "cell_type": "code",
   "execution_count": 10,
   "metadata": {},
   "outputs": [
    {
     "name": "stdout",
     "output_type": "stream",
     "text": [
      "Mean = 0.00049\n",
      "Standard Deviation = 0.014\n",
      "Skew = 0.066\n",
      "Kurtosis = 15.301\n"
     ]
    }
   ],
   "source": [
    "print(\n",
    "    \"Mean = %.5f\\nStandard Deviation = %.3f\\nSkew = %.3f\\nKurtosis = %.3f\"\n",
    "    % (df.Returns.mean(), df.Returns.std(), skew(df.Returns), kurtosis(df.Returns))\n",
    ")"
   ]
  },
  {
   "cell_type": "code",
   "execution_count": 15,
   "metadata": {},
   "outputs": [
    {
     "name": "stdout",
     "output_type": "stream",
     "text": [
      "Sharpe ratio = 0.2706\n"
     ]
    }
   ],
   "source": [
    "annual_ret = (1 + df.Returns.mean()) ** 252 - 1\n",
    "annual_vol = df.Returns.std() * np.sqrt(252)\n",
    "\n",
    "s = (annual_ret - 0.0721) / annual_vol\n",
    "print(\"Sharpe ratio = %.4f\" % s)"
   ]
  }
 ],
 "metadata": {
  "kernelspec": {
   "display_name": "investing",
   "language": "python",
   "name": "python3"
  },
  "language_info": {
   "codemirror_mode": {
    "name": "ipython",
    "version": 3
   },
   "file_extension": ".py",
   "mimetype": "text/x-python",
   "name": "python",
   "nbconvert_exporter": "python",
   "pygments_lexer": "ipython3",
   "version": "3.11.6"
  }
 },
 "nbformat": 4,
 "nbformat_minor": 2
}
